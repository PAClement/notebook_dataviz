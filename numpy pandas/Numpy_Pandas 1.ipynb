{
 "cells": [
  {
   "cell_type": "markdown",
   "id": "fc65b80d",
   "metadata": {},
   "source": [
    "# Pandas & Numpy\n",
    "\n",
    "- Pandas et NumPy sont deux bibliothèques Python largement utilisées dans le domaine de la science des données. Ces bibliothèques jouent un rôle essentiel dans la manipulation, l'analyse, et la transformation de données, ce qui en fait des outils incontournables pour les data scientists et les analystes de données. \n",
    "\n",
    "\n",
    "## Numpy : \n",
    "\n",
    "- NumPy, abréviation de \"Numerical Python\", est la bibliothèque de base pour la manipulation de tableaux multidimensionnels (tableaux ou matrices) en Python et effectuer des opérations mathématiques et statistiques sur ces tableaux.\n",
    "\n",
    "\n",
    "\n",
    "<img src='matrices.png' height=600 width=600 />\n",
    "\n",
    "\n",
    "\n",
    "## Pandas :\n",
    "\n",
    "- Pandas est une bibliothèque de haut niveau qui repose sur NumPy. Elle simplifie la manipulation et l'analyse de données tabulaires. Pandas introduit deux structures de données fondamentales : les séries (Series) et les DataFrames."
   ]
  },
  {
   "cell_type": "markdown",
   "id": "ec698462",
   "metadata": {},
   "source": [
    "## Some Numpy Functions"
   ]
  },
  {
   "cell_type": "code",
   "execution_count": 85,
   "id": "a05c7dbe",
   "metadata": {},
   "outputs": [],
   "source": [
    "import numpy as np\n",
    "import pandas as pd"
   ]
  },
  {
   "cell_type": "code",
   "execution_count": 86,
   "id": "5bc4a099",
   "metadata": {},
   "outputs": [
    {
     "data": {
      "text/plain": [
       "array([0, 1, 2, 3, 4, 5, 6, 7, 8, 9])"
      ]
     },
     "execution_count": 86,
     "metadata": {},
     "output_type": "execute_result"
    }
   ],
   "source": [
    "# Create an array from 0 to 10\n",
    "np.arange(10)"
   ]
  },
  {
   "cell_type": "code",
   "execution_count": 87,
   "id": "805b8078",
   "metadata": {},
   "outputs": [
    {
     "data": {
      "text/plain": [
       "[0, 1, 2, 3, 4, 5, 6, 7, 8, 9]"
      ]
     },
     "execution_count": 87,
     "metadata": {},
     "output_type": "execute_result"
    }
   ],
   "source": [
    "# Try to get the result of np.arange(10) using normal loop then using a List Comprehension\n",
    "\n",
    "[x for x in range(10)]"
   ]
  },
  {
   "cell_type": "code",
   "execution_count": 88,
   "id": "69a23722",
   "metadata": {},
   "outputs": [
    {
     "data": {
      "text/plain": [
       "array([1., 1., 1., 1., 1., 1.])"
      ]
     },
     "execution_count": 88,
     "metadata": {},
     "output_type": "execute_result"
    }
   ],
   "source": [
    "# Create an Identity Matrix\n",
    "\n",
    "np.ones(6)"
   ]
  },
  {
   "cell_type": "code",
   "execution_count": 89,
   "id": "01b1aacf",
   "metadata": {},
   "outputs": [
    {
     "data": {
      "text/plain": [
       "array([[1., 1.],\n",
       "       [1., 1.],\n",
       "       [1., 1.]])"
      ]
     },
     "execution_count": 89,
     "metadata": {},
     "output_type": "execute_result"
    }
   ],
   "source": [
    "# (rows, columns)\n",
    "np.ones((3,2))"
   ]
  },
  {
   "cell_type": "code",
   "execution_count": 90,
   "id": "dc2e91bb",
   "metadata": {},
   "outputs": [
    {
     "data": {
      "text/plain": [
       "array([[0., 0., 0., 0.],\n",
       "       [0., 0., 0., 0.],\n",
       "       [0., 0., 0., 0.],\n",
       "       [0., 0., 0., 0.]])"
      ]
     },
     "execution_count": 90,
     "metadata": {},
     "output_type": "execute_result"
    }
   ],
   "source": [
    "np.zeros((4,4))"
   ]
  },
  {
   "cell_type": "code",
   "execution_count": 91,
   "id": "8e502230",
   "metadata": {},
   "outputs": [
    {
     "data": {
      "text/plain": [
       "32.145917314645104"
      ]
     },
     "execution_count": 91,
     "metadata": {},
     "output_type": "execute_result"
    }
   ],
   "source": [
    "# Standard Deviation\n",
    "\n",
    "l = [1,3,12,9, 86]\n",
    "\n",
    "np.std(l)"
   ]
  },
  {
   "cell_type": "code",
   "execution_count": 8,
   "id": "1d61eba0",
   "metadata": {},
   "outputs": [],
   "source": [
    "# Create a function that calculates the mean, then another function that calculates the standard dev, \n",
    "# without using built-in functions. Both functions take a list as input\n",
    "\n",
    "# First the function that calculates the mean, then try to use this function in the one that calculates the std\n",
    "\n"
   ]
  },
  {
   "cell_type": "code",
   "execution_count": 12,
   "id": "2be4271e",
   "metadata": {},
   "outputs": [],
   "source": [
    "# Function that calculates STD, you can use np.sqrt() to calculate the square root\n",
    "\n",
    "    "
   ]
  },
  {
   "cell_type": "code",
   "execution_count": 9,
   "id": "34408538",
   "metadata": {},
   "outputs": [],
   "source": [
    "# Test your function\n",
    "\n",
    "liste = [12, 2, 4, 31, 5, 8]"
   ]
  },
  {
   "cell_type": "code",
   "execution_count": 10,
   "id": "8225e790",
   "metadata": {},
   "outputs": [
    {
     "data": {
      "text/plain": [
       "10.333333333333334"
      ]
     },
     "execution_count": 10,
     "metadata": {},
     "output_type": "execute_result"
    }
   ],
   "source": []
  },
  {
   "cell_type": "code",
   "execution_count": 11,
   "id": "e83060be",
   "metadata": {},
   "outputs": [
    {
     "data": {
      "text/plain": [
       "10.333333333333334"
      ]
     },
     "execution_count": 11,
     "metadata": {},
     "output_type": "execute_result"
    }
   ],
   "source": [
    "np.mean(liste)"
   ]
  },
  {
   "cell_type": "code",
   "execution_count": 92,
   "id": "daf613d0",
   "metadata": {},
   "outputs": [
    {
     "data": {
      "text/plain": [
       "array([[0, 1, 2],\n",
       "       [3, 4, 5],\n",
       "       [6, 7, 8]])"
      ]
     },
     "execution_count": 92,
     "metadata": {},
     "output_type": "execute_result"
    }
   ],
   "source": [
    "# Reshape an array\n",
    "np.arange(9).reshape(3,3)"
   ]
  },
  {
   "cell_type": "code",
   "execution_count": 94,
   "id": "9143ace0",
   "metadata": {},
   "outputs": [
    {
     "data": {
      "text/plain": [
       "array([4, 1, 1, 1, 4, 5, 1, 6, 5, 3])"
      ]
     },
     "execution_count": 94,
     "metadata": {},
     "output_type": "execute_result"
    }
   ],
   "source": [
    "# Lancer de dés aléatoire\n",
    "# lancer 10 fois, des valeurs entre 1 et 7 (exclu)\n",
    "\n",
    "np.random.randint(1,7,10)"
   ]
  },
  {
   "cell_type": "code",
   "execution_count": 95,
   "id": "321d6fbc",
   "metadata": {},
   "outputs": [
    {
     "data": {
      "text/plain": [
       "numpy.datetime64('2024-03-26')"
      ]
     },
     "execution_count": 95,
     "metadata": {},
     "output_type": "execute_result"
    }
   ],
   "source": [
    "np.datetime64('today')"
   ]
  },
  {
   "cell_type": "code",
   "execution_count": 96,
   "id": "ea333663",
   "metadata": {},
   "outputs": [
    {
     "data": {
      "text/plain": [
       "numpy.datetime64('2024-03-25')"
      ]
     },
     "execution_count": 96,
     "metadata": {},
     "output_type": "execute_result"
    }
   ],
   "source": [
    "# Yesterday\n",
    "np.datetime64('today') - np.timedelta64(1)"
   ]
  },
  {
   "cell_type": "code",
   "execution_count": 97,
   "id": "3f8ae574",
   "metadata": {},
   "outputs": [
    {
     "data": {
      "text/plain": [
       "numpy.datetime64('2024-03-25')"
      ]
     },
     "execution_count": 97,
     "metadata": {},
     "output_type": "execute_result"
    }
   ],
   "source": [
    "np.datetime64('today') - np.timedelta64(1, 'D')"
   ]
  },
  {
   "cell_type": "code",
   "execution_count": 98,
   "id": "ad1624ca",
   "metadata": {},
   "outputs": [
    {
     "data": {
      "text/plain": [
       "numpy.datetime64('2022')"
      ]
     },
     "execution_count": 98,
     "metadata": {},
     "output_type": "execute_result"
    }
   ],
   "source": [
    "np.datetime64('2023') - np.timedelta64(1, 'Y')"
   ]
  },
  {
   "cell_type": "markdown",
   "id": "d29803a3",
   "metadata": {},
   "source": [
    "## Pandas Data Structures"
   ]
  },
  {
   "cell_type": "code",
   "execution_count": 102,
   "id": "6e621738",
   "metadata": {},
   "outputs": [
    {
     "data": {
      "text/plain": [
       "['cat', 'cat', 'snake', 'dog', 'dog', 'cat', 'snake', 'cat', 'dog', 'dog']"
      ]
     },
     "execution_count": 102,
     "metadata": {},
     "output_type": "execute_result"
    }
   ],
   "source": [
    "# access the key 'animal'\n",
    "\n",
    "data['animal']"
   ]
  },
  {
   "cell_type": "code",
   "execution_count": 104,
   "id": "8bd0cd43",
   "metadata": {},
   "outputs": [
    {
     "data": {
      "text/plain": [
       "'yes'"
      ]
     },
     "execution_count": 104,
     "metadata": {},
     "output_type": "execute_result"
    }
   ],
   "source": [
    "# Get the first element of the key \"priority\"\n",
    "\n",
    "data['priority'][0]"
   ]
  },
  {
   "cell_type": "code",
   "execution_count": 116,
   "id": "b6298f99",
   "metadata": {},
   "outputs": [
    {
     "name": "stdout",
     "output_type": "stream",
     "text": [
      "Sam lives in France\n",
      "Tom lives in USA\n",
      "Kitty lives in Italy\n"
     ]
    }
   ],
   "source": [
    "# Create a Dictionary which has two keys 'names' and 'countries', each key is a list of three values \n",
    "# e.g. ['Sam', 'Tom', 'Steve'], then create a loop to print for ecah value in 'names' and 'countries' :\n",
    "\n",
    "# name lives in country\n",
    "\n",
    "# example : 'names' = ['Sam', 'Tom', 'Kitty'], 'countries' = ['France', 'USA', 'Italy']\n",
    "\n",
    "# Output : \n",
    "#          Sam lives in France\n",
    "#          Tom lives in USA\n",
    "#          Kitty lives in Italy\n",
    "\n",
    "\n",
    "d = {'names' : ['Sam', 'Tom', 'Kitty'], 'countries' : ['France', 'USA', 'Italy']}\n",
    "\n",
    "for name, country in zip(d['names'], d['countries']) :\n",
    "    \n",
    "    print(f\"{name} lives in {country}\")"
   ]
  },
  {
   "cell_type": "code",
   "execution_count": 117,
   "id": "69084cec",
   "metadata": {},
   "outputs": [
    {
     "data": {
      "text/plain": [
       "dict_items([('names', ['Sam', 'Tom', 'Kitty']), ('countries', ['France', 'USA', 'Italy'])])"
      ]
     },
     "execution_count": 117,
     "metadata": {},
     "output_type": "execute_result"
    }
   ],
   "source": [
    "d.items()"
   ]
  },
  {
   "cell_type": "code",
   "execution_count": 119,
   "id": "8927f105",
   "metadata": {},
   "outputs": [
    {
     "data": {
      "text/plain": [
       "(dict_keys(['names', 'countries']),\n",
       " dict_values([['Sam', 'Tom', 'Kitty'], ['France', 'USA', 'Italy']]))"
      ]
     },
     "execution_count": 119,
     "metadata": {},
     "output_type": "execute_result"
    }
   ],
   "source": [
    "d.keys(), d.values()"
   ]
  },
  {
   "cell_type": "code",
   "execution_count": 101,
   "id": "fe113399",
   "metadata": {},
   "outputs": [],
   "source": [
    "labels = ['a', 'b', 'c', 'd', 'e', 'f', 'g', 'h', 'i', 'j']"
   ]
  },
  {
   "cell_type": "code",
   "execution_count": 100,
   "id": "db017fd8",
   "metadata": {},
   "outputs": [],
   "source": [
    "data = {'animal': ['cat', 'cat', 'snake', 'dog', 'dog', 'cat', 'snake', 'cat', 'dog', 'dog'],\n",
    "        'age': [2.5, 3, 0.5, np.nan, 5, 2, 4.5, np.nan, 7, 3],\n",
    "        'visits': [1, 3, 2, 3, 2, 3, 1, 1, 2, 1],\n",
    "        'priority': ['yes', 'yes', 'no', 'yes', 'no', 'no', 'no', 'yes', 'no', 'no']}"
   ]
  },
  {
   "cell_type": "code",
   "execution_count": 120,
   "id": "3d649540",
   "metadata": {},
   "outputs": [],
   "source": [
    "df = pd.DataFrame(data, index = labels)"
   ]
  },
  {
   "cell_type": "code",
   "execution_count": 121,
   "id": "bf166754",
   "metadata": {},
   "outputs": [
    {
     "data": {
      "text/html": [
       "<div>\n",
       "<style scoped>\n",
       "    .dataframe tbody tr th:only-of-type {\n",
       "        vertical-align: middle;\n",
       "    }\n",
       "\n",
       "    .dataframe tbody tr th {\n",
       "        vertical-align: top;\n",
       "    }\n",
       "\n",
       "    .dataframe thead th {\n",
       "        text-align: right;\n",
       "    }\n",
       "</style>\n",
       "<table border=\"1\" class=\"dataframe\">\n",
       "  <thead>\n",
       "    <tr style=\"text-align: right;\">\n",
       "      <th></th>\n",
       "      <th>animal</th>\n",
       "      <th>age</th>\n",
       "      <th>visits</th>\n",
       "      <th>priority</th>\n",
       "    </tr>\n",
       "  </thead>\n",
       "  <tbody>\n",
       "    <tr>\n",
       "      <th>a</th>\n",
       "      <td>cat</td>\n",
       "      <td>2.5</td>\n",
       "      <td>1</td>\n",
       "      <td>yes</td>\n",
       "    </tr>\n",
       "    <tr>\n",
       "      <th>b</th>\n",
       "      <td>cat</td>\n",
       "      <td>3.0</td>\n",
       "      <td>3</td>\n",
       "      <td>yes</td>\n",
       "    </tr>\n",
       "    <tr>\n",
       "      <th>c</th>\n",
       "      <td>snake</td>\n",
       "      <td>0.5</td>\n",
       "      <td>2</td>\n",
       "      <td>no</td>\n",
       "    </tr>\n",
       "    <tr>\n",
       "      <th>d</th>\n",
       "      <td>dog</td>\n",
       "      <td>NaN</td>\n",
       "      <td>3</td>\n",
       "      <td>yes</td>\n",
       "    </tr>\n",
       "    <tr>\n",
       "      <th>e</th>\n",
       "      <td>dog</td>\n",
       "      <td>5.0</td>\n",
       "      <td>2</td>\n",
       "      <td>no</td>\n",
       "    </tr>\n",
       "    <tr>\n",
       "      <th>f</th>\n",
       "      <td>cat</td>\n",
       "      <td>2.0</td>\n",
       "      <td>3</td>\n",
       "      <td>no</td>\n",
       "    </tr>\n",
       "    <tr>\n",
       "      <th>g</th>\n",
       "      <td>snake</td>\n",
       "      <td>4.5</td>\n",
       "      <td>1</td>\n",
       "      <td>no</td>\n",
       "    </tr>\n",
       "    <tr>\n",
       "      <th>h</th>\n",
       "      <td>cat</td>\n",
       "      <td>NaN</td>\n",
       "      <td>1</td>\n",
       "      <td>yes</td>\n",
       "    </tr>\n",
       "    <tr>\n",
       "      <th>i</th>\n",
       "      <td>dog</td>\n",
       "      <td>7.0</td>\n",
       "      <td>2</td>\n",
       "      <td>no</td>\n",
       "    </tr>\n",
       "    <tr>\n",
       "      <th>j</th>\n",
       "      <td>dog</td>\n",
       "      <td>3.0</td>\n",
       "      <td>1</td>\n",
       "      <td>no</td>\n",
       "    </tr>\n",
       "  </tbody>\n",
       "</table>\n",
       "</div>"
      ],
      "text/plain": [
       "  animal  age  visits priority\n",
       "a    cat  2.5       1      yes\n",
       "b    cat  3.0       3      yes\n",
       "c  snake  0.5       2       no\n",
       "d    dog  NaN       3      yes\n",
       "e    dog  5.0       2       no\n",
       "f    cat  2.0       3       no\n",
       "g  snake  4.5       1       no\n",
       "h    cat  NaN       1      yes\n",
       "i    dog  7.0       2       no\n",
       "j    dog  3.0       1       no"
      ]
     },
     "execution_count": 121,
     "metadata": {},
     "output_type": "execute_result"
    }
   ],
   "source": [
    "df"
   ]
  },
  {
   "cell_type": "code",
   "execution_count": 19,
   "id": "bbd49f31",
   "metadata": {},
   "outputs": [
    {
     "data": {
      "text/plain": [
       "pandas.core.frame.DataFrame"
      ]
     },
     "execution_count": 19,
     "metadata": {},
     "output_type": "execute_result"
    }
   ],
   "source": [
    "type(df)"
   ]
  },
  {
   "cell_type": "code",
   "execution_count": 122,
   "id": "c181c5dd",
   "metadata": {},
   "outputs": [
    {
     "data": {
      "text/plain": [
       "a      cat\n",
       "b      cat\n",
       "c    snake\n",
       "d      dog\n",
       "e      dog\n",
       "f      cat\n",
       "g    snake\n",
       "h      cat\n",
       "i      dog\n",
       "j      dog\n",
       "Name: animal, dtype: object"
      ]
     },
     "execution_count": 122,
     "metadata": {},
     "output_type": "execute_result"
    }
   ],
   "source": [
    "df['animal']"
   ]
  },
  {
   "cell_type": "code",
   "execution_count": 123,
   "id": "eba4591f",
   "metadata": {},
   "outputs": [
    {
     "data": {
      "text/plain": [
       "pandas.core.series.Series"
      ]
     },
     "execution_count": 123,
     "metadata": {},
     "output_type": "execute_result"
    }
   ],
   "source": [
    "type(df['animal'])"
   ]
  },
  {
   "cell_type": "markdown",
   "id": "81762422",
   "metadata": {},
   "source": [
    "## Read CSVs as DataFrames with Pandas\n",
    "\n",
    "<details>\n",
    "    <summary>Columns Meaning</summary>\n",
    "\n",
    "- Title: The name of the animation.\n",
    "\n",
    "- Genre: The genre(s) under which the animation falls, e.g., Action, Adventure, etc.\n",
    "\n",
    "- User Rating: The IMDb user rating out of 10.\n",
    "\n",
    "- Number of Votes: The total number of IMDb users who have rated the animation.\n",
    "\n",
    "- Runtime: The duration of the animation in minutes.\n",
    "\n",
    "- Year: The year the animation was released or started airing.\n",
    "\n",
    "- Summary: A brief or full summary of the animation's plot. Full summaries are fetched when available.\n",
    "\n",
    "- Stars: List of main actors or voice actors involved in the animation.\n",
    "\n",
    "- Certificate: The certification of the animation, e.g., PG, PG-13, etc.\n",
    "\n",
    "- Metascore: The Metascore rating, if available, which is an aggregated score from various critics.\n",
    "\n",
    "- Gross: The gross earnings or box office collection of the animation.\n",
    "\n",
    "- Episode: A binary flag indicating whether the listing is for an episode of a series (1 for yes, 0 for no).\n",
    "\n",
    "- Episode Title: The title of the episode if the listing is for an episode; otherwise, it will be None.\n",
    "    \n",
    "</details>"
   ]
  },
  {
   "cell_type": "markdown",
   "id": "3e9af6ed",
   "metadata": {},
   "source": [
    "<img src=\"anime.png\" width=1000 height=800 />"
   ]
  },
  {
   "cell_type": "code",
   "execution_count": 124,
   "id": "8daa0ad0",
   "metadata": {},
   "outputs": [],
   "source": [
    "data = pd.read_csv(\"imdb_anime.csv\")"
   ]
  },
  {
   "cell_type": "code",
   "execution_count": 125,
   "id": "c8cc0c58",
   "metadata": {},
   "outputs": [
    {
     "name": "stdout",
     "output_type": "stream",
     "text": [
      "<class 'pandas.core.frame.DataFrame'>\n",
      "RangeIndex: 45717 entries, 0 to 45716\n",
      "Data columns (total 13 columns):\n",
      " #   Column           Non-Null Count  Dtype \n",
      "---  ------           --------------  ----- \n",
      " 0   Title            45717 non-null  object\n",
      " 1   Genre            45717 non-null  object\n",
      " 2   User Rating      25009 non-null  object\n",
      " 3   Number of Votes  25009 non-null  object\n",
      " 4   Runtime          32549 non-null  object\n",
      " 5   Year             45591 non-null  object\n",
      " 6   Summary          23547 non-null  object\n",
      " 7   Stars            13676 non-null  object\n",
      " 8   Certificate      28694 non-null  object\n",
      " 9   Metascore        341 non-null    object\n",
      " 10  Gross            25009 non-null  object\n",
      " 11  Episode          45717 non-null  object\n",
      " 12  Episode Title    34910 non-null  object\n",
      "dtypes: object(13)\n",
      "memory usage: 4.5+ MB\n"
     ]
    }
   ],
   "source": [
    "data.info()"
   ]
  },
  {
   "cell_type": "code",
   "execution_count": 79,
   "id": "94a57f56",
   "metadata": {},
   "outputs": [
    {
     "data": {
      "text/html": [
       "<div>\n",
       "<style scoped>\n",
       "    .dataframe tbody tr th:only-of-type {\n",
       "        vertical-align: middle;\n",
       "    }\n",
       "\n",
       "    .dataframe tbody tr th {\n",
       "        vertical-align: top;\n",
       "    }\n",
       "\n",
       "    .dataframe thead th {\n",
       "        text-align: right;\n",
       "    }\n",
       "</style>\n",
       "<table border=\"1\" class=\"dataframe\">\n",
       "  <thead>\n",
       "    <tr style=\"text-align: right;\">\n",
       "      <th></th>\n",
       "      <th>Title</th>\n",
       "      <th>Genre</th>\n",
       "      <th>User Rating</th>\n",
       "      <th>Number of Votes</th>\n",
       "      <th>Runtime</th>\n",
       "      <th>Year</th>\n",
       "      <th>Summary</th>\n",
       "      <th>Stars</th>\n",
       "      <th>Certificate</th>\n",
       "      <th>Metascore</th>\n",
       "      <th>Gross</th>\n",
       "      <th>Episode</th>\n",
       "      <th>Episode Title</th>\n",
       "    </tr>\n",
       "  </thead>\n",
       "  <tbody>\n",
       "    <tr>\n",
       "      <th>0</th>\n",
       "      <td>False</td>\n",
       "      <td>False</td>\n",
       "      <td>False</td>\n",
       "      <td>False</td>\n",
       "      <td>False</td>\n",
       "      <td>False</td>\n",
       "      <td>False</td>\n",
       "      <td>False</td>\n",
       "      <td>False</td>\n",
       "      <td>True</td>\n",
       "      <td>False</td>\n",
       "      <td>False</td>\n",
       "      <td>True</td>\n",
       "    </tr>\n",
       "    <tr>\n",
       "      <th>1</th>\n",
       "      <td>False</td>\n",
       "      <td>False</td>\n",
       "      <td>False</td>\n",
       "      <td>False</td>\n",
       "      <td>False</td>\n",
       "      <td>False</td>\n",
       "      <td>False</td>\n",
       "      <td>True</td>\n",
       "      <td>False</td>\n",
       "      <td>False</td>\n",
       "      <td>False</td>\n",
       "      <td>False</td>\n",
       "      <td>True</td>\n",
       "    </tr>\n",
       "    <tr>\n",
       "      <th>2</th>\n",
       "      <td>False</td>\n",
       "      <td>False</td>\n",
       "      <td>False</td>\n",
       "      <td>False</td>\n",
       "      <td>False</td>\n",
       "      <td>False</td>\n",
       "      <td>False</td>\n",
       "      <td>True</td>\n",
       "      <td>False</td>\n",
       "      <td>False</td>\n",
       "      <td>False</td>\n",
       "      <td>False</td>\n",
       "      <td>True</td>\n",
       "    </tr>\n",
       "    <tr>\n",
       "      <th>3</th>\n",
       "      <td>False</td>\n",
       "      <td>False</td>\n",
       "      <td>False</td>\n",
       "      <td>False</td>\n",
       "      <td>False</td>\n",
       "      <td>False</td>\n",
       "      <td>False</td>\n",
       "      <td>False</td>\n",
       "      <td>False</td>\n",
       "      <td>True</td>\n",
       "      <td>False</td>\n",
       "      <td>False</td>\n",
       "      <td>True</td>\n",
       "    </tr>\n",
       "    <tr>\n",
       "      <th>4</th>\n",
       "      <td>False</td>\n",
       "      <td>False</td>\n",
       "      <td>False</td>\n",
       "      <td>False</td>\n",
       "      <td>False</td>\n",
       "      <td>False</td>\n",
       "      <td>False</td>\n",
       "      <td>False</td>\n",
       "      <td>False</td>\n",
       "      <td>True</td>\n",
       "      <td>False</td>\n",
       "      <td>False</td>\n",
       "      <td>True</td>\n",
       "    </tr>\n",
       "    <tr>\n",
       "      <th>...</th>\n",
       "      <td>...</td>\n",
       "      <td>...</td>\n",
       "      <td>...</td>\n",
       "      <td>...</td>\n",
       "      <td>...</td>\n",
       "      <td>...</td>\n",
       "      <td>...</td>\n",
       "      <td>...</td>\n",
       "      <td>...</td>\n",
       "      <td>...</td>\n",
       "      <td>...</td>\n",
       "      <td>...</td>\n",
       "      <td>...</td>\n",
       "    </tr>\n",
       "    <tr>\n",
       "      <th>45712</th>\n",
       "      <td>False</td>\n",
       "      <td>False</td>\n",
       "      <td>False</td>\n",
       "      <td>False</td>\n",
       "      <td>False</td>\n",
       "      <td>False</td>\n",
       "      <td>False</td>\n",
       "      <td>True</td>\n",
       "      <td>False</td>\n",
       "      <td>True</td>\n",
       "      <td>False</td>\n",
       "      <td>False</td>\n",
       "      <td>False</td>\n",
       "    </tr>\n",
       "    <tr>\n",
       "      <th>45713</th>\n",
       "      <td>False</td>\n",
       "      <td>False</td>\n",
       "      <td>False</td>\n",
       "      <td>False</td>\n",
       "      <td>False</td>\n",
       "      <td>False</td>\n",
       "      <td>False</td>\n",
       "      <td>True</td>\n",
       "      <td>False</td>\n",
       "      <td>True</td>\n",
       "      <td>False</td>\n",
       "      <td>False</td>\n",
       "      <td>False</td>\n",
       "    </tr>\n",
       "    <tr>\n",
       "      <th>45714</th>\n",
       "      <td>False</td>\n",
       "      <td>False</td>\n",
       "      <td>False</td>\n",
       "      <td>False</td>\n",
       "      <td>True</td>\n",
       "      <td>False</td>\n",
       "      <td>False</td>\n",
       "      <td>False</td>\n",
       "      <td>False</td>\n",
       "      <td>True</td>\n",
       "      <td>False</td>\n",
       "      <td>False</td>\n",
       "      <td>False</td>\n",
       "    </tr>\n",
       "    <tr>\n",
       "      <th>45715</th>\n",
       "      <td>False</td>\n",
       "      <td>False</td>\n",
       "      <td>True</td>\n",
       "      <td>True</td>\n",
       "      <td>False</td>\n",
       "      <td>False</td>\n",
       "      <td>True</td>\n",
       "      <td>False</td>\n",
       "      <td>False</td>\n",
       "      <td>True</td>\n",
       "      <td>True</td>\n",
       "      <td>False</td>\n",
       "      <td>False</td>\n",
       "    </tr>\n",
       "    <tr>\n",
       "      <th>45716</th>\n",
       "      <td>False</td>\n",
       "      <td>False</td>\n",
       "      <td>False</td>\n",
       "      <td>False</td>\n",
       "      <td>False</td>\n",
       "      <td>False</td>\n",
       "      <td>False</td>\n",
       "      <td>True</td>\n",
       "      <td>True</td>\n",
       "      <td>True</td>\n",
       "      <td>False</td>\n",
       "      <td>False</td>\n",
       "      <td>False</td>\n",
       "    </tr>\n",
       "  </tbody>\n",
       "</table>\n",
       "<p>45717 rows × 13 columns</p>\n",
       "</div>"
      ],
      "text/plain": [
       "       Title  Genre  User Rating  Number of Votes  Runtime   Year  Summary  \\\n",
       "0      False  False        False            False    False  False    False   \n",
       "1      False  False        False            False    False  False    False   \n",
       "2      False  False        False            False    False  False    False   \n",
       "3      False  False        False            False    False  False    False   \n",
       "4      False  False        False            False    False  False    False   \n",
       "...      ...    ...          ...              ...      ...    ...      ...   \n",
       "45712  False  False        False            False    False  False    False   \n",
       "45713  False  False        False            False    False  False    False   \n",
       "45714  False  False        False            False     True  False    False   \n",
       "45715  False  False         True             True    False  False     True   \n",
       "45716  False  False        False            False    False  False    False   \n",
       "\n",
       "       Stars  Certificate  Metascore  Gross  Episode  Episode Title  \n",
       "0      False        False       True  False    False           True  \n",
       "1       True        False      False  False    False           True  \n",
       "2       True        False      False  False    False           True  \n",
       "3      False        False       True  False    False           True  \n",
       "4      False        False       True  False    False           True  \n",
       "...      ...          ...        ...    ...      ...            ...  \n",
       "45712   True        False       True  False    False          False  \n",
       "45713   True        False       True  False    False          False  \n",
       "45714  False        False       True  False    False          False  \n",
       "45715  False        False       True   True    False          False  \n",
       "45716   True         True       True  False    False          False  \n",
       "\n",
       "[45717 rows x 13 columns]"
      ]
     },
     "execution_count": 79,
     "metadata": {},
     "output_type": "execute_result"
    }
   ],
   "source": [
    "data.isnull()"
   ]
  },
  {
   "cell_type": "code",
   "execution_count": 128,
   "id": "262b30fa",
   "metadata": {},
   "outputs": [
    {
     "data": {
      "text/plain": [
       "(45717, 13)"
      ]
     },
     "execution_count": 128,
     "metadata": {},
     "output_type": "execute_result"
    }
   ],
   "source": [
    "# (lignes, colonnes)\n",
    "data.shape"
   ]
  },
  {
   "cell_type": "code",
   "execution_count": 127,
   "id": "d27d6d8d",
   "metadata": {},
   "outputs": [
    {
     "data": {
      "text/plain": [
       "Title              0.000000\n",
       "Genre              0.000000\n",
       "User Rating        0.452961\n",
       "Number of Votes    0.452961\n",
       "Runtime            0.288033\n",
       "Year               0.002756\n",
       "Summary            0.484940\n",
       "Stars              0.700855\n",
       "Certificate        0.372356\n",
       "Metascore          0.992541\n",
       "Gross              0.452961\n",
       "Episode            0.000000\n",
       "Episode Title      0.236389\n",
       "dtype: float64"
      ]
     },
     "execution_count": 127,
     "metadata": {},
     "output_type": "execute_result"
    }
   ],
   "source": [
    "# Use isnull().sum() to know number of missing values per column\n",
    "\n",
    "data.isnull().sum() / data.shape[0]"
   ]
  },
  {
   "cell_type": "code",
   "execution_count": 25,
   "id": "dd3b13e6",
   "metadata": {},
   "outputs": [
    {
     "data": {
      "text/html": [
       "<div>\n",
       "<style scoped>\n",
       "    .dataframe tbody tr th:only-of-type {\n",
       "        vertical-align: middle;\n",
       "    }\n",
       "\n",
       "    .dataframe tbody tr th {\n",
       "        vertical-align: top;\n",
       "    }\n",
       "\n",
       "    .dataframe thead th {\n",
       "        text-align: right;\n",
       "    }\n",
       "</style>\n",
       "<table border=\"1\" class=\"dataframe\">\n",
       "  <thead>\n",
       "    <tr style=\"text-align: right;\">\n",
       "      <th></th>\n",
       "      <th>Title</th>\n",
       "      <th>Genre</th>\n",
       "      <th>User Rating</th>\n",
       "      <th>Number of Votes</th>\n",
       "      <th>Runtime</th>\n",
       "      <th>Year</th>\n",
       "      <th>Summary</th>\n",
       "      <th>Stars</th>\n",
       "      <th>Certificate</th>\n",
       "      <th>Metascore</th>\n",
       "      <th>Gross</th>\n",
       "      <th>Episode</th>\n",
       "      <th>Episode Title</th>\n",
       "    </tr>\n",
       "  </thead>\n",
       "  <tbody>\n",
       "    <tr>\n",
       "      <th>count</th>\n",
       "      <td>45717</td>\n",
       "      <td>45717</td>\n",
       "      <td>25009</td>\n",
       "      <td>25009</td>\n",
       "      <td>32549</td>\n",
       "      <td>45591</td>\n",
       "      <td>23547</td>\n",
       "      <td>13676</td>\n",
       "      <td>28694</td>\n",
       "      <td>341</td>\n",
       "      <td>25009</td>\n",
       "      <td>45717</td>\n",
       "      <td>34910</td>\n",
       "    </tr>\n",
       "    <tr>\n",
       "      <th>unique</th>\n",
       "      <td>9851</td>\n",
       "      <td>201</td>\n",
       "      <td>87</td>\n",
       "      <td>3033</td>\n",
       "      <td>196</td>\n",
       "      <td>740</td>\n",
       "      <td>22588</td>\n",
       "      <td>6460</td>\n",
       "      <td>33</td>\n",
       "      <td>60</td>\n",
       "      <td>3033</td>\n",
       "      <td>3</td>\n",
       "      <td>33779</td>\n",
       "    </tr>\n",
       "    <tr>\n",
       "      <th>top</th>\n",
       "      <td>Doraemon</td>\n",
       "      <td>Animation, Action, Adventure</td>\n",
       "      <td>7.6</td>\n",
       "      <td>7</td>\n",
       "      <td>24 min</td>\n",
       "      <td>(1969– )</td>\n",
       "      <td>A young teen who surfs the skies with his ref ...</td>\n",
       "      <td>Nobuyo Ôyama,Noriko Ohara,Michiko Nomura,Kazuy...</td>\n",
       "      <td>TV-14</td>\n",
       "      <td>74</td>\n",
       "      <td>7</td>\n",
       "      <td>1</td>\n",
       "      <td>Episode #1.4</td>\n",
       "    </tr>\n",
       "    <tr>\n",
       "      <th>freq</th>\n",
       "      <td>2758</td>\n",
       "      <td>13568</td>\n",
       "      <td>1270</td>\n",
       "      <td>567</td>\n",
       "      <td>9636</td>\n",
       "      <td>2399</td>\n",
       "      <td>25</td>\n",
       "      <td>765</td>\n",
       "      <td>10033</td>\n",
       "      <td>21</td>\n",
       "      <td>567</td>\n",
       "      <td>34909</td>\n",
       "      <td>12</td>\n",
       "    </tr>\n",
       "  </tbody>\n",
       "</table>\n",
       "</div>"
      ],
      "text/plain": [
       "           Title                         Genre User Rating Number of Votes  \\\n",
       "count      45717                         45717       25009           25009   \n",
       "unique      9851                           201          87            3033   \n",
       "top     Doraemon  Animation, Action, Adventure         7.6               7   \n",
       "freq        2758                         13568        1270             567   \n",
       "\n",
       "       Runtime      Year                                            Summary  \\\n",
       "count    32549     45591                                              23547   \n",
       "unique     196       740                                              22588   \n",
       "top     24 min  (1969– )  A young teen who surfs the skies with his ref ...   \n",
       "freq      9636      2399                                                 25   \n",
       "\n",
       "                                                    Stars Certificate  \\\n",
       "count                                               13676       28694   \n",
       "unique                                               6460          33   \n",
       "top     Nobuyo Ôyama,Noriko Ohara,Michiko Nomura,Kazuy...       TV-14   \n",
       "freq                                                  765       10033   \n",
       "\n",
       "         Metascore  Gross Episode Episode Title  \n",
       "count          341  25009   45717         34910  \n",
       "unique          60   3033       3         33779  \n",
       "top     74              7       1  Episode #1.4  \n",
       "freq            21    567   34909            12  "
      ]
     },
     "execution_count": 25,
     "metadata": {},
     "output_type": "execute_result"
    }
   ],
   "source": [
    "data.describe()"
   ]
  },
  {
   "cell_type": "code",
   "execution_count": 130,
   "id": "cb799dce",
   "metadata": {},
   "outputs": [
    {
     "data": {
      "text/html": [
       "<div>\n",
       "<style scoped>\n",
       "    .dataframe tbody tr th:only-of-type {\n",
       "        vertical-align: middle;\n",
       "    }\n",
       "\n",
       "    .dataframe tbody tr th {\n",
       "        vertical-align: top;\n",
       "    }\n",
       "\n",
       "    .dataframe thead th {\n",
       "        text-align: right;\n",
       "    }\n",
       "</style>\n",
       "<table border=\"1\" class=\"dataframe\">\n",
       "  <thead>\n",
       "    <tr style=\"text-align: right;\">\n",
       "      <th></th>\n",
       "      <th>Title</th>\n",
       "      <th>Genre</th>\n",
       "      <th>User Rating</th>\n",
       "      <th>Number of Votes</th>\n",
       "      <th>Runtime</th>\n",
       "      <th>Year</th>\n",
       "      <th>Summary</th>\n",
       "      <th>Stars</th>\n",
       "      <th>Certificate</th>\n",
       "      <th>Metascore</th>\n",
       "      <th>Gross</th>\n",
       "      <th>Episode</th>\n",
       "      <th>Episode Title</th>\n",
       "    </tr>\n",
       "  </thead>\n",
       "  <tbody>\n",
       "    <tr>\n",
       "      <th>0</th>\n",
       "      <td>One Piece</td>\n",
       "      <td>Animation, Action, Adventure</td>\n",
       "      <td>8.9</td>\n",
       "      <td>187,689</td>\n",
       "      <td>24 min</td>\n",
       "      <td>(1999– )</td>\n",
       "      <td>Follows the adventures of Monkey D. Luffy and ...</td>\n",
       "      <td>Mayumi Tanaka,Laurent Vernin,Akemi Okamura,Ton...</td>\n",
       "      <td>TV-14</td>\n",
       "      <td>NaN</td>\n",
       "      <td>187689</td>\n",
       "      <td>0</td>\n",
       "      <td>NaN</td>\n",
       "    </tr>\n",
       "    <tr>\n",
       "      <th>1</th>\n",
       "      <td>Teenage Mutant Ninja Turtles: Mutant Mayhem</td>\n",
       "      <td>Animation, Action, Adventure</td>\n",
       "      <td>7.4</td>\n",
       "      <td>28,895</td>\n",
       "      <td>99 min</td>\n",
       "      <td>(2023)</td>\n",
       "      <td>The film follows the Turtle brothers as they w...</td>\n",
       "      <td>NaN</td>\n",
       "      <td>PG</td>\n",
       "      <td>74</td>\n",
       "      <td>28895</td>\n",
       "      <td>0</td>\n",
       "      <td>NaN</td>\n",
       "    </tr>\n",
       "  </tbody>\n",
       "</table>\n",
       "</div>"
      ],
      "text/plain": [
       "                                         Title                         Genre  \\\n",
       "0                                    One Piece  Animation, Action, Adventure   \n",
       "1  Teenage Mutant Ninja Turtles: Mutant Mayhem  Animation, Action, Adventure   \n",
       "\n",
       "  User Rating Number of Votes Runtime      Year  \\\n",
       "0         8.9         187,689  24 min  (1999– )   \n",
       "1         7.4          28,895  99 min    (2023)   \n",
       "\n",
       "                                             Summary  \\\n",
       "0  Follows the adventures of Monkey D. Luffy and ...   \n",
       "1  The film follows the Turtle brothers as they w...   \n",
       "\n",
       "                                               Stars Certificate   Metascore  \\\n",
       "0  Mayumi Tanaka,Laurent Vernin,Akemi Okamura,Ton...       TV-14         NaN   \n",
       "1                                                NaN          PG  74           \n",
       "\n",
       "    Gross Episode Episode Title  \n",
       "0  187689       0           NaN  \n",
       "1   28895       0           NaN  "
      ]
     },
     "execution_count": 130,
     "metadata": {},
     "output_type": "execute_result"
    }
   ],
   "source": [
    "data.head(2)"
   ]
  },
  {
   "cell_type": "code",
   "execution_count": 133,
   "id": "8171d536",
   "metadata": {},
   "outputs": [
    {
     "data": {
      "text/plain": [
       "'One Piece'"
      ]
     },
     "execution_count": 133,
     "metadata": {},
     "output_type": "execute_result"
    }
   ],
   "source": [
    "# Getting data          data.iloc[row_index, column_index]\n",
    "\n",
    "# Get the first column of the second row\n",
    "data.iloc[0,0]"
   ]
  },
  {
   "cell_type": "code",
   "execution_count": 134,
   "id": "ba0a9b10",
   "metadata": {},
   "outputs": [
    {
     "data": {
      "text/plain": [
       "'Teenage Mutant Ninja Turtles: Mutant Mayhem'"
      ]
     },
     "execution_count": 134,
     "metadata": {},
     "output_type": "execute_result"
    }
   ],
   "source": [
    "# The difference between 'loc' and 'iloc', is 'iloc' only takes numerical representaions of rows and columns,\n",
    "# whereas 'loc' takes the actual column and index names\n",
    "\n",
    "data.loc[1, 'Title']"
   ]
  },
  {
   "cell_type": "code",
   "execution_count": 139,
   "id": "79b1b685",
   "metadata": {},
   "outputs": [
    {
     "data": {
      "text/html": [
       "<div>\n",
       "<style scoped>\n",
       "    .dataframe tbody tr th:only-of-type {\n",
       "        vertical-align: middle;\n",
       "    }\n",
       "\n",
       "    .dataframe tbody tr th {\n",
       "        vertical-align: top;\n",
       "    }\n",
       "\n",
       "    .dataframe thead th {\n",
       "        text-align: right;\n",
       "    }\n",
       "</style>\n",
       "<table border=\"1\" class=\"dataframe\">\n",
       "  <thead>\n",
       "    <tr style=\"text-align: right;\">\n",
       "      <th></th>\n",
       "      <th>User Rating</th>\n",
       "      <th>Number of Votes</th>\n",
       "      <th>Runtime</th>\n",
       "    </tr>\n",
       "  </thead>\n",
       "  <tbody>\n",
       "    <tr>\n",
       "      <th>2</th>\n",
       "      <td>7.1</td>\n",
       "      <td>189,108</td>\n",
       "      <td>92 min</td>\n",
       "    </tr>\n",
       "    <tr>\n",
       "      <th>3</th>\n",
       "      <td>9.1</td>\n",
       "      <td>434,457</td>\n",
       "      <td>24 min</td>\n",
       "    </tr>\n",
       "    <tr>\n",
       "      <th>4</th>\n",
       "      <td>8.5</td>\n",
       "      <td>82,909</td>\n",
       "      <td>24 min</td>\n",
       "    </tr>\n",
       "    <tr>\n",
       "      <th>5</th>\n",
       "      <td>9.1</td>\n",
       "      <td>28,587</td>\n",
       "      <td>24 min</td>\n",
       "    </tr>\n",
       "    <tr>\n",
       "      <th>6</th>\n",
       "      <td>8.6</td>\n",
       "      <td>131,667</td>\n",
       "      <td>24 min</td>\n",
       "    </tr>\n",
       "    <tr>\n",
       "      <th>7</th>\n",
       "      <td>7.8</td>\n",
       "      <td>153,495</td>\n",
       "      <td>102 min</td>\n",
       "    </tr>\n",
       "    <tr>\n",
       "      <th>8</th>\n",
       "      <td>8.2</td>\n",
       "      <td>64,528</td>\n",
       "      <td>24 min</td>\n",
       "    </tr>\n",
       "    <tr>\n",
       "      <th>9</th>\n",
       "      <td>7.5</td>\n",
       "      <td>14,322</td>\n",
       "      <td>20 min</td>\n",
       "    </tr>\n",
       "  </tbody>\n",
       "</table>\n",
       "</div>"
      ],
      "text/plain": [
       "  User Rating Number of Votes  Runtime\n",
       "2         7.1         189,108   92 min\n",
       "3         9.1         434,457   24 min\n",
       "4         8.5          82,909   24 min\n",
       "5         9.1          28,587   24 min\n",
       "6         8.6         131,667   24 min\n",
       "7         7.8         153,495  102 min\n",
       "8         8.2          64,528   24 min\n",
       "9         7.5          14,322   20 min"
      ]
     },
     "execution_count": 139,
     "metadata": {},
     "output_type": "execute_result"
    }
   ],
   "source": [
    "# Get the firs 3 rows, [row_index: column_index],           [:, :]  ----> all rows and all columns\n",
    "\n",
    "data.iloc[2:10, 2:5]"
   ]
  },
  {
   "cell_type": "code",
   "execution_count": 140,
   "id": "5422d178",
   "metadata": {},
   "outputs": [
    {
     "data": {
      "text/html": [
       "<div>\n",
       "<style scoped>\n",
       "    .dataframe tbody tr th:only-of-type {\n",
       "        vertical-align: middle;\n",
       "    }\n",
       "\n",
       "    .dataframe tbody tr th {\n",
       "        vertical-align: top;\n",
       "    }\n",
       "\n",
       "    .dataframe thead th {\n",
       "        text-align: right;\n",
       "    }\n",
       "</style>\n",
       "<table border=\"1\" class=\"dataframe\">\n",
       "  <thead>\n",
       "    <tr style=\"text-align: right;\">\n",
       "      <th></th>\n",
       "      <th>Genre</th>\n",
       "      <th>User Rating</th>\n",
       "      <th>Number of Votes</th>\n",
       "      <th>Runtime</th>\n",
       "    </tr>\n",
       "  </thead>\n",
       "  <tbody>\n",
       "    <tr>\n",
       "      <th>2</th>\n",
       "      <td>Animation, Adventure, Comedy</td>\n",
       "      <td>7.1</td>\n",
       "      <td>189,108</td>\n",
       "      <td>92 min</td>\n",
       "    </tr>\n",
       "    <tr>\n",
       "      <th>3</th>\n",
       "      <td>Animation, Action, Adventure</td>\n",
       "      <td>9.1</td>\n",
       "      <td>434,457</td>\n",
       "      <td>24 min</td>\n",
       "    </tr>\n",
       "    <tr>\n",
       "      <th>4</th>\n",
       "      <td>Animation, Action, Adventure</td>\n",
       "      <td>8.5</td>\n",
       "      <td>82,909</td>\n",
       "      <td>24 min</td>\n",
       "    </tr>\n",
       "    <tr>\n",
       "      <th>5</th>\n",
       "      <td>Animation, Action, Adventure</td>\n",
       "      <td>9.1</td>\n",
       "      <td>28,587</td>\n",
       "      <td>24 min</td>\n",
       "    </tr>\n",
       "    <tr>\n",
       "      <th>6</th>\n",
       "      <td>Animation, Action, Adventure</td>\n",
       "      <td>8.6</td>\n",
       "      <td>131,667</td>\n",
       "      <td>24 min</td>\n",
       "    </tr>\n",
       "    <tr>\n",
       "      <th>7</th>\n",
       "      <td>Animation, Adventure, Comedy</td>\n",
       "      <td>7.8</td>\n",
       "      <td>153,495</td>\n",
       "      <td>102 min</td>\n",
       "    </tr>\n",
       "    <tr>\n",
       "      <th>8</th>\n",
       "      <td>Animation, Action, Adventure</td>\n",
       "      <td>8.2</td>\n",
       "      <td>64,528</td>\n",
       "      <td>24 min</td>\n",
       "    </tr>\n",
       "    <tr>\n",
       "      <th>9</th>\n",
       "      <td>Animation, Action, Adventure</td>\n",
       "      <td>7.5</td>\n",
       "      <td>14,322</td>\n",
       "      <td>20 min</td>\n",
       "    </tr>\n",
       "    <tr>\n",
       "      <th>10</th>\n",
       "      <td>Animation, Action, Adventure</td>\n",
       "      <td>8.7</td>\n",
       "      <td>145,484</td>\n",
       "      <td>24 min</td>\n",
       "    </tr>\n",
       "    <tr>\n",
       "      <th>11</th>\n",
       "      <td>Animation, Drama, Family</td>\n",
       "      <td>7.7</td>\n",
       "      <td>250,338</td>\n",
       "      <td>100 min</td>\n",
       "    </tr>\n",
       "  </tbody>\n",
       "</table>\n",
       "</div>"
      ],
      "text/plain": [
       "                           Genre User Rating Number of Votes  Runtime\n",
       "2   Animation, Adventure, Comedy         7.1         189,108   92 min\n",
       "3   Animation, Action, Adventure         9.1         434,457   24 min\n",
       "4   Animation, Action, Adventure         8.5          82,909   24 min\n",
       "5   Animation, Action, Adventure         9.1          28,587   24 min\n",
       "6   Animation, Action, Adventure         8.6         131,667   24 min\n",
       "7   Animation, Adventure, Comedy         7.8         153,495  102 min\n",
       "8   Animation, Action, Adventure         8.2          64,528   24 min\n",
       "9   Animation, Action, Adventure         7.5          14,322   20 min\n",
       "10  Animation, Action, Adventure         8.7         145,484   24 min\n",
       "11      Animation, Drama, Family         7.7         250,338  100 min"
      ]
     },
     "execution_count": 140,
     "metadata": {},
     "output_type": "execute_result"
    }
   ],
   "source": [
    "# from the third until the 12th line, with from the second column until the Fifth\n",
    "\n",
    "data.iloc[2:12, 1: 5]"
   ]
  },
  {
   "cell_type": "code",
   "execution_count": 89,
   "id": "06015ded",
   "metadata": {},
   "outputs": [
    {
     "data": {
      "text/html": [
       "<div>\n",
       "<style scoped>\n",
       "    .dataframe tbody tr th:only-of-type {\n",
       "        vertical-align: middle;\n",
       "    }\n",
       "\n",
       "    .dataframe tbody tr th {\n",
       "        vertical-align: top;\n",
       "    }\n",
       "\n",
       "    .dataframe thead th {\n",
       "        text-align: right;\n",
       "    }\n",
       "</style>\n",
       "<table border=\"1\" class=\"dataframe\">\n",
       "  <thead>\n",
       "    <tr style=\"text-align: right;\">\n",
       "      <th></th>\n",
       "      <th>Title</th>\n",
       "      <th>Genre</th>\n",
       "      <th>User Rating</th>\n",
       "      <th>Number of Votes</th>\n",
       "      <th>Runtime</th>\n",
       "      <th>Year</th>\n",
       "      <th>Summary</th>\n",
       "      <th>Stars</th>\n",
       "      <th>Certificate</th>\n",
       "      <th>Metascore</th>\n",
       "      <th>Gross</th>\n",
       "      <th>Episode</th>\n",
       "      <th>Episode Title</th>\n",
       "    </tr>\n",
       "  </thead>\n",
       "  <tbody>\n",
       "    <tr>\n",
       "      <th>0</th>\n",
       "      <td>One Piece</td>\n",
       "      <td>Animation, Action, Adventure</td>\n",
       "      <td>8.9</td>\n",
       "      <td>187,689</td>\n",
       "      <td>24 min</td>\n",
       "      <td>(1999– )</td>\n",
       "      <td>Follows the adventures of Monkey D. Luffy and ...</td>\n",
       "      <td>Mayumi Tanaka,Laurent Vernin,Akemi Okamura,Ton...</td>\n",
       "      <td>TV-14</td>\n",
       "      <td>NaN</td>\n",
       "      <td>187689</td>\n",
       "      <td>0</td>\n",
       "      <td>NaN</td>\n",
       "    </tr>\n",
       "    <tr>\n",
       "      <th>1</th>\n",
       "      <td>Teenage Mutant Ninja Turtles: Mutant Mayhem</td>\n",
       "      <td>Animation, Action, Adventure</td>\n",
       "      <td>7.4</td>\n",
       "      <td>28,895</td>\n",
       "      <td>99 min</td>\n",
       "      <td>(2023)</td>\n",
       "      <td>The film follows the Turtle brothers as they w...</td>\n",
       "      <td>NaN</td>\n",
       "      <td>PG</td>\n",
       "      <td>74</td>\n",
       "      <td>28895</td>\n",
       "      <td>0</td>\n",
       "      <td>NaN</td>\n",
       "    </tr>\n",
       "    <tr>\n",
       "      <th>2</th>\n",
       "      <td>The Super Mario Bros. Movie</td>\n",
       "      <td>Animation, Adventure, Comedy</td>\n",
       "      <td>7.1</td>\n",
       "      <td>189,108</td>\n",
       "      <td>92 min</td>\n",
       "      <td>(2023)</td>\n",
       "      <td>A plumber named Mario travels through an under...</td>\n",
       "      <td>NaN</td>\n",
       "      <td>PG</td>\n",
       "      <td>46</td>\n",
       "      <td>189108</td>\n",
       "      <td>0</td>\n",
       "      <td>NaN</td>\n",
       "    </tr>\n",
       "  </tbody>\n",
       "</table>\n",
       "</div>"
      ],
      "text/plain": [
       "                                         Title                         Genre  \\\n",
       "0                                    One Piece  Animation, Action, Adventure   \n",
       "1  Teenage Mutant Ninja Turtles: Mutant Mayhem  Animation, Action, Adventure   \n",
       "2                  The Super Mario Bros. Movie  Animation, Adventure, Comedy   \n",
       "\n",
       "  User Rating Number of Votes Runtime      Year  \\\n",
       "0         8.9         187,689  24 min  (1999– )   \n",
       "1         7.4          28,895  99 min    (2023)   \n",
       "2         7.1         189,108  92 min    (2023)   \n",
       "\n",
       "                                             Summary  \\\n",
       "0  Follows the adventures of Monkey D. Luffy and ...   \n",
       "1  The film follows the Turtle brothers as they w...   \n",
       "2  A plumber named Mario travels through an under...   \n",
       "\n",
       "                                               Stars Certificate   Metascore  \\\n",
       "0  Mayumi Tanaka,Laurent Vernin,Akemi Okamura,Ton...       TV-14         NaN   \n",
       "1                                                NaN          PG  74           \n",
       "2                                                NaN          PG  46           \n",
       "\n",
       "    Gross Episode Episode Title  \n",
       "0  187689       0           NaN  \n",
       "1   28895       0           NaN  \n",
       "2  189108       0           NaN  "
      ]
     },
     "execution_count": 89,
     "metadata": {},
     "output_type": "execute_result"
    }
   ],
   "source": [
    "# 3 premières lignes et toutes les colonnes ?\n",
    "\n"
   ]
  },
  {
   "cell_type": "markdown",
   "id": "c6d458a3",
   "metadata": {},
   "source": [
    "## Drop Null Values "
   ]
  },
  {
   "cell_type": "code",
   "execution_count": 142,
   "id": "b234f62b",
   "metadata": {},
   "outputs": [
    {
     "data": {
      "text/plain": [
       "Index(['Title', 'Genre', 'User Rating', 'Number of Votes', 'Runtime', 'Year',\n",
       "       'Summary', 'Stars', 'Certificate', 'Metascore', 'Gross', 'Episode',\n",
       "       'Episode Title'],\n",
       "      dtype='object')"
      ]
     },
     "execution_count": 142,
     "metadata": {},
     "output_type": "execute_result"
    }
   ],
   "source": [
    "data.columns"
   ]
  },
  {
   "cell_type": "code",
   "execution_count": 144,
   "id": "b379589c",
   "metadata": {},
   "outputs": [
    {
     "name": "stdout",
     "output_type": "stream",
     "text": [
      "<class 'pandas.core.frame.DataFrame'>\n",
      "RangeIndex: 45717 entries, 0 to 45716\n",
      "Data columns (total 13 columns):\n",
      " #   Column           Non-Null Count  Dtype \n",
      "---  ------           --------------  ----- \n",
      " 0   Title            45717 non-null  object\n",
      " 1   Genre            45717 non-null  object\n",
      " 2   User Rating      25009 non-null  object\n",
      " 3   Number of Votes  25009 non-null  object\n",
      " 4   Runtime          32549 non-null  object\n",
      " 5   Year             45591 non-null  object\n",
      " 6   Summary          23547 non-null  object\n",
      " 7   Stars            13676 non-null  object\n",
      " 8   Certificate      28694 non-null  object\n",
      " 9   Metascore        341 non-null    object\n",
      " 10  Gross            25009 non-null  object\n",
      " 11  Episode          45717 non-null  object\n",
      " 12  Episode Title    34910 non-null  object\n",
      "dtypes: object(13)\n",
      "memory usage: 4.5+ MB\n"
     ]
    }
   ],
   "source": [
    "data.info()"
   ]
  },
  {
   "cell_type": "code",
   "execution_count": 147,
   "id": "2836f37b",
   "metadata": {},
   "outputs": [],
   "source": [
    "# Fill missing values with a given value ex : 0\n",
    "\n",
    "data['Metascore'].fillna(0, inplace=True)"
   ]
  },
  {
   "cell_type": "code",
   "execution_count": 148,
   "id": "321f0a3c",
   "metadata": {},
   "outputs": [
    {
     "name": "stdout",
     "output_type": "stream",
     "text": [
      "<class 'pandas.core.frame.DataFrame'>\n",
      "RangeIndex: 45717 entries, 0 to 45716\n",
      "Data columns (total 13 columns):\n",
      " #   Column           Non-Null Count  Dtype \n",
      "---  ------           --------------  ----- \n",
      " 0   Title            45717 non-null  object\n",
      " 1   Genre            45717 non-null  object\n",
      " 2   User Rating      25009 non-null  object\n",
      " 3   Number of Votes  25009 non-null  object\n",
      " 4   Runtime          32549 non-null  object\n",
      " 5   Year             45591 non-null  object\n",
      " 6   Summary          23547 non-null  object\n",
      " 7   Stars            13676 non-null  object\n",
      " 8   Certificate      28694 non-null  object\n",
      " 9   Metascore        45717 non-null  object\n",
      " 10  Gross            25009 non-null  object\n",
      " 11  Episode          45717 non-null  object\n",
      " 12  Episode Title    34910 non-null  object\n",
      "dtypes: object(13)\n",
      "memory usage: 4.5+ MB\n"
     ]
    }
   ],
   "source": [
    "data.info()"
   ]
  },
  {
   "cell_type": "code",
   "execution_count": 33,
   "id": "34a42c1e",
   "metadata": {},
   "outputs": [],
   "source": [
    "# Drop a column (Metascore)\n",
    "\n",
    "data.drop(columns= ['Metascore'], inplace = True)"
   ]
  },
  {
   "cell_type": "code",
   "execution_count": 34,
   "id": "dc7fc49a",
   "metadata": {},
   "outputs": [
    {
     "data": {
      "text/plain": [
       "Index(['Title', 'Genre', 'User Rating', 'Number of Votes', 'Runtime', 'Year',\n",
       "       'Summary', 'Stars', 'Certificate', 'Gross', 'Episode', 'Episode Title'],\n",
       "      dtype='object')"
      ]
     },
     "execution_count": 34,
     "metadata": {},
     "output_type": "execute_result"
    }
   ],
   "source": [
    "data.columns"
   ]
  },
  {
   "cell_type": "code",
   "execution_count": 149,
   "id": "3cdd86aa",
   "metadata": {},
   "outputs": [],
   "source": [
    "# Drop rows that have null values\n",
    "\n",
    "data.dropna(inplace=True)"
   ]
  },
  {
   "cell_type": "code",
   "execution_count": 150,
   "id": "bed22d89",
   "metadata": {},
   "outputs": [
    {
     "name": "stdout",
     "output_type": "stream",
     "text": [
      "<class 'pandas.core.frame.DataFrame'>\n",
      "Index: 1872 entries, 840 to 45692\n",
      "Data columns (total 13 columns):\n",
      " #   Column           Non-Null Count  Dtype \n",
      "---  ------           --------------  ----- \n",
      " 0   Title            1872 non-null   object\n",
      " 1   Genre            1872 non-null   object\n",
      " 2   User Rating      1872 non-null   object\n",
      " 3   Number of Votes  1872 non-null   object\n",
      " 4   Runtime          1872 non-null   object\n",
      " 5   Year             1872 non-null   object\n",
      " 6   Summary          1872 non-null   object\n",
      " 7   Stars            1872 non-null   object\n",
      " 8   Certificate      1872 non-null   object\n",
      " 9   Metascore        1872 non-null   object\n",
      " 10  Gross            1872 non-null   object\n",
      " 11  Episode          1872 non-null   object\n",
      " 12  Episode Title    1872 non-null   object\n",
      "dtypes: object(13)\n",
      "memory usage: 204.8+ KB\n"
     ]
    }
   ],
   "source": [
    "data.info()"
   ]
  },
  {
   "cell_type": "code",
   "execution_count": 154,
   "id": "679b385e",
   "metadata": {},
   "outputs": [
    {
     "name": "stdout",
     "output_type": "stream",
     "text": [
      "<class 'pandas.core.frame.DataFrame'>\n",
      "Index: 1872 entries, 840 to 45692\n",
      "Data columns (total 13 columns):\n",
      " #   Column           Non-Null Count  Dtype \n",
      "---  ------           --------------  ----- \n",
      " 0   Title            1872 non-null   object\n",
      " 1   Genre            1872 non-null   object\n",
      " 2   User Rating      1872 non-null   object\n",
      " 3   Number of Votes  1872 non-null   object\n",
      " 4   Runtime          1872 non-null   object\n",
      " 5   Year             1872 non-null   object\n",
      " 6   Summary          1872 non-null   object\n",
      " 7   Stars            1872 non-null   object\n",
      " 8   Certificate      1872 non-null   object\n",
      " 9   Metascore        1872 non-null   object\n",
      " 10  Gross            1872 non-null   object\n",
      " 11  Episode          1872 non-null   object\n",
      " 12  Episode Title    1872 non-null   object\n",
      "dtypes: object(13)\n",
      "memory usage: 204.8+ KB\n"
     ]
    }
   ],
   "source": [
    "data.info()"
   ]
  },
  {
   "cell_type": "markdown",
   "id": "d57fe2e1",
   "metadata": {},
   "source": [
    " ## Convert 'User Rating' column to a float\n",
    " "
   ]
  },
  {
   "cell_type": "code",
   "execution_count": 155,
   "id": "4cbf3bab",
   "metadata": {},
   "outputs": [
    {
     "data": {
      "text/html": [
       "<div>\n",
       "<style scoped>\n",
       "    .dataframe tbody tr th:only-of-type {\n",
       "        vertical-align: middle;\n",
       "    }\n",
       "\n",
       "    .dataframe tbody tr th {\n",
       "        vertical-align: top;\n",
       "    }\n",
       "\n",
       "    .dataframe thead th {\n",
       "        text-align: right;\n",
       "    }\n",
       "</style>\n",
       "<table border=\"1\" class=\"dataframe\">\n",
       "  <thead>\n",
       "    <tr style=\"text-align: right;\">\n",
       "      <th></th>\n",
       "      <th>Title</th>\n",
       "      <th>Genre</th>\n",
       "      <th>User Rating</th>\n",
       "      <th>Number of Votes</th>\n",
       "      <th>Runtime</th>\n",
       "      <th>Year</th>\n",
       "      <th>Summary</th>\n",
       "      <th>Stars</th>\n",
       "      <th>Certificate</th>\n",
       "      <th>Metascore</th>\n",
       "      <th>Gross</th>\n",
       "      <th>Episode</th>\n",
       "      <th>Episode Title</th>\n",
       "    </tr>\n",
       "  </thead>\n",
       "  <tbody>\n",
       "    <tr>\n",
       "      <th>840</th>\n",
       "      <td>Title</td>\n",
       "      <td>Genre</td>\n",
       "      <td>User Rating</td>\n",
       "      <td>Number of Votes</td>\n",
       "      <td>Runtime</td>\n",
       "      <td>Year</td>\n",
       "      <td>Summary</td>\n",
       "      <td>Stars</td>\n",
       "      <td>Certificate</td>\n",
       "      <td>Metascore</td>\n",
       "      <td>Gross</td>\n",
       "      <td>Episode</td>\n",
       "      <td>Episode Title</td>\n",
       "    </tr>\n",
       "    <tr>\n",
       "      <th>10940</th>\n",
       "      <td>Digimon Adventure</td>\n",
       "      <td>Animation, Action, Adventure</td>\n",
       "      <td>7.7</td>\n",
       "      <td>66</td>\n",
       "      <td>24 min</td>\n",
       "      <td>(1999–2000)</td>\n",
       "      <td>The kids stumble upon a strange factory where ...</td>\n",
       "      <td>Toshiko Fujita,Hiroaki Hirata,Yuto Kazama,Masa...</td>\n",
       "      <td>TV-Y7-FV</td>\n",
       "      <td>0</td>\n",
       "      <td>66</td>\n",
       "      <td>1</td>\n",
       "      <td>Denkô! Kabuterimon</td>\n",
       "    </tr>\n",
       "    <tr>\n",
       "      <th>10942</th>\n",
       "      <td>Digimon Adventure</td>\n",
       "      <td>Animation, Action, Adventure</td>\n",
       "      <td>7.3</td>\n",
       "      <td>55</td>\n",
       "      <td>24 min</td>\n",
       "      <td>(1999–2000)</td>\n",
       "      <td>T.K. and Patamon end up in Primary Village, th...</td>\n",
       "      <td>Hisao Egawa,Yukiko Hanioka,Hiroaki Hirata,Hiro...</td>\n",
       "      <td>TV-Y7-FV</td>\n",
       "      <td>0</td>\n",
       "      <td>55</td>\n",
       "      <td>1</td>\n",
       "      <td>Bôken! Patamon to boku</td>\n",
       "    </tr>\n",
       "    <tr>\n",
       "      <th>10943</th>\n",
       "      <td>Digimon Adventure</td>\n",
       "      <td>Animation, Action, Adventure</td>\n",
       "      <td>7.3</td>\n",
       "      <td>54</td>\n",
       "      <td>24 min</td>\n",
       "      <td>(1999–2000)</td>\n",
       "      <td>After suffering an attack from Ogremon at sea,...</td>\n",
       "      <td>Hisao Egawa,Hiroaki Hirata,Katashi Ishizuka,Ma...</td>\n",
       "      <td>TV-Y7-FV</td>\n",
       "      <td>0</td>\n",
       "      <td>54</td>\n",
       "      <td>1</td>\n",
       "      <td>Odoru bôrei! Bakemon</td>\n",
       "    </tr>\n",
       "    <tr>\n",
       "      <th>10944</th>\n",
       "      <td>Digimon Adventure</td>\n",
       "      <td>Animation, Action, Adventure</td>\n",
       "      <td>7.4</td>\n",
       "      <td>56</td>\n",
       "      <td>24 min</td>\n",
       "      <td>(1999–2000)</td>\n",
       "      <td>Mimi and Palmon are harassed by Sukamon and Ch...</td>\n",
       "      <td>Masaki Aizawa,Hiroaki Hirata,Motoko Kumai,Ai M...</td>\n",
       "      <td>TV-Y7-FV</td>\n",
       "      <td>0</td>\n",
       "      <td>56</td>\n",
       "      <td>1</td>\n",
       "      <td>Shugosha Kentarumon</td>\n",
       "    </tr>\n",
       "  </tbody>\n",
       "</table>\n",
       "</div>"
      ],
      "text/plain": [
       "                   Title                         Genre  User Rating  \\\n",
       "840                Title                         Genre  User Rating   \n",
       "10940  Digimon Adventure  Animation, Action, Adventure          7.7   \n",
       "10942  Digimon Adventure  Animation, Action, Adventure          7.3   \n",
       "10943  Digimon Adventure  Animation, Action, Adventure          7.3   \n",
       "10944  Digimon Adventure  Animation, Action, Adventure          7.4   \n",
       "\n",
       "       Number of Votes  Runtime         Year  \\\n",
       "840    Number of Votes  Runtime         Year   \n",
       "10940               66   24 min  (1999–2000)   \n",
       "10942               55   24 min  (1999–2000)   \n",
       "10943               54   24 min  (1999–2000)   \n",
       "10944               56   24 min  (1999–2000)   \n",
       "\n",
       "                                                 Summary  \\\n",
       "840                                              Summary   \n",
       "10940  The kids stumble upon a strange factory where ...   \n",
       "10942  T.K. and Patamon end up in Primary Village, th...   \n",
       "10943  After suffering an attack from Ogremon at sea,...   \n",
       "10944  Mimi and Palmon are harassed by Sukamon and Ch...   \n",
       "\n",
       "                                                   Stars  Certificate  \\\n",
       "840                                                Stars  Certificate   \n",
       "10940  Toshiko Fujita,Hiroaki Hirata,Yuto Kazama,Masa...     TV-Y7-FV   \n",
       "10942  Hisao Egawa,Yukiko Hanioka,Hiroaki Hirata,Hiro...     TV-Y7-FV   \n",
       "10943  Hisao Egawa,Hiroaki Hirata,Katashi Ishizuka,Ma...     TV-Y7-FV   \n",
       "10944  Masaki Aizawa,Hiroaki Hirata,Motoko Kumai,Ai M...     TV-Y7-FV   \n",
       "\n",
       "       Metascore  Gross  Episode           Episode Title  \n",
       "840    Metascore  Gross  Episode           Episode Title  \n",
       "10940          0     66        1      Denkô! Kabuterimon  \n",
       "10942          0     55        1  Bôken! Patamon to boku  \n",
       "10943          0     54        1    Odoru bôrei! Bakemon  \n",
       "10944          0     56        1     Shugosha Kentarumon  "
      ]
     },
     "execution_count": 155,
     "metadata": {},
     "output_type": "execute_result"
    }
   ],
   "source": [
    "data.head()"
   ]
  },
  {
   "cell_type": "code",
   "execution_count": null,
   "id": "313217c4",
   "metadata": {},
   "outputs": [],
   "source": [
    "# Remplacer la colonne originale\n",
    "\n",
    "# data['User Rating'] = data['User Rating'].map(lambda x : float(x))"
   ]
  },
  {
   "cell_type": "code",
   "execution_count": null,
   "id": "10965f5a",
   "metadata": {},
   "outputs": [],
   "source": [
    "lambda x : float(x)\n",
    "\n",
    "___________________________\n",
    "\n",
    "\n",
    "def func(x) :\n",
    "    \n",
    "    return float(x)"
   ]
  },
  {
   "cell_type": "code",
   "execution_count": 156,
   "id": "0f006a20",
   "metadata": {},
   "outputs": [
    {
     "ename": "ValueError",
     "evalue": "could not convert string to float: 'User Rating'",
     "output_type": "error",
     "traceback": [
      "\u001b[0;31m---------------------------------------------------------------------------\u001b[0m",
      "\u001b[0;31mValueError\u001b[0m                                Traceback (most recent call last)",
      "Cell \u001b[0;32mIn [156], line 1\u001b[0m\n\u001b[0;32m----> 1\u001b[0m data[\u001b[38;5;124m'\u001b[39m\u001b[38;5;124mnumeric_rating\u001b[39m\u001b[38;5;124m'\u001b[39m] \u001b[38;5;241m=\u001b[39m \u001b[43mdata\u001b[49m\u001b[43m[\u001b[49m\u001b[38;5;124;43m'\u001b[39;49m\u001b[38;5;124;43mUser Rating\u001b[39;49m\u001b[38;5;124;43m'\u001b[39;49m\u001b[43m]\u001b[49m\u001b[38;5;241;43m.\u001b[39;49m\u001b[43mmap\u001b[49m\u001b[43m(\u001b[49m\u001b[38;5;28;43;01mlambda\u001b[39;49;00m\u001b[43m \u001b[49m\u001b[43mx\u001b[49m\u001b[43m \u001b[49m\u001b[43m:\u001b[49m\u001b[43m \u001b[49m\u001b[38;5;28;43mfloat\u001b[39;49m\u001b[43m(\u001b[49m\u001b[43mx\u001b[49m\u001b[43m)\u001b[49m\u001b[43m)\u001b[49m\n",
      "File \u001b[0;32m~/.pyenv/versions/3.10.6/envs/lewagon/lib/python3.10/site-packages/pandas/core/series.py:4544\u001b[0m, in \u001b[0;36mSeries.map\u001b[0;34m(self, arg, na_action)\u001b[0m\n\u001b[1;32m   4464\u001b[0m \u001b[38;5;28;01mdef\u001b[39;00m \u001b[38;5;21mmap\u001b[39m(\n\u001b[1;32m   4465\u001b[0m     \u001b[38;5;28mself\u001b[39m,\n\u001b[1;32m   4466\u001b[0m     arg: Callable \u001b[38;5;241m|\u001b[39m Mapping \u001b[38;5;241m|\u001b[39m Series,\n\u001b[1;32m   4467\u001b[0m     na_action: Literal[\u001b[38;5;124m\"\u001b[39m\u001b[38;5;124mignore\u001b[39m\u001b[38;5;124m\"\u001b[39m] \u001b[38;5;241m|\u001b[39m \u001b[38;5;28;01mNone\u001b[39;00m \u001b[38;5;241m=\u001b[39m \u001b[38;5;28;01mNone\u001b[39;00m,\n\u001b[1;32m   4468\u001b[0m ) \u001b[38;5;241m-\u001b[39m\u001b[38;5;241m>\u001b[39m Series:\n\u001b[1;32m   4469\u001b[0m     \u001b[38;5;124;03m\"\"\"\u001b[39;00m\n\u001b[1;32m   4470\u001b[0m \u001b[38;5;124;03m    Map values of Series according to an input mapping or function.\u001b[39;00m\n\u001b[1;32m   4471\u001b[0m \n\u001b[0;32m   (...)\u001b[0m\n\u001b[1;32m   4542\u001b[0m \u001b[38;5;124;03m    dtype: object\u001b[39;00m\n\u001b[1;32m   4543\u001b[0m \u001b[38;5;124;03m    \"\"\"\u001b[39;00m\n\u001b[0;32m-> 4544\u001b[0m     new_values \u001b[38;5;241m=\u001b[39m \u001b[38;5;28;43mself\u001b[39;49m\u001b[38;5;241;43m.\u001b[39;49m\u001b[43m_map_values\u001b[49m\u001b[43m(\u001b[49m\u001b[43marg\u001b[49m\u001b[43m,\u001b[49m\u001b[43m \u001b[49m\u001b[43mna_action\u001b[49m\u001b[38;5;241;43m=\u001b[39;49m\u001b[43mna_action\u001b[49m\u001b[43m)\u001b[49m\n\u001b[1;32m   4545\u001b[0m     \u001b[38;5;28;01mreturn\u001b[39;00m \u001b[38;5;28mself\u001b[39m\u001b[38;5;241m.\u001b[39m_constructor(new_values, index\u001b[38;5;241m=\u001b[39m\u001b[38;5;28mself\u001b[39m\u001b[38;5;241m.\u001b[39mindex, copy\u001b[38;5;241m=\u001b[39m\u001b[38;5;28;01mFalse\u001b[39;00m)\u001b[38;5;241m.\u001b[39m__finalize__(\n\u001b[1;32m   4546\u001b[0m         \u001b[38;5;28mself\u001b[39m, method\u001b[38;5;241m=\u001b[39m\u001b[38;5;124m\"\u001b[39m\u001b[38;5;124mmap\u001b[39m\u001b[38;5;124m\"\u001b[39m\n\u001b[1;32m   4547\u001b[0m     )\n",
      "File \u001b[0;32m~/.pyenv/versions/3.10.6/envs/lewagon/lib/python3.10/site-packages/pandas/core/base.py:921\u001b[0m, in \u001b[0;36mIndexOpsMixin._map_values\u001b[0;34m(self, mapper, na_action, convert)\u001b[0m\n\u001b[1;32m    918\u001b[0m \u001b[38;5;28;01mif\u001b[39;00m \u001b[38;5;28misinstance\u001b[39m(arr, ExtensionArray):\n\u001b[1;32m    919\u001b[0m     \u001b[38;5;28;01mreturn\u001b[39;00m arr\u001b[38;5;241m.\u001b[39mmap(mapper, na_action\u001b[38;5;241m=\u001b[39mna_action)\n\u001b[0;32m--> 921\u001b[0m \u001b[38;5;28;01mreturn\u001b[39;00m \u001b[43malgorithms\u001b[49m\u001b[38;5;241;43m.\u001b[39;49m\u001b[43mmap_array\u001b[49m\u001b[43m(\u001b[49m\u001b[43marr\u001b[49m\u001b[43m,\u001b[49m\u001b[43m \u001b[49m\u001b[43mmapper\u001b[49m\u001b[43m,\u001b[49m\u001b[43m \u001b[49m\u001b[43mna_action\u001b[49m\u001b[38;5;241;43m=\u001b[39;49m\u001b[43mna_action\u001b[49m\u001b[43m,\u001b[49m\u001b[43m \u001b[49m\u001b[43mconvert\u001b[49m\u001b[38;5;241;43m=\u001b[39;49m\u001b[43mconvert\u001b[49m\u001b[43m)\u001b[49m\n",
      "File \u001b[0;32m~/.pyenv/versions/3.10.6/envs/lewagon/lib/python3.10/site-packages/pandas/core/algorithms.py:1814\u001b[0m, in \u001b[0;36mmap_array\u001b[0;34m(arr, mapper, na_action, convert)\u001b[0m\n\u001b[1;32m   1812\u001b[0m values \u001b[38;5;241m=\u001b[39m arr\u001b[38;5;241m.\u001b[39mastype(\u001b[38;5;28mobject\u001b[39m, copy\u001b[38;5;241m=\u001b[39m\u001b[38;5;28;01mFalse\u001b[39;00m)\n\u001b[1;32m   1813\u001b[0m \u001b[38;5;28;01mif\u001b[39;00m na_action \u001b[38;5;129;01mis\u001b[39;00m \u001b[38;5;28;01mNone\u001b[39;00m:\n\u001b[0;32m-> 1814\u001b[0m     \u001b[38;5;28;01mreturn\u001b[39;00m \u001b[43mlib\u001b[49m\u001b[38;5;241;43m.\u001b[39;49m\u001b[43mmap_infer\u001b[49m\u001b[43m(\u001b[49m\u001b[43mvalues\u001b[49m\u001b[43m,\u001b[49m\u001b[43m \u001b[49m\u001b[43mmapper\u001b[49m\u001b[43m,\u001b[49m\u001b[43m \u001b[49m\u001b[43mconvert\u001b[49m\u001b[38;5;241;43m=\u001b[39;49m\u001b[43mconvert\u001b[49m\u001b[43m)\u001b[49m\n\u001b[1;32m   1815\u001b[0m \u001b[38;5;28;01melse\u001b[39;00m:\n\u001b[1;32m   1816\u001b[0m     \u001b[38;5;28;01mreturn\u001b[39;00m lib\u001b[38;5;241m.\u001b[39mmap_infer_mask(\n\u001b[1;32m   1817\u001b[0m         values, mapper, mask\u001b[38;5;241m=\u001b[39misna(values)\u001b[38;5;241m.\u001b[39mview(np\u001b[38;5;241m.\u001b[39muint8), convert\u001b[38;5;241m=\u001b[39mconvert\n\u001b[1;32m   1818\u001b[0m     )\n",
      "File \u001b[0;32mlib.pyx:2926\u001b[0m, in \u001b[0;36mpandas._libs.lib.map_infer\u001b[0;34m()\u001b[0m\n",
      "Cell \u001b[0;32mIn [156], line 1\u001b[0m, in \u001b[0;36m<lambda>\u001b[0;34m(x)\u001b[0m\n\u001b[0;32m----> 1\u001b[0m data[\u001b[38;5;124m'\u001b[39m\u001b[38;5;124mnumeric_rating\u001b[39m\u001b[38;5;124m'\u001b[39m] \u001b[38;5;241m=\u001b[39m data[\u001b[38;5;124m'\u001b[39m\u001b[38;5;124mUser Rating\u001b[39m\u001b[38;5;124m'\u001b[39m]\u001b[38;5;241m.\u001b[39mmap(\u001b[38;5;28;01mlambda\u001b[39;00m x : \u001b[38;5;28;43mfloat\u001b[39;49m\u001b[43m(\u001b[49m\u001b[43mx\u001b[49m\u001b[43m)\u001b[49m)\n",
      "\u001b[0;31mValueError\u001b[0m: could not convert string to float: 'User Rating'"
     ]
    }
   ],
   "source": [
    "data['numeric_rating'] = data['User Rating'].map(lambda x : float(x))\n"
   ]
  },
  {
   "cell_type": "code",
   "execution_count": 157,
   "id": "b96a0902",
   "metadata": {},
   "outputs": [],
   "source": [
    "# Clean the problematic row using Boolean Indexing\n",
    "\n",
    "data = data[data['User Rating'] != 'User Rating']\n",
    "\n",
    "\n",
    "# Another way is dropping the row but you need to know its index\n",
    "\n",
    "# df.drop(index_to_remove, inplace=True)"
   ]
  },
  {
   "cell_type": "code",
   "execution_count": 110,
   "id": "e3e7ecc8",
   "metadata": {},
   "outputs": [
    {
     "data": {
      "text/plain": [
       "'1220'"
      ]
     },
     "execution_count": 110,
     "metadata": {},
     "output_type": "execute_result"
    }
   ],
   "source": [
    "# ligne = '1,220'\n",
    "\n",
    "# ''.join([i for i in ligne if i.isnumeric()])"
   ]
  },
  {
   "cell_type": "code",
   "execution_count": 158,
   "id": "bb48096a",
   "metadata": {},
   "outputs": [],
   "source": [
    "# Retry\n",
    "\n",
    "data['numeric_rating'] = data['User Rating'].map(lambda x : float(x))"
   ]
  },
  {
   "cell_type": "code",
   "execution_count": 161,
   "id": "5f07e508",
   "metadata": {},
   "outputs": [
    {
     "data": {
      "text/plain": [
       "3.5"
      ]
     },
     "execution_count": 161,
     "metadata": {},
     "output_type": "execute_result"
    }
   ],
   "source": [
    "np.min(data['numeric_rating'])"
   ]
  },
  {
   "cell_type": "code",
   "execution_count": 163,
   "id": "4f10fccd",
   "metadata": {},
   "outputs": [
    {
     "data": {
      "text/plain": [
       "3.5"
      ]
     },
     "execution_count": 163,
     "metadata": {},
     "output_type": "execute_result"
    }
   ],
   "source": [
    "data['numeric_rating'].min()"
   ]
  },
  {
   "cell_type": "code",
   "execution_count": 164,
   "id": "09e206c9",
   "metadata": {},
   "outputs": [
    {
     "data": {
      "text/html": [
       "<div>\n",
       "<style scoped>\n",
       "    .dataframe tbody tr th:only-of-type {\n",
       "        vertical-align: middle;\n",
       "    }\n",
       "\n",
       "    .dataframe tbody tr th {\n",
       "        vertical-align: top;\n",
       "    }\n",
       "\n",
       "    .dataframe thead th {\n",
       "        text-align: right;\n",
       "    }\n",
       "</style>\n",
       "<table border=\"1\" class=\"dataframe\">\n",
       "  <thead>\n",
       "    <tr style=\"text-align: right;\">\n",
       "      <th></th>\n",
       "      <th>numeric_rating</th>\n",
       "    </tr>\n",
       "  </thead>\n",
       "  <tbody>\n",
       "    <tr>\n",
       "      <th>count</th>\n",
       "      <td>1871.000000</td>\n",
       "    </tr>\n",
       "    <tr>\n",
       "      <th>mean</th>\n",
       "      <td>7.465633</td>\n",
       "    </tr>\n",
       "    <tr>\n",
       "      <th>std</th>\n",
       "      <td>0.901378</td>\n",
       "    </tr>\n",
       "    <tr>\n",
       "      <th>min</th>\n",
       "      <td>3.500000</td>\n",
       "    </tr>\n",
       "    <tr>\n",
       "      <th>25%</th>\n",
       "      <td>6.900000</td>\n",
       "    </tr>\n",
       "    <tr>\n",
       "      <th>50%</th>\n",
       "      <td>7.500000</td>\n",
       "    </tr>\n",
       "    <tr>\n",
       "      <th>75%</th>\n",
       "      <td>8.000000</td>\n",
       "    </tr>\n",
       "    <tr>\n",
       "      <th>max</th>\n",
       "      <td>9.900000</td>\n",
       "    </tr>\n",
       "  </tbody>\n",
       "</table>\n",
       "</div>"
      ],
      "text/plain": [
       "       numeric_rating\n",
       "count     1871.000000\n",
       "mean         7.465633\n",
       "std          0.901378\n",
       "min          3.500000\n",
       "25%          6.900000\n",
       "50%          7.500000\n",
       "75%          8.000000\n",
       "max          9.900000"
      ]
     },
     "execution_count": 164,
     "metadata": {},
     "output_type": "execute_result"
    }
   ],
   "source": [
    "data.describe()"
   ]
  },
  {
   "cell_type": "code",
   "execution_count": 165,
   "id": "5b0e3643",
   "metadata": {
    "collapsed": true,
    "jupyter": {
     "outputs_hidden": true
    }
   },
   "outputs": [
    {
     "data": {
      "text/html": [
       "<div>\n",
       "<style scoped>\n",
       "    .dataframe tbody tr th:only-of-type {\n",
       "        vertical-align: middle;\n",
       "    }\n",
       "\n",
       "    .dataframe tbody tr th {\n",
       "        vertical-align: top;\n",
       "    }\n",
       "\n",
       "    .dataframe thead th {\n",
       "        text-align: right;\n",
       "    }\n",
       "</style>\n",
       "<table border=\"1\" class=\"dataframe\">\n",
       "  <thead>\n",
       "    <tr style=\"text-align: right;\">\n",
       "      <th></th>\n",
       "      <th>Title</th>\n",
       "      <th>Genre</th>\n",
       "      <th>User Rating</th>\n",
       "      <th>Number of Votes</th>\n",
       "      <th>Runtime</th>\n",
       "      <th>Year</th>\n",
       "      <th>Summary</th>\n",
       "      <th>Stars</th>\n",
       "      <th>Certificate</th>\n",
       "      <th>Metascore</th>\n",
       "      <th>Gross</th>\n",
       "      <th>Episode</th>\n",
       "      <th>Episode Title</th>\n",
       "      <th>numeric_rating</th>\n",
       "    </tr>\n",
       "  </thead>\n",
       "  <tbody>\n",
       "    <tr>\n",
       "      <th>11331</th>\n",
       "      <td>Fighting Spirit</td>\n",
       "      <td>Animation, Action, Comedy</td>\n",
       "      <td>8.5</td>\n",
       "      <td>108</td>\n",
       "      <td>23 min</td>\n",
       "      <td>(2000–2002)</td>\n",
       "      <td>Aoki, Kimura, and Takemura all fight their fig...</td>\n",
       "      <td>Grant George,Beau Billingslea,Richard Cansino,...</td>\n",
       "      <td>TV-PG</td>\n",
       "      <td>0</td>\n",
       "      <td>108</td>\n",
       "      <td>1</td>\n",
       "      <td>The Coach's Crisis</td>\n",
       "      <td>8.5</td>\n",
       "    </tr>\n",
       "    <tr>\n",
       "      <th>11550</th>\n",
       "      <td>Full Metal Panic!</td>\n",
       "      <td>Animation, Action, Adventure</td>\n",
       "      <td>8.1</td>\n",
       "      <td>61</td>\n",
       "      <td>24 min</td>\n",
       "      <td>(2002–2006)</td>\n",
       "      <td>After Sousuke blows up his shoe locker, a stra...</td>\n",
       "      <td>Tomokazu Seki,Satsuki Yukino,Toshiyuki Morikaw...</td>\n",
       "      <td>TV-PG</td>\n",
       "      <td>0</td>\n",
       "      <td>61</td>\n",
       "      <td>1</td>\n",
       "      <td>The Man from the South/A Hostage with No Compr...</td>\n",
       "      <td>8.1</td>\n",
       "    </tr>\n",
       "    <tr>\n",
       "      <th>11985</th>\n",
       "      <td>Dragon Ball</td>\n",
       "      <td>Animation, Action, Adventure</td>\n",
       "      <td>8.3</td>\n",
       "      <td>420</td>\n",
       "      <td>24 min</td>\n",
       "      <td>(1986–1989)</td>\n",
       "      <td>Mercenary Tao is hired to kill Goku and retrie...</td>\n",
       "      <td>Brice Armstrong,Dameon Clarke,Toshio Furukawa,...</td>\n",
       "      <td>TV-14</td>\n",
       "      <td>0</td>\n",
       "      <td>420</td>\n",
       "      <td>1</td>\n",
       "      <td>Kita! Sekai'ichi no koroshiya \"Tao Pai Pai\"</td>\n",
       "      <td>8.3</td>\n",
       "    </tr>\n",
       "    <tr>\n",
       "      <th>11995</th>\n",
       "      <td>Dragon Ball</td>\n",
       "      <td>Animation, Action, Adventure</td>\n",
       "      <td>8.2</td>\n",
       "      <td>341</td>\n",
       "      <td>24 min</td>\n",
       "      <td>(1986–1989)</td>\n",
       "      <td>Pilaf, Shu and Mai set off to Fortuneteller Ba...</td>\n",
       "      <td>Monika Antonelli,Brice Armstrong,Shigeru Chiba...</td>\n",
       "      <td>TV-14</td>\n",
       "      <td>0</td>\n",
       "      <td>341</td>\n",
       "      <td>1</td>\n",
       "      <td>Kamen otoko no shôtai wa!?</td>\n",
       "      <td>8.2</td>\n",
       "    </tr>\n",
       "    <tr>\n",
       "      <th>12055</th>\n",
       "      <td>Dragon Ball</td>\n",
       "      <td>Animation, Action, Adventure</td>\n",
       "      <td>8.1</td>\n",
       "      <td>326</td>\n",
       "      <td>24 min</td>\n",
       "      <td>(1986–1989)</td>\n",
       "      <td>Tien grows two extra arms and gains an advanta...</td>\n",
       "      <td>Monika Antonelli,Brice Armstrong,John Burgmeie...</td>\n",
       "      <td>TV-14</td>\n",
       "      <td>0</td>\n",
       "      <td>326</td>\n",
       "      <td>1</td>\n",
       "      <td>Sei ka shi ka!? Saigo no shudan</td>\n",
       "      <td>8.1</td>\n",
       "    </tr>\n",
       "    <tr>\n",
       "      <th>...</th>\n",
       "      <td>...</td>\n",
       "      <td>...</td>\n",
       "      <td>...</td>\n",
       "      <td>...</td>\n",
       "      <td>...</td>\n",
       "      <td>...</td>\n",
       "      <td>...</td>\n",
       "      <td>...</td>\n",
       "      <td>...</td>\n",
       "      <td>...</td>\n",
       "      <td>...</td>\n",
       "      <td>...</td>\n",
       "      <td>...</td>\n",
       "      <td>...</td>\n",
       "    </tr>\n",
       "    <tr>\n",
       "      <th>45583</th>\n",
       "      <td>Is this a Zombie?</td>\n",
       "      <td>Animation, Action, Comedy</td>\n",
       "      <td>8.7</td>\n",
       "      <td>13</td>\n",
       "      <td>25 min</td>\n",
       "      <td>(2011–2012)</td>\n",
       "      <td>Ayumu tries to keep the peace as Haruna scours...</td>\n",
       "      <td>Anthony Bowling,Megan Emerick,Caitlin Glass,To...</td>\n",
       "      <td>TV-MA</td>\n",
       "      <td>0</td>\n",
       "      <td>13</td>\n",
       "      <td>1</td>\n",
       "      <td>OVA: Yes, Thank You for this Encore</td>\n",
       "      <td>8.7</td>\n",
       "    </tr>\n",
       "    <tr>\n",
       "      <th>45613</th>\n",
       "      <td>JoJo's Bizarre Adventure</td>\n",
       "      <td>Animation, Action, Adventure</td>\n",
       "      <td>8.6</td>\n",
       "      <td>1,093</td>\n",
       "      <td>25 min</td>\n",
       "      <td>(2012– )</td>\n",
       "      <td>With Baby Face defeated, the group continues d...</td>\n",
       "      <td>Junya Enoki,Lizzie Freeman,Shinshû Fuji,Kellen...</td>\n",
       "      <td>TV-MA</td>\n",
       "      <td>0</td>\n",
       "      <td>1093</td>\n",
       "      <td>1</td>\n",
       "      <td>Head to Venice!</td>\n",
       "      <td>8.6</td>\n",
       "    </tr>\n",
       "    <tr>\n",
       "      <th>45615</th>\n",
       "      <td>JoJo's Bizarre Adventure</td>\n",
       "      <td>Animation, Action, Adventure</td>\n",
       "      <td>9.0</td>\n",
       "      <td>1,399</td>\n",
       "      <td>25 min</td>\n",
       "      <td>(2012– )</td>\n",
       "      <td>Giorno drives into the canals of Venice in the...</td>\n",
       "      <td>Ray Chase,Sean Chiplock,Junya Enoki,Kellen Goff</td>\n",
       "      <td>TV-MA</td>\n",
       "      <td>0</td>\n",
       "      <td>1399</td>\n",
       "      <td>1</td>\n",
       "      <td>White Ice</td>\n",
       "      <td>9.0</td>\n",
       "    </tr>\n",
       "    <tr>\n",
       "      <th>45647</th>\n",
       "      <td>JoJo's Bizarre Adventure</td>\n",
       "      <td>Animation, Action, Adventure</td>\n",
       "      <td>9.4</td>\n",
       "      <td>1,537</td>\n",
       "      <td>25 min</td>\n",
       "      <td>(2012– )</td>\n",
       "      <td>The boss gives the gang one final mission: del...</td>\n",
       "      <td>Junya Enoki,Lizzie Freeman,Kellen Goff,Nicole ...</td>\n",
       "      <td>TV-MA</td>\n",
       "      <td>0</td>\n",
       "      <td>1537</td>\n",
       "      <td>1</td>\n",
       "      <td>The Final Mission From The Boss</td>\n",
       "      <td>9.4</td>\n",
       "    </tr>\n",
       "    <tr>\n",
       "      <th>45652</th>\n",
       "      <td>JoJo's Bizarre Adventure</td>\n",
       "      <td>Animation, Action, Adventure</td>\n",
       "      <td>9.5</td>\n",
       "      <td>1,796</td>\n",
       "      <td>25 min</td>\n",
       "      <td>(2012– )</td>\n",
       "      <td>Bruno continues his desperate struggle against...</td>\n",
       "      <td>Griffin Burns,Junya Enoki,Lizzie Freeman,Kelle...</td>\n",
       "      <td>TV-MA</td>\n",
       "      <td>0</td>\n",
       "      <td>1796</td>\n",
       "      <td>1</td>\n",
       "      <td>The Mystery of King Crimson</td>\n",
       "      <td>9.5</td>\n",
       "    </tr>\n",
       "  </tbody>\n",
       "</table>\n",
       "<p>446 rows × 14 columns</p>\n",
       "</div>"
      ],
      "text/plain": [
       "                          Title                         Genre User Rating  \\\n",
       "11331           Fighting Spirit     Animation, Action, Comedy         8.5   \n",
       "11550         Full Metal Panic!  Animation, Action, Adventure         8.1   \n",
       "11985               Dragon Ball  Animation, Action, Adventure         8.3   \n",
       "11995               Dragon Ball  Animation, Action, Adventure         8.2   \n",
       "12055               Dragon Ball  Animation, Action, Adventure         8.1   \n",
       "...                         ...                           ...         ...   \n",
       "45583         Is this a Zombie?     Animation, Action, Comedy         8.7   \n",
       "45613  JoJo's Bizarre Adventure  Animation, Action, Adventure         8.6   \n",
       "45615  JoJo's Bizarre Adventure  Animation, Action, Adventure         9.0   \n",
       "45647  JoJo's Bizarre Adventure  Animation, Action, Adventure         9.4   \n",
       "45652  JoJo's Bizarre Adventure  Animation, Action, Adventure         9.5   \n",
       "\n",
       "      Number of Votes Runtime         Year  \\\n",
       "11331             108  23 min  (2000–2002)   \n",
       "11550              61  24 min  (2002–2006)   \n",
       "11985             420  24 min  (1986–1989)   \n",
       "11995             341  24 min  (1986–1989)   \n",
       "12055             326  24 min  (1986–1989)   \n",
       "...               ...     ...          ...   \n",
       "45583              13  25 min  (2011–2012)   \n",
       "45613           1,093  25 min     (2012– )   \n",
       "45615           1,399  25 min     (2012– )   \n",
       "45647           1,537  25 min     (2012– )   \n",
       "45652           1,796  25 min     (2012– )   \n",
       "\n",
       "                                                 Summary  \\\n",
       "11331  Aoki, Kimura, and Takemura all fight their fig...   \n",
       "11550  After Sousuke blows up his shoe locker, a stra...   \n",
       "11985  Mercenary Tao is hired to kill Goku and retrie...   \n",
       "11995  Pilaf, Shu and Mai set off to Fortuneteller Ba...   \n",
       "12055  Tien grows two extra arms and gains an advanta...   \n",
       "...                                                  ...   \n",
       "45583  Ayumu tries to keep the peace as Haruna scours...   \n",
       "45613  With Baby Face defeated, the group continues d...   \n",
       "45615  Giorno drives into the canals of Venice in the...   \n",
       "45647  The boss gives the gang one final mission: del...   \n",
       "45652  Bruno continues his desperate struggle against...   \n",
       "\n",
       "                                                   Stars Certificate  \\\n",
       "11331  Grant George,Beau Billingslea,Richard Cansino,...       TV-PG   \n",
       "11550  Tomokazu Seki,Satsuki Yukino,Toshiyuki Morikaw...       TV-PG   \n",
       "11985  Brice Armstrong,Dameon Clarke,Toshio Furukawa,...       TV-14   \n",
       "11995  Monika Antonelli,Brice Armstrong,Shigeru Chiba...       TV-14   \n",
       "12055  Monika Antonelli,Brice Armstrong,John Burgmeie...       TV-14   \n",
       "...                                                  ...         ...   \n",
       "45583  Anthony Bowling,Megan Emerick,Caitlin Glass,To...       TV-MA   \n",
       "45613  Junya Enoki,Lizzie Freeman,Shinshû Fuji,Kellen...       TV-MA   \n",
       "45615    Ray Chase,Sean Chiplock,Junya Enoki,Kellen Goff       TV-MA   \n",
       "45647  Junya Enoki,Lizzie Freeman,Kellen Goff,Nicole ...       TV-MA   \n",
       "45652  Griffin Burns,Junya Enoki,Lizzie Freeman,Kelle...       TV-MA   \n",
       "\n",
       "      Metascore Gross Episode  \\\n",
       "11331         0   108       1   \n",
       "11550         0    61       1   \n",
       "11985         0   420       1   \n",
       "11995         0   341       1   \n",
       "12055         0   326       1   \n",
       "...         ...   ...     ...   \n",
       "45583         0    13       1   \n",
       "45613         0  1093       1   \n",
       "45615         0  1399       1   \n",
       "45647         0  1537       1   \n",
       "45652         0  1796       1   \n",
       "\n",
       "                                           Episode Title  numeric_rating  \n",
       "11331                                 The Coach's Crisis             8.5  \n",
       "11550  The Man from the South/A Hostage with No Compr...             8.1  \n",
       "11985        Kita! Sekai'ichi no koroshiya \"Tao Pai Pai\"             8.3  \n",
       "11995                         Kamen otoko no shôtai wa!?             8.2  \n",
       "12055                    Sei ka shi ka!? Saigo no shudan             8.1  \n",
       "...                                                  ...             ...  \n",
       "45583                OVA: Yes, Thank You for this Encore             8.7  \n",
       "45613                                    Head to Venice!             8.6  \n",
       "45615                                          White Ice             9.0  \n",
       "45647                    The Final Mission From The Boss             9.4  \n",
       "45652                        The Mystery of King Crimson             9.5  \n",
       "\n",
       "[446 rows x 14 columns]"
      ]
     },
     "execution_count": 165,
     "metadata": {},
     "output_type": "execute_result"
    }
   ],
   "source": [
    "# Use Boolean Indexing to get rows whose 'numeric_rating' is greater than 8\n",
    "\n",
    "data[data['numeric_rating'] > 8]"
   ]
  },
  {
   "cell_type": "code",
   "execution_count": 45,
   "id": "5b1393cd",
   "metadata": {},
   "outputs": [
    {
     "data": {
      "text/plain": [
       "10940    7.7\n",
       "10942    7.3\n",
       "10943    7.3\n",
       "10944    7.4\n",
       "10945    7.8\n",
       "        ... \n",
       "45654    6.6\n",
       "45680    6.8\n",
       "45681    6.8\n",
       "45688    7.7\n",
       "45692    6.2\n",
       "Name: numeric_rating, Length: 1871, dtype: float64"
      ]
     },
     "execution_count": 45,
     "metadata": {},
     "output_type": "execute_result"
    }
   ],
   "source": [
    "# Sort values (similar to Order BY in SQL)\n",
    "\n",
    "data['numeric_rating']"
   ]
  },
  {
   "cell_type": "code",
   "execution_count": 168,
   "id": "922e8ae9",
   "metadata": {},
   "outputs": [
    {
     "data": {
      "text/plain": [
       "13861    3.5\n",
       "13012    3.9\n",
       "41682    4.0\n",
       "23197    4.4\n",
       "43249    4.4\n",
       "        ... \n",
       "28334    9.7\n",
       "28499    9.8\n",
       "28041    9.8\n",
       "15420    9.8\n",
       "17874    9.9\n",
       "Name: numeric_rating, Length: 1871, dtype: float64"
      ]
     },
     "execution_count": 168,
     "metadata": {},
     "output_type": "execute_result"
    }
   ],
   "source": [
    "data['numeric_rating'].sort_values(ascending = True)"
   ]
  },
  {
   "cell_type": "code",
   "execution_count": 118,
   "id": "e3ab7e0e",
   "metadata": {},
   "outputs": [
    {
     "name": "stdout",
     "output_type": "stream",
     "text": [
      "<class 'pandas.core.frame.DataFrame'>\n",
      "Int64Index: 1871 entries, 10940 to 45692\n",
      "Data columns (total 13 columns):\n",
      " #   Column           Non-Null Count  Dtype  \n",
      "---  ------           --------------  -----  \n",
      " 0   Title            1871 non-null   object \n",
      " 1   Genre            1871 non-null   object \n",
      " 2   User Rating      1871 non-null   object \n",
      " 3   Number of Votes  1871 non-null   object \n",
      " 4   Runtime          1871 non-null   object \n",
      " 5   Year             1871 non-null   object \n",
      " 6   Summary          1871 non-null   object \n",
      " 7   Stars            1871 non-null   object \n",
      " 8   Certificate      1871 non-null   object \n",
      " 9   Gross            1871 non-null   object \n",
      " 10  Episode          1871 non-null   object \n",
      " 11  Episode Title    1871 non-null   object \n",
      " 12  numeric_rating   1871 non-null   float64\n",
      "dtypes: float64(1), object(12)\n",
      "memory usage: 204.6+ KB\n"
     ]
    }
   ],
   "source": [
    "data.info()"
   ]
  },
  {
   "cell_type": "code",
   "execution_count": 169,
   "id": "8e48d95b",
   "metadata": {
    "scrolled": true
   },
   "outputs": [
    {
     "data": {
      "text/html": [
       "<div>\n",
       "<style scoped>\n",
       "    .dataframe tbody tr th:only-of-type {\n",
       "        vertical-align: middle;\n",
       "    }\n",
       "\n",
       "    .dataframe tbody tr th {\n",
       "        vertical-align: top;\n",
       "    }\n",
       "\n",
       "    .dataframe thead th {\n",
       "        text-align: right;\n",
       "    }\n",
       "</style>\n",
       "<table border=\"1\" class=\"dataframe\">\n",
       "  <thead>\n",
       "    <tr style=\"text-align: right;\">\n",
       "      <th></th>\n",
       "      <th>Title</th>\n",
       "      <th>Genre</th>\n",
       "      <th>User Rating</th>\n",
       "      <th>Number of Votes</th>\n",
       "      <th>Runtime</th>\n",
       "      <th>Year</th>\n",
       "      <th>Summary</th>\n",
       "      <th>Stars</th>\n",
       "      <th>Certificate</th>\n",
       "      <th>Metascore</th>\n",
       "      <th>Gross</th>\n",
       "      <th>Episode</th>\n",
       "      <th>Episode Title</th>\n",
       "      <th>numeric_rating</th>\n",
       "    </tr>\n",
       "  </thead>\n",
       "  <tbody>\n",
       "    <tr>\n",
       "      <th>13636</th>\n",
       "      <td>Idaten Jump</td>\n",
       "      <td>Animation, Adventure, Comedy</td>\n",
       "      <td>9.7</td>\n",
       "      <td>8</td>\n",
       "      <td>20 min</td>\n",
       "      <td>(2005–2006)</td>\n",
       "      <td>These 3 friends went to meet Mr. Zentaro to hi...</td>\n",
       "      <td>Steve Blum,Dorothy Elias-Fahn,Yuri Lowenthal,P...</td>\n",
       "      <td>TV-PG</td>\n",
       "      <td>0</td>\n",
       "      <td>8</td>\n",
       "      <td>1</td>\n",
       "      <td>Hono no kazan no battle!!</td>\n",
       "      <td>9.7</td>\n",
       "    </tr>\n",
       "    <tr>\n",
       "      <th>13744</th>\n",
       "      <td>Idaten Jump</td>\n",
       "      <td>Animation, Adventure, Comedy</td>\n",
       "      <td>9.2</td>\n",
       "      <td>7</td>\n",
       "      <td>20 min</td>\n",
       "      <td>(2005–2006)</td>\n",
       "      <td>To be a good person Plese keep clean your coun...</td>\n",
       "      <td>Brian Beacock,Steve Blum,Dorothy Elias-Fahn,Yu...</td>\n",
       "      <td>TV-PG</td>\n",
       "      <td>0</td>\n",
       "      <td>7</td>\n",
       "      <td>1</td>\n",
       "      <td>Saishu Kessen! Flame Kaiser VS. Bloody Fang</td>\n",
       "      <td>9.2</td>\n",
       "    </tr>\n",
       "    <tr>\n",
       "      <th>14718</th>\n",
       "      <td>One Piece</td>\n",
       "      <td>Animation, Action, Adventure</td>\n",
       "      <td>9.1</td>\n",
       "      <td>2,268</td>\n",
       "      <td>24 min</td>\n",
       "      <td>(1999– )</td>\n",
       "      <td>Zoro struggles in a fierce battle against Mr. ...</td>\n",
       "      <td>Mayumi Tanaka,Nell Balaban,Tony Beck,Luci Chri...</td>\n",
       "      <td>TV-14</td>\n",
       "      <td>0</td>\n",
       "      <td>2268</td>\n",
       "      <td>1</td>\n",
       "      <td>Gouken no Gokui! Koutetsu o Kiru Chikara to Mo...</td>\n",
       "      <td>9.1</td>\n",
       "    </tr>\n",
       "    <tr>\n",
       "      <th>14981</th>\n",
       "      <td>One Piece</td>\n",
       "      <td>Animation, Action, Adventure</td>\n",
       "      <td>9.4</td>\n",
       "      <td>3,090</td>\n",
       "      <td>24 min</td>\n",
       "      <td>(1999– )</td>\n",
       "      <td>The bomb explodes in the sky, the impact blows...</td>\n",
       "      <td>Mayumi Tanaka,Nell Balaban,Tony Beck,Luci Chri...</td>\n",
       "      <td>TV-14</td>\n",
       "      <td>0</td>\n",
       "      <td>3090</td>\n",
       "      <td>1</td>\n",
       "      <td>Koeteiku! Arabasta ni Ame ga Furu!</td>\n",
       "      <td>9.4</td>\n",
       "    </tr>\n",
       "    <tr>\n",
       "      <th>14987</th>\n",
       "      <td>One Piece</td>\n",
       "      <td>Animation, Action, Adventure</td>\n",
       "      <td>9.1</td>\n",
       "      <td>2,133</td>\n",
       "      <td>24 min</td>\n",
       "      <td>(1999– )</td>\n",
       "      <td>Vivi gives her speech in front of the people o...</td>\n",
       "      <td>Mayumi Tanaka,Nell Balaban,Tony Beck,John Burg...</td>\n",
       "      <td>TV-14</td>\n",
       "      <td>0</td>\n",
       "      <td>2133</td>\n",
       "      <td>1</td>\n",
       "      <td>Hajimari wa Ano Hi! Vivi ga Kataru Boukentan!</td>\n",
       "      <td>9.1</td>\n",
       "    </tr>\n",
       "    <tr>\n",
       "      <th>...</th>\n",
       "      <td>...</td>\n",
       "      <td>...</td>\n",
       "      <td>...</td>\n",
       "      <td>...</td>\n",
       "      <td>...</td>\n",
       "      <td>...</td>\n",
       "      <td>...</td>\n",
       "      <td>...</td>\n",
       "      <td>...</td>\n",
       "      <td>...</td>\n",
       "      <td>...</td>\n",
       "      <td>...</td>\n",
       "      <td>...</td>\n",
       "      <td>...</td>\n",
       "    </tr>\n",
       "    <tr>\n",
       "      <th>45573</th>\n",
       "      <td>JoJo's Bizarre Adventure</td>\n",
       "      <td>Animation, Action, Adventure</td>\n",
       "      <td>9.2</td>\n",
       "      <td>1,449</td>\n",
       "      <td>25 min</td>\n",
       "      <td>(2012– )</td>\n",
       "      <td>The Grateful Dead slowly begins to age everybo...</td>\n",
       "      <td>Junya Enoki,Lizzie Freeman,Mick Lauer,Yûichi N...</td>\n",
       "      <td>TV-MA</td>\n",
       "      <td>0</td>\n",
       "      <td>1449</td>\n",
       "      <td>1</td>\n",
       "      <td>The Grateful Dead, Part 1</td>\n",
       "      <td>9.2</td>\n",
       "    </tr>\n",
       "    <tr>\n",
       "      <th>45582</th>\n",
       "      <td>JoJo's Bizarre Adventure</td>\n",
       "      <td>Animation, Action, Adventure</td>\n",
       "      <td>9.3</td>\n",
       "      <td>1,503</td>\n",
       "      <td>25 min</td>\n",
       "      <td>(2012– )</td>\n",
       "      <td>To protect his teammates, Bruno manages to kno...</td>\n",
       "      <td>Junya Enoki,Lizzie Freeman,Mick Lauer,Yûichi N...</td>\n",
       "      <td>TV-MA</td>\n",
       "      <td>0</td>\n",
       "      <td>1503</td>\n",
       "      <td>1</td>\n",
       "      <td>The Grateful Dead, Part 2</td>\n",
       "      <td>9.3</td>\n",
       "    </tr>\n",
       "    <tr>\n",
       "      <th>45615</th>\n",
       "      <td>JoJo's Bizarre Adventure</td>\n",
       "      <td>Animation, Action, Adventure</td>\n",
       "      <td>9.0</td>\n",
       "      <td>1,399</td>\n",
       "      <td>25 min</td>\n",
       "      <td>(2012– )</td>\n",
       "      <td>Giorno drives into the canals of Venice in the...</td>\n",
       "      <td>Ray Chase,Sean Chiplock,Junya Enoki,Kellen Goff</td>\n",
       "      <td>TV-MA</td>\n",
       "      <td>0</td>\n",
       "      <td>1399</td>\n",
       "      <td>1</td>\n",
       "      <td>White Ice</td>\n",
       "      <td>9.0</td>\n",
       "    </tr>\n",
       "    <tr>\n",
       "      <th>45647</th>\n",
       "      <td>JoJo's Bizarre Adventure</td>\n",
       "      <td>Animation, Action, Adventure</td>\n",
       "      <td>9.4</td>\n",
       "      <td>1,537</td>\n",
       "      <td>25 min</td>\n",
       "      <td>(2012– )</td>\n",
       "      <td>The boss gives the gang one final mission: del...</td>\n",
       "      <td>Junya Enoki,Lizzie Freeman,Kellen Goff,Nicole ...</td>\n",
       "      <td>TV-MA</td>\n",
       "      <td>0</td>\n",
       "      <td>1537</td>\n",
       "      <td>1</td>\n",
       "      <td>The Final Mission From The Boss</td>\n",
       "      <td>9.4</td>\n",
       "    </tr>\n",
       "    <tr>\n",
       "      <th>45652</th>\n",
       "      <td>JoJo's Bizarre Adventure</td>\n",
       "      <td>Animation, Action, Adventure</td>\n",
       "      <td>9.5</td>\n",
       "      <td>1,796</td>\n",
       "      <td>25 min</td>\n",
       "      <td>(2012– )</td>\n",
       "      <td>Bruno continues his desperate struggle against...</td>\n",
       "      <td>Griffin Burns,Junya Enoki,Lizzie Freeman,Kelle...</td>\n",
       "      <td>TV-MA</td>\n",
       "      <td>0</td>\n",
       "      <td>1796</td>\n",
       "      <td>1</td>\n",
       "      <td>The Mystery of King Crimson</td>\n",
       "      <td>9.5</td>\n",
       "    </tr>\n",
       "  </tbody>\n",
       "</table>\n",
       "<p>101 rows × 14 columns</p>\n",
       "</div>"
      ],
      "text/plain": [
       "                          Title                         Genre User Rating  \\\n",
       "13636               Idaten Jump  Animation, Adventure, Comedy         9.7   \n",
       "13744               Idaten Jump  Animation, Adventure, Comedy         9.2   \n",
       "14718                 One Piece  Animation, Action, Adventure         9.1   \n",
       "14981                 One Piece  Animation, Action, Adventure         9.4   \n",
       "14987                 One Piece  Animation, Action, Adventure         9.1   \n",
       "...                         ...                           ...         ...   \n",
       "45573  JoJo's Bizarre Adventure  Animation, Action, Adventure         9.2   \n",
       "45582  JoJo's Bizarre Adventure  Animation, Action, Adventure         9.3   \n",
       "45615  JoJo's Bizarre Adventure  Animation, Action, Adventure         9.0   \n",
       "45647  JoJo's Bizarre Adventure  Animation, Action, Adventure         9.4   \n",
       "45652  JoJo's Bizarre Adventure  Animation, Action, Adventure         9.5   \n",
       "\n",
       "      Number of Votes Runtime         Year  \\\n",
       "13636               8  20 min  (2005–2006)   \n",
       "13744               7  20 min  (2005–2006)   \n",
       "14718           2,268  24 min     (1999– )   \n",
       "14981           3,090  24 min     (1999– )   \n",
       "14987           2,133  24 min     (1999– )   \n",
       "...               ...     ...          ...   \n",
       "45573           1,449  25 min     (2012– )   \n",
       "45582           1,503  25 min     (2012– )   \n",
       "45615           1,399  25 min     (2012– )   \n",
       "45647           1,537  25 min     (2012– )   \n",
       "45652           1,796  25 min     (2012– )   \n",
       "\n",
       "                                                 Summary  \\\n",
       "13636  These 3 friends went to meet Mr. Zentaro to hi...   \n",
       "13744  To be a good person Plese keep clean your coun...   \n",
       "14718  Zoro struggles in a fierce battle against Mr. ...   \n",
       "14981  The bomb explodes in the sky, the impact blows...   \n",
       "14987  Vivi gives her speech in front of the people o...   \n",
       "...                                                  ...   \n",
       "45573  The Grateful Dead slowly begins to age everybo...   \n",
       "45582  To protect his teammates, Bruno manages to kno...   \n",
       "45615  Giorno drives into the canals of Venice in the...   \n",
       "45647  The boss gives the gang one final mission: del...   \n",
       "45652  Bruno continues his desperate struggle against...   \n",
       "\n",
       "                                                   Stars Certificate  \\\n",
       "13636  Steve Blum,Dorothy Elias-Fahn,Yuri Lowenthal,P...       TV-PG   \n",
       "13744  Brian Beacock,Steve Blum,Dorothy Elias-Fahn,Yu...       TV-PG   \n",
       "14718  Mayumi Tanaka,Nell Balaban,Tony Beck,Luci Chri...       TV-14   \n",
       "14981  Mayumi Tanaka,Nell Balaban,Tony Beck,Luci Chri...       TV-14   \n",
       "14987  Mayumi Tanaka,Nell Balaban,Tony Beck,John Burg...       TV-14   \n",
       "...                                                  ...         ...   \n",
       "45573  Junya Enoki,Lizzie Freeman,Mick Lauer,Yûichi N...       TV-MA   \n",
       "45582  Junya Enoki,Lizzie Freeman,Mick Lauer,Yûichi N...       TV-MA   \n",
       "45615    Ray Chase,Sean Chiplock,Junya Enoki,Kellen Goff       TV-MA   \n",
       "45647  Junya Enoki,Lizzie Freeman,Kellen Goff,Nicole ...       TV-MA   \n",
       "45652  Griffin Burns,Junya Enoki,Lizzie Freeman,Kelle...       TV-MA   \n",
       "\n",
       "      Metascore Gross Episode  \\\n",
       "13636         0     8       1   \n",
       "13744         0     7       1   \n",
       "14718         0  2268       1   \n",
       "14981         0  3090       1   \n",
       "14987         0  2133       1   \n",
       "...         ...   ...     ...   \n",
       "45573         0  1449       1   \n",
       "45582         0  1503       1   \n",
       "45615         0  1399       1   \n",
       "45647         0  1537       1   \n",
       "45652         0  1796       1   \n",
       "\n",
       "                                           Episode Title  numeric_rating  \n",
       "13636                          Hono no kazan no battle!!             9.7  \n",
       "13744        Saishu Kessen! Flame Kaiser VS. Bloody Fang             9.2  \n",
       "14718  Gouken no Gokui! Koutetsu o Kiru Chikara to Mo...             9.1  \n",
       "14981                 Koeteiku! Arabasta ni Ame ga Furu!             9.4  \n",
       "14987      Hajimari wa Ano Hi! Vivi ga Kataru Boukentan!             9.1  \n",
       "...                                                  ...             ...  \n",
       "45573                          The Grateful Dead, Part 1             9.2  \n",
       "45582                          The Grateful Dead, Part 2             9.3  \n",
       "45615                                          White Ice             9.0  \n",
       "45647                    The Final Mission From The Boss             9.4  \n",
       "45652                        The Mystery of King Crimson             9.5  \n",
       "\n",
       "[101 rows x 14 columns]"
      ]
     },
     "execution_count": 169,
     "metadata": {},
     "output_type": "execute_result"
    }
   ],
   "source": [
    "# Select rows whose 'numeric_rating' column is between 9 and 9.9\n",
    "\n",
    "data[data['numeric_rating'].between(9,9.9)]"
   ]
  },
  {
   "cell_type": "markdown",
   "id": "f0a88700",
   "metadata": {},
   "source": [
    "### Boolean Indexing Symbols :\n",
    "\n",
    "- & : and\n",
    "\n",
    "- | : or\n",
    "\n",
    "- ~ : not"
   ]
  },
  {
   "cell_type": "code",
   "execution_count": 171,
   "id": "44426b68",
   "metadata": {
    "scrolled": true
   },
   "outputs": [
    {
     "data": {
      "text/html": [
       "<div>\n",
       "<style scoped>\n",
       "    .dataframe tbody tr th:only-of-type {\n",
       "        vertical-align: middle;\n",
       "    }\n",
       "\n",
       "    .dataframe tbody tr th {\n",
       "        vertical-align: top;\n",
       "    }\n",
       "\n",
       "    .dataframe thead th {\n",
       "        text-align: right;\n",
       "    }\n",
       "</style>\n",
       "<table border=\"1\" class=\"dataframe\">\n",
       "  <thead>\n",
       "    <tr style=\"text-align: right;\">\n",
       "      <th></th>\n",
       "      <th>Title</th>\n",
       "      <th>Genre</th>\n",
       "      <th>User Rating</th>\n",
       "      <th>Number of Votes</th>\n",
       "      <th>Runtime</th>\n",
       "      <th>Year</th>\n",
       "      <th>Summary</th>\n",
       "      <th>Stars</th>\n",
       "      <th>Certificate</th>\n",
       "      <th>Metascore</th>\n",
       "      <th>Gross</th>\n",
       "      <th>Episode</th>\n",
       "      <th>Episode Title</th>\n",
       "      <th>numeric_rating</th>\n",
       "    </tr>\n",
       "  </thead>\n",
       "  <tbody>\n",
       "    <tr>\n",
       "      <th>13636</th>\n",
       "      <td>Idaten Jump</td>\n",
       "      <td>Animation, Adventure, Comedy</td>\n",
       "      <td>9.7</td>\n",
       "      <td>8</td>\n",
       "      <td>20 min</td>\n",
       "      <td>(2005–2006)</td>\n",
       "      <td>These 3 friends went to meet Mr. Zentaro to hi...</td>\n",
       "      <td>Steve Blum,Dorothy Elias-Fahn,Yuri Lowenthal,P...</td>\n",
       "      <td>TV-PG</td>\n",
       "      <td>0</td>\n",
       "      <td>8</td>\n",
       "      <td>1</td>\n",
       "      <td>Hono no kazan no battle!!</td>\n",
       "      <td>9.7</td>\n",
       "    </tr>\n",
       "    <tr>\n",
       "      <th>13744</th>\n",
       "      <td>Idaten Jump</td>\n",
       "      <td>Animation, Adventure, Comedy</td>\n",
       "      <td>9.2</td>\n",
       "      <td>7</td>\n",
       "      <td>20 min</td>\n",
       "      <td>(2005–2006)</td>\n",
       "      <td>To be a good person Plese keep clean your coun...</td>\n",
       "      <td>Brian Beacock,Steve Blum,Dorothy Elias-Fahn,Yu...</td>\n",
       "      <td>TV-PG</td>\n",
       "      <td>0</td>\n",
       "      <td>7</td>\n",
       "      <td>1</td>\n",
       "      <td>Saishu Kessen! Flame Kaiser VS. Bloody Fang</td>\n",
       "      <td>9.2</td>\n",
       "    </tr>\n",
       "    <tr>\n",
       "      <th>14718</th>\n",
       "      <td>One Piece</td>\n",
       "      <td>Animation, Action, Adventure</td>\n",
       "      <td>9.1</td>\n",
       "      <td>2,268</td>\n",
       "      <td>24 min</td>\n",
       "      <td>(1999– )</td>\n",
       "      <td>Zoro struggles in a fierce battle against Mr. ...</td>\n",
       "      <td>Mayumi Tanaka,Nell Balaban,Tony Beck,Luci Chri...</td>\n",
       "      <td>TV-14</td>\n",
       "      <td>0</td>\n",
       "      <td>2268</td>\n",
       "      <td>1</td>\n",
       "      <td>Gouken no Gokui! Koutetsu o Kiru Chikara to Mo...</td>\n",
       "      <td>9.1</td>\n",
       "    </tr>\n",
       "    <tr>\n",
       "      <th>14981</th>\n",
       "      <td>One Piece</td>\n",
       "      <td>Animation, Action, Adventure</td>\n",
       "      <td>9.4</td>\n",
       "      <td>3,090</td>\n",
       "      <td>24 min</td>\n",
       "      <td>(1999– )</td>\n",
       "      <td>The bomb explodes in the sky, the impact blows...</td>\n",
       "      <td>Mayumi Tanaka,Nell Balaban,Tony Beck,Luci Chri...</td>\n",
       "      <td>TV-14</td>\n",
       "      <td>0</td>\n",
       "      <td>3090</td>\n",
       "      <td>1</td>\n",
       "      <td>Koeteiku! Arabasta ni Ame ga Furu!</td>\n",
       "      <td>9.4</td>\n",
       "    </tr>\n",
       "    <tr>\n",
       "      <th>14987</th>\n",
       "      <td>One Piece</td>\n",
       "      <td>Animation, Action, Adventure</td>\n",
       "      <td>9.1</td>\n",
       "      <td>2,133</td>\n",
       "      <td>24 min</td>\n",
       "      <td>(1999– )</td>\n",
       "      <td>Vivi gives her speech in front of the people o...</td>\n",
       "      <td>Mayumi Tanaka,Nell Balaban,Tony Beck,John Burg...</td>\n",
       "      <td>TV-14</td>\n",
       "      <td>0</td>\n",
       "      <td>2133</td>\n",
       "      <td>1</td>\n",
       "      <td>Hajimari wa Ano Hi! Vivi ga Kataru Boukentan!</td>\n",
       "      <td>9.1</td>\n",
       "    </tr>\n",
       "    <tr>\n",
       "      <th>...</th>\n",
       "      <td>...</td>\n",
       "      <td>...</td>\n",
       "      <td>...</td>\n",
       "      <td>...</td>\n",
       "      <td>...</td>\n",
       "      <td>...</td>\n",
       "      <td>...</td>\n",
       "      <td>...</td>\n",
       "      <td>...</td>\n",
       "      <td>...</td>\n",
       "      <td>...</td>\n",
       "      <td>...</td>\n",
       "      <td>...</td>\n",
       "      <td>...</td>\n",
       "    </tr>\n",
       "    <tr>\n",
       "      <th>45573</th>\n",
       "      <td>JoJo's Bizarre Adventure</td>\n",
       "      <td>Animation, Action, Adventure</td>\n",
       "      <td>9.2</td>\n",
       "      <td>1,449</td>\n",
       "      <td>25 min</td>\n",
       "      <td>(2012– )</td>\n",
       "      <td>The Grateful Dead slowly begins to age everybo...</td>\n",
       "      <td>Junya Enoki,Lizzie Freeman,Mick Lauer,Yûichi N...</td>\n",
       "      <td>TV-MA</td>\n",
       "      <td>0</td>\n",
       "      <td>1449</td>\n",
       "      <td>1</td>\n",
       "      <td>The Grateful Dead, Part 1</td>\n",
       "      <td>9.2</td>\n",
       "    </tr>\n",
       "    <tr>\n",
       "      <th>45582</th>\n",
       "      <td>JoJo's Bizarre Adventure</td>\n",
       "      <td>Animation, Action, Adventure</td>\n",
       "      <td>9.3</td>\n",
       "      <td>1,503</td>\n",
       "      <td>25 min</td>\n",
       "      <td>(2012– )</td>\n",
       "      <td>To protect his teammates, Bruno manages to kno...</td>\n",
       "      <td>Junya Enoki,Lizzie Freeman,Mick Lauer,Yûichi N...</td>\n",
       "      <td>TV-MA</td>\n",
       "      <td>0</td>\n",
       "      <td>1503</td>\n",
       "      <td>1</td>\n",
       "      <td>The Grateful Dead, Part 2</td>\n",
       "      <td>9.3</td>\n",
       "    </tr>\n",
       "    <tr>\n",
       "      <th>45615</th>\n",
       "      <td>JoJo's Bizarre Adventure</td>\n",
       "      <td>Animation, Action, Adventure</td>\n",
       "      <td>9.0</td>\n",
       "      <td>1,399</td>\n",
       "      <td>25 min</td>\n",
       "      <td>(2012– )</td>\n",
       "      <td>Giorno drives into the canals of Venice in the...</td>\n",
       "      <td>Ray Chase,Sean Chiplock,Junya Enoki,Kellen Goff</td>\n",
       "      <td>TV-MA</td>\n",
       "      <td>0</td>\n",
       "      <td>1399</td>\n",
       "      <td>1</td>\n",
       "      <td>White Ice</td>\n",
       "      <td>9.0</td>\n",
       "    </tr>\n",
       "    <tr>\n",
       "      <th>45647</th>\n",
       "      <td>JoJo's Bizarre Adventure</td>\n",
       "      <td>Animation, Action, Adventure</td>\n",
       "      <td>9.4</td>\n",
       "      <td>1,537</td>\n",
       "      <td>25 min</td>\n",
       "      <td>(2012– )</td>\n",
       "      <td>The boss gives the gang one final mission: del...</td>\n",
       "      <td>Junya Enoki,Lizzie Freeman,Kellen Goff,Nicole ...</td>\n",
       "      <td>TV-MA</td>\n",
       "      <td>0</td>\n",
       "      <td>1537</td>\n",
       "      <td>1</td>\n",
       "      <td>The Final Mission From The Boss</td>\n",
       "      <td>9.4</td>\n",
       "    </tr>\n",
       "    <tr>\n",
       "      <th>45652</th>\n",
       "      <td>JoJo's Bizarre Adventure</td>\n",
       "      <td>Animation, Action, Adventure</td>\n",
       "      <td>9.5</td>\n",
       "      <td>1,796</td>\n",
       "      <td>25 min</td>\n",
       "      <td>(2012– )</td>\n",
       "      <td>Bruno continues his desperate struggle against...</td>\n",
       "      <td>Griffin Burns,Junya Enoki,Lizzie Freeman,Kelle...</td>\n",
       "      <td>TV-MA</td>\n",
       "      <td>0</td>\n",
       "      <td>1796</td>\n",
       "      <td>1</td>\n",
       "      <td>The Mystery of King Crimson</td>\n",
       "      <td>9.5</td>\n",
       "    </tr>\n",
       "  </tbody>\n",
       "</table>\n",
       "<p>101 rows × 14 columns</p>\n",
       "</div>"
      ],
      "text/plain": [
       "                          Title                         Genre User Rating  \\\n",
       "13636               Idaten Jump  Animation, Adventure, Comedy         9.7   \n",
       "13744               Idaten Jump  Animation, Adventure, Comedy         9.2   \n",
       "14718                 One Piece  Animation, Action, Adventure         9.1   \n",
       "14981                 One Piece  Animation, Action, Adventure         9.4   \n",
       "14987                 One Piece  Animation, Action, Adventure         9.1   \n",
       "...                         ...                           ...         ...   \n",
       "45573  JoJo's Bizarre Adventure  Animation, Action, Adventure         9.2   \n",
       "45582  JoJo's Bizarre Adventure  Animation, Action, Adventure         9.3   \n",
       "45615  JoJo's Bizarre Adventure  Animation, Action, Adventure         9.0   \n",
       "45647  JoJo's Bizarre Adventure  Animation, Action, Adventure         9.4   \n",
       "45652  JoJo's Bizarre Adventure  Animation, Action, Adventure         9.5   \n",
       "\n",
       "      Number of Votes Runtime         Year  \\\n",
       "13636               8  20 min  (2005–2006)   \n",
       "13744               7  20 min  (2005–2006)   \n",
       "14718           2,268  24 min     (1999– )   \n",
       "14981           3,090  24 min     (1999– )   \n",
       "14987           2,133  24 min     (1999– )   \n",
       "...               ...     ...          ...   \n",
       "45573           1,449  25 min     (2012– )   \n",
       "45582           1,503  25 min     (2012– )   \n",
       "45615           1,399  25 min     (2012– )   \n",
       "45647           1,537  25 min     (2012– )   \n",
       "45652           1,796  25 min     (2012– )   \n",
       "\n",
       "                                                 Summary  \\\n",
       "13636  These 3 friends went to meet Mr. Zentaro to hi...   \n",
       "13744  To be a good person Plese keep clean your coun...   \n",
       "14718  Zoro struggles in a fierce battle against Mr. ...   \n",
       "14981  The bomb explodes in the sky, the impact blows...   \n",
       "14987  Vivi gives her speech in front of the people o...   \n",
       "...                                                  ...   \n",
       "45573  The Grateful Dead slowly begins to age everybo...   \n",
       "45582  To protect his teammates, Bruno manages to kno...   \n",
       "45615  Giorno drives into the canals of Venice in the...   \n",
       "45647  The boss gives the gang one final mission: del...   \n",
       "45652  Bruno continues his desperate struggle against...   \n",
       "\n",
       "                                                   Stars Certificate  \\\n",
       "13636  Steve Blum,Dorothy Elias-Fahn,Yuri Lowenthal,P...       TV-PG   \n",
       "13744  Brian Beacock,Steve Blum,Dorothy Elias-Fahn,Yu...       TV-PG   \n",
       "14718  Mayumi Tanaka,Nell Balaban,Tony Beck,Luci Chri...       TV-14   \n",
       "14981  Mayumi Tanaka,Nell Balaban,Tony Beck,Luci Chri...       TV-14   \n",
       "14987  Mayumi Tanaka,Nell Balaban,Tony Beck,John Burg...       TV-14   \n",
       "...                                                  ...         ...   \n",
       "45573  Junya Enoki,Lizzie Freeman,Mick Lauer,Yûichi N...       TV-MA   \n",
       "45582  Junya Enoki,Lizzie Freeman,Mick Lauer,Yûichi N...       TV-MA   \n",
       "45615    Ray Chase,Sean Chiplock,Junya Enoki,Kellen Goff       TV-MA   \n",
       "45647  Junya Enoki,Lizzie Freeman,Kellen Goff,Nicole ...       TV-MA   \n",
       "45652  Griffin Burns,Junya Enoki,Lizzie Freeman,Kelle...       TV-MA   \n",
       "\n",
       "      Metascore Gross Episode  \\\n",
       "13636         0     8       1   \n",
       "13744         0     7       1   \n",
       "14718         0  2268       1   \n",
       "14981         0  3090       1   \n",
       "14987         0  2133       1   \n",
       "...         ...   ...     ...   \n",
       "45573         0  1449       1   \n",
       "45582         0  1503       1   \n",
       "45615         0  1399       1   \n",
       "45647         0  1537       1   \n",
       "45652         0  1796       1   \n",
       "\n",
       "                                           Episode Title  numeric_rating  \n",
       "13636                          Hono no kazan no battle!!             9.7  \n",
       "13744        Saishu Kessen! Flame Kaiser VS. Bloody Fang             9.2  \n",
       "14718  Gouken no Gokui! Koutetsu o Kiru Chikara to Mo...             9.1  \n",
       "14981                 Koeteiku! Arabasta ni Ame ga Furu!             9.4  \n",
       "14987      Hajimari wa Ano Hi! Vivi ga Kataru Boukentan!             9.1  \n",
       "...                                                  ...             ...  \n",
       "45573                          The Grateful Dead, Part 1             9.2  \n",
       "45582                          The Grateful Dead, Part 2             9.3  \n",
       "45615                                          White Ice             9.0  \n",
       "45647                    The Final Mission From The Boss             9.4  \n",
       "45652                        The Mystery of King Crimson             9.5  \n",
       "\n",
       "[101 rows x 14 columns]"
      ]
     },
     "execution_count": 171,
     "metadata": {},
     "output_type": "execute_result"
    }
   ],
   "source": [
    "# The same using Boolean Indexing. Pay attention to parenthesis to seperate both conditions\n",
    "# When you have more than one condition, it's important to put conditions in parenthesis\n",
    "\n",
    "data[(data['numeric_rating']>= 9) & (data['numeric_rating']<= 9.9)]"
   ]
  },
  {
   "cell_type": "code",
   "execution_count": 172,
   "id": "c55c38e1",
   "metadata": {},
   "outputs": [
    {
     "data": {
      "text/plain": [
       "0.9013775033051613"
      ]
     },
     "execution_count": 172,
     "metadata": {},
     "output_type": "execute_result"
    }
   ],
   "source": [
    "# Standard Deviation\n",
    "\n",
    "data['numeric_rating'].std()"
   ]
  },
  {
   "cell_type": "code",
   "execution_count": 173,
   "id": "738c134b",
   "metadata": {},
   "outputs": [
    {
     "data": {
      "text/plain": [
       "7.465633351149118"
      ]
     },
     "execution_count": 173,
     "metadata": {},
     "output_type": "execute_result"
    }
   ],
   "source": [
    "data['numeric_rating'].mean()"
   ]
  },
  {
   "cell_type": "code",
   "execution_count": 174,
   "id": "60e142ac",
   "metadata": {},
   "outputs": [
    {
     "data": {
      "text/plain": [
       "array(['Animation, Action, Adventure', 'Animation, Action, Comedy',\n",
       "       'Animation, Adventure, Comedy', 'Animation, Comedy, Drama',\n",
       "       'Animation, Crime, Drama', 'Animation, Fantasy, Horror',\n",
       "       'Animation, Action, Drama', 'Animation, Adventure, Drama',\n",
       "       'Animation, Comedy, Romance', 'Animation, Action, Fantasy',\n",
       "       'Animation, Action, Crime', 'Animation, Action, Romance',\n",
       "       'Animation, Comedy, Family', 'Animation, Adventure, Fantasy',\n",
       "       'Animation, Short, Drama', 'Animation, Comedy',\n",
       "       'Animation, Comedy, Fantasy', 'Animation, Drama, Horror',\n",
       "       'Animation', 'Animation, Comedy, Sci-Fi'], dtype=object)"
      ]
     },
     "execution_count": 174,
     "metadata": {},
     "output_type": "execute_result"
    }
   ],
   "source": [
    "# What are the unique values of column 'Genre'\n",
    "\n",
    "data['Genre'].unique()"
   ]
  },
  {
   "cell_type": "code",
   "execution_count": 175,
   "id": "c151fe0b",
   "metadata": {},
   "outputs": [
    {
     "data": {
      "text/plain": [
       "Genre\n",
       "Animation, Action, Adventure     960\n",
       "Animation, Action, Comedy        266\n",
       "Animation, Action, Drama         136\n",
       "Animation, Comedy, Drama         121\n",
       "Animation, Adventure, Drama      101\n",
       "Animation, Adventure, Comedy      75\n",
       "Animation, Adventure, Fantasy     67\n",
       "Animation, Comedy, Romance        40\n",
       "Animation, Action, Crime          36\n",
       "Animation, Crime, Drama           25\n",
       "Animation, Action, Romance        15\n",
       "Animation, Action, Fantasy        11\n",
       "Animation, Drama, Horror           6\n",
       "Animation, Fantasy, Horror         4\n",
       "Animation, Short, Drama            3\n",
       "Animation, Comedy, Family          1\n",
       "Animation, Comedy                  1\n",
       "Animation, Comedy, Fantasy         1\n",
       "Animation                          1\n",
       "Animation, Comedy, Sci-Fi          1\n",
       "Name: count, dtype: int64"
      ]
     },
     "execution_count": 175,
     "metadata": {},
     "output_type": "execute_result"
    }
   ],
   "source": [
    "# Count occurences for each unique value\n",
    "\n",
    "data['Genre'].value_counts()"
   ]
  },
  {
   "cell_type": "code",
   "execution_count": 176,
   "id": "e723ac25",
   "metadata": {},
   "outputs": [
    {
     "data": {
      "text/html": [
       "<div>\n",
       "<style scoped>\n",
       "    .dataframe tbody tr th:only-of-type {\n",
       "        vertical-align: middle;\n",
       "    }\n",
       "\n",
       "    .dataframe tbody tr th {\n",
       "        vertical-align: top;\n",
       "    }\n",
       "\n",
       "    .dataframe thead th {\n",
       "        text-align: right;\n",
       "    }\n",
       "</style>\n",
       "<table border=\"1\" class=\"dataframe\">\n",
       "  <thead>\n",
       "    <tr style=\"text-align: right;\">\n",
       "      <th></th>\n",
       "      <th>Title</th>\n",
       "      <th>Genre</th>\n",
       "      <th>User Rating</th>\n",
       "      <th>Number of Votes</th>\n",
       "      <th>Runtime</th>\n",
       "      <th>Year</th>\n",
       "      <th>Summary</th>\n",
       "      <th>Stars</th>\n",
       "      <th>Certificate</th>\n",
       "      <th>Metascore</th>\n",
       "      <th>Gross</th>\n",
       "      <th>Episode</th>\n",
       "      <th>Episode Title</th>\n",
       "      <th>numeric_rating</th>\n",
       "    </tr>\n",
       "  </thead>\n",
       "  <tbody>\n",
       "    <tr>\n",
       "      <th>10940</th>\n",
       "      <td>Digimon Adventure</td>\n",
       "      <td>Animation, Action, Adventure</td>\n",
       "      <td>7.7</td>\n",
       "      <td>66</td>\n",
       "      <td>24 min</td>\n",
       "      <td>(1999–2000)</td>\n",
       "      <td>The kids stumble upon a strange factory where ...</td>\n",
       "      <td>Toshiko Fujita,Hiroaki Hirata,Yuto Kazama,Masa...</td>\n",
       "      <td>TV-Y7-FV</td>\n",
       "      <td>0</td>\n",
       "      <td>66</td>\n",
       "      <td>1</td>\n",
       "      <td>Denkô! Kabuterimon</td>\n",
       "      <td>7.7</td>\n",
       "    </tr>\n",
       "    <tr>\n",
       "      <th>10942</th>\n",
       "      <td>Digimon Adventure</td>\n",
       "      <td>Animation, Action, Adventure</td>\n",
       "      <td>7.3</td>\n",
       "      <td>55</td>\n",
       "      <td>24 min</td>\n",
       "      <td>(1999–2000)</td>\n",
       "      <td>T.K. and Patamon end up in Primary Village, th...</td>\n",
       "      <td>Hisao Egawa,Yukiko Hanioka,Hiroaki Hirata,Hiro...</td>\n",
       "      <td>TV-Y7-FV</td>\n",
       "      <td>0</td>\n",
       "      <td>55</td>\n",
       "      <td>1</td>\n",
       "      <td>Bôken! Patamon to boku</td>\n",
       "      <td>7.3</td>\n",
       "    </tr>\n",
       "    <tr>\n",
       "      <th>10943</th>\n",
       "      <td>Digimon Adventure</td>\n",
       "      <td>Animation, Action, Adventure</td>\n",
       "      <td>7.3</td>\n",
       "      <td>54</td>\n",
       "      <td>24 min</td>\n",
       "      <td>(1999–2000)</td>\n",
       "      <td>After suffering an attack from Ogremon at sea,...</td>\n",
       "      <td>Hisao Egawa,Hiroaki Hirata,Katashi Ishizuka,Ma...</td>\n",
       "      <td>TV-Y7-FV</td>\n",
       "      <td>0</td>\n",
       "      <td>54</td>\n",
       "      <td>1</td>\n",
       "      <td>Odoru bôrei! Bakemon</td>\n",
       "      <td>7.3</td>\n",
       "    </tr>\n",
       "    <tr>\n",
       "      <th>10944</th>\n",
       "      <td>Digimon Adventure</td>\n",
       "      <td>Animation, Action, Adventure</td>\n",
       "      <td>7.4</td>\n",
       "      <td>56</td>\n",
       "      <td>24 min</td>\n",
       "      <td>(1999–2000)</td>\n",
       "      <td>Mimi and Palmon are harassed by Sukamon and Ch...</td>\n",
       "      <td>Masaki Aizawa,Hiroaki Hirata,Motoko Kumai,Ai M...</td>\n",
       "      <td>TV-Y7-FV</td>\n",
       "      <td>0</td>\n",
       "      <td>56</td>\n",
       "      <td>1</td>\n",
       "      <td>Shugosha Kentarumon</td>\n",
       "      <td>7.4</td>\n",
       "    </tr>\n",
       "    <tr>\n",
       "      <th>10945</th>\n",
       "      <td>Digimon Adventure</td>\n",
       "      <td>Animation, Action, Adventure</td>\n",
       "      <td>7.8</td>\n",
       "      <td>54</td>\n",
       "      <td>24 min</td>\n",
       "      <td>(1999–2000)</td>\n",
       "      <td>A mysterious person named Gennai appears as a ...</td>\n",
       "      <td>Toshiko Fujita,Hiroaki Hirata,Nobuaki Kanemits...</td>\n",
       "      <td>TV-Y7-FV</td>\n",
       "      <td>0</td>\n",
       "      <td>54</td>\n",
       "      <td>1</td>\n",
       "      <td>Tabidachi shintairiku e!</td>\n",
       "      <td>7.8</td>\n",
       "    </tr>\n",
       "  </tbody>\n",
       "</table>\n",
       "</div>"
      ],
      "text/plain": [
       "                   Title                         Genre User Rating  \\\n",
       "10940  Digimon Adventure  Animation, Action, Adventure         7.7   \n",
       "10942  Digimon Adventure  Animation, Action, Adventure         7.3   \n",
       "10943  Digimon Adventure  Animation, Action, Adventure         7.3   \n",
       "10944  Digimon Adventure  Animation, Action, Adventure         7.4   \n",
       "10945  Digimon Adventure  Animation, Action, Adventure         7.8   \n",
       "\n",
       "      Number of Votes Runtime         Year  \\\n",
       "10940              66  24 min  (1999–2000)   \n",
       "10942              55  24 min  (1999–2000)   \n",
       "10943              54  24 min  (1999–2000)   \n",
       "10944              56  24 min  (1999–2000)   \n",
       "10945              54  24 min  (1999–2000)   \n",
       "\n",
       "                                                 Summary  \\\n",
       "10940  The kids stumble upon a strange factory where ...   \n",
       "10942  T.K. and Patamon end up in Primary Village, th...   \n",
       "10943  After suffering an attack from Ogremon at sea,...   \n",
       "10944  Mimi and Palmon are harassed by Sukamon and Ch...   \n",
       "10945  A mysterious person named Gennai appears as a ...   \n",
       "\n",
       "                                                   Stars Certificate  \\\n",
       "10940  Toshiko Fujita,Hiroaki Hirata,Yuto Kazama,Masa...    TV-Y7-FV   \n",
       "10942  Hisao Egawa,Yukiko Hanioka,Hiroaki Hirata,Hiro...    TV-Y7-FV   \n",
       "10943  Hisao Egawa,Hiroaki Hirata,Katashi Ishizuka,Ma...    TV-Y7-FV   \n",
       "10944  Masaki Aizawa,Hiroaki Hirata,Motoko Kumai,Ai M...    TV-Y7-FV   \n",
       "10945  Toshiko Fujita,Hiroaki Hirata,Nobuaki Kanemits...    TV-Y7-FV   \n",
       "\n",
       "      Metascore Gross Episode             Episode Title  numeric_rating  \n",
       "10940         0    66       1        Denkô! Kabuterimon             7.7  \n",
       "10942         0    55       1    Bôken! Patamon to boku             7.3  \n",
       "10943         0    54       1      Odoru bôrei! Bakemon             7.3  \n",
       "10944         0    56       1       Shugosha Kentarumon             7.4  \n",
       "10945         0    54       1  Tabidachi shintairiku e!             7.8  "
      ]
     },
     "execution_count": 176,
     "metadata": {},
     "output_type": "execute_result"
    }
   ],
   "source": [
    "data.head()"
   ]
  },
  {
   "cell_type": "markdown",
   "id": "9f0224ac",
   "metadata": {},
   "source": [
    "### Let's get average runtime by Genre\n",
    "\n",
    "In order to do that, we need to solve some problems!\n",
    "\n",
    "- Check the column 'Runtime', understand what it takes to convert it to integer type, so we can do mathematical functions(mean)\n",
    "\n",
    "- Create the function that does the necessary transformations, then apply it using map.\n",
    "\n",
    "- Group by Genre and get the average of 'Run Time'"
   ]
  },
  {
   "cell_type": "code",
   "execution_count": 177,
   "id": "2fdacdd7",
   "metadata": {},
   "outputs": [
    {
     "data": {
      "text/plain": [
       "Runtime\n",
       "24 min    748\n",
       "23 min    420\n",
       "25 min    319\n",
       "22 min    140\n",
       "21 min     76\n",
       "26 min     64\n",
       "11 min     33\n",
       "20 min     23\n",
       "30 min     15\n",
       "12 min     13\n",
       "31 min      6\n",
       "28 min      3\n",
       "27 min      3\n",
       "47 min      2\n",
       "45 min      1\n",
       "40 min      1\n",
       "19 min      1\n",
       "55 min      1\n",
       "38 min      1\n",
       "48 min      1\n",
       "Name: count, dtype: int64"
      ]
     },
     "execution_count": 177,
     "metadata": {},
     "output_type": "execute_result"
    }
   ],
   "source": [
    "data['Runtime'].value_counts()"
   ]
  },
  {
   "cell_type": "code",
   "execution_count": 178,
   "id": "43056713",
   "metadata": {},
   "outputs": [
    {
     "name": "stdout",
     "output_type": "stream",
     "text": [
      "2\n",
      "4\n"
     ]
    }
   ],
   "source": [
    "for i in \"24 min\" :\n",
    "    if i.isnumeric() :\n",
    "        print(i)"
   ]
  },
  {
   "cell_type": "code",
   "execution_count": 183,
   "id": "44370bde",
   "metadata": {},
   "outputs": [
    {
     "data": {
      "text/plain": [
       "'24'"
      ]
     },
     "execution_count": 183,
     "metadata": {},
     "output_type": "execute_result"
    }
   ],
   "source": [
    "\n",
    "''.join([i for i in \"24 mins\" if i.isnumeric()])"
   ]
  },
  {
   "cell_type": "code",
   "execution_count": 127,
   "id": "0c3c4d91",
   "metadata": {},
   "outputs": [
    {
     "data": {
      "text/plain": [
       "'24'"
      ]
     },
     "execution_count": 127,
     "metadata": {},
     "output_type": "execute_result"
    }
   ],
   "source": [
    "# Get the integer using the function join & a list comprehension\n",
    "\n",
    "''.join([i for i in \"24 min\" if i.isnumeric()])"
   ]
  },
  {
   "cell_type": "code",
   "execution_count": 187,
   "id": "d658c9c3",
   "metadata": {},
   "outputs": [
    {
     "data": {
      "text/plain": [
       "'24'"
      ]
     },
     "execution_count": 187,
     "metadata": {},
     "output_type": "execute_result"
    }
   ],
   "source": [
    "# Get the integer using split\n",
    "\n",
    "'24 min'.split()[0]"
   ]
  },
  {
   "cell_type": "code",
   "execution_count": 188,
   "id": "283d1b73",
   "metadata": {},
   "outputs": [
    {
     "data": {
      "text/plain": [
       "24"
      ]
     },
     "execution_count": 188,
     "metadata": {},
     "output_type": "execute_result"
    }
   ],
   "source": [
    "int('24 min'.split()[0])"
   ]
  },
  {
   "cell_type": "code",
   "execution_count": 189,
   "id": "71694966",
   "metadata": {},
   "outputs": [],
   "source": [
    "data['Runtime'] = data['Runtime'].map(lambda x : int(x.split()[0]))"
   ]
  },
  {
   "cell_type": "code",
   "execution_count": 190,
   "id": "d63614fc",
   "metadata": {},
   "outputs": [
    {
     "name": "stdout",
     "output_type": "stream",
     "text": [
      "<class 'pandas.core.frame.DataFrame'>\n",
      "Index: 1871 entries, 10940 to 45692\n",
      "Data columns (total 14 columns):\n",
      " #   Column           Non-Null Count  Dtype  \n",
      "---  ------           --------------  -----  \n",
      " 0   Title            1871 non-null   object \n",
      " 1   Genre            1871 non-null   object \n",
      " 2   User Rating      1871 non-null   object \n",
      " 3   Number of Votes  1871 non-null   object \n",
      " 4   Runtime          1871 non-null   int64  \n",
      " 5   Year             1871 non-null   object \n",
      " 6   Summary          1871 non-null   object \n",
      " 7   Stars            1871 non-null   object \n",
      " 8   Certificate      1871 non-null   object \n",
      " 9   Metascore        1871 non-null   object \n",
      " 10  Gross            1871 non-null   object \n",
      " 11  Episode          1871 non-null   object \n",
      " 12  Episode Title    1871 non-null   object \n",
      " 13  numeric_rating   1871 non-null   float64\n",
      "dtypes: float64(1), int64(1), object(12)\n",
      "memory usage: 219.3+ KB\n"
     ]
    }
   ],
   "source": [
    "data.info()"
   ]
  },
  {
   "cell_type": "code",
   "execution_count": null,
   "id": "e2153d39",
   "metadata": {},
   "outputs": [],
   "source": [
    "# SQL Window Functions, j'aurais fait :\n",
    "\n",
    "- , AVG(durée) OVER(PARTITION BY genre)"
   ]
  },
  {
   "cell_type": "code",
   "execution_count": 191,
   "id": "28127507",
   "metadata": {},
   "outputs": [
    {
     "data": {
      "text/plain": [
       "Genre\n",
       "Animation                        24.000000\n",
       "Animation, Action, Adventure     24.022917\n",
       "Animation, Action, Comedy        23.289474\n",
       "Animation, Action, Crime         24.055556\n",
       "Animation, Action, Drama         24.514706\n",
       "Animation, Action, Fantasy       22.090909\n",
       "Animation, Action, Romance       25.000000\n",
       "Animation, Adventure, Comedy     18.013333\n",
       "Animation, Adventure, Drama      24.000000\n",
       "Animation, Adventure, Fantasy    21.865672\n",
       "Animation, Comedy                24.000000\n",
       "Animation, Comedy, Drama         23.404959\n",
       "Animation, Comedy, Family        30.000000\n",
       "Animation, Comedy, Fantasy       24.000000\n",
       "Animation, Comedy, Romance       20.625000\n",
       "Animation, Comedy, Sci-Fi        24.000000\n",
       "Animation, Crime, Drama          23.920000\n",
       "Animation, Drama, Horror         23.333333\n",
       "Animation, Fantasy, Horror       30.000000\n",
       "Animation, Short, Drama          30.000000\n",
       "Name: Runtime, dtype: float64"
      ]
     },
     "execution_count": 191,
     "metadata": {},
     "output_type": "execute_result"
    }
   ],
   "source": [
    "data.groupby('Genre')['Runtime'].mean()"
   ]
  },
  {
   "cell_type": "code",
   "execution_count": 142,
   "id": "d1d8feb6",
   "metadata": {},
   "outputs": [
    {
     "data": {
      "text/plain": [
       "Index(['Title', 'Genre', 'User Rating', 'Number of Votes', 'Runtime', 'Year',\n",
       "       'Summary', 'Stars', 'Certificate', 'Gross', 'Episode', 'Episode Title',\n",
       "       'numeric_rating'],\n",
       "      dtype='object')"
      ]
     },
     "execution_count": 142,
     "metadata": {},
     "output_type": "execute_result"
    }
   ],
   "source": [
    "data.columns"
   ]
  },
  {
   "cell_type": "code",
   "execution_count": 192,
   "id": "c281ccb6",
   "metadata": {},
   "outputs": [
    {
     "data": {
      "text/html": [
       "<div>\n",
       "<style scoped>\n",
       "    .dataframe tbody tr th:only-of-type {\n",
       "        vertical-align: middle;\n",
       "    }\n",
       "\n",
       "    .dataframe tbody tr th {\n",
       "        vertical-align: top;\n",
       "    }\n",
       "\n",
       "    .dataframe thead th {\n",
       "        text-align: right;\n",
       "    }\n",
       "</style>\n",
       "<table border=\"1\" class=\"dataframe\">\n",
       "  <thead>\n",
       "    <tr style=\"text-align: right;\">\n",
       "      <th></th>\n",
       "      <th>Title</th>\n",
       "      <th>Genre</th>\n",
       "      <th>User Rating</th>\n",
       "      <th>Number of Votes</th>\n",
       "      <th>Runtime</th>\n",
       "      <th>Year</th>\n",
       "      <th>Summary</th>\n",
       "      <th>Stars</th>\n",
       "      <th>Certificate</th>\n",
       "      <th>Metascore</th>\n",
       "      <th>Gross</th>\n",
       "      <th>Episode</th>\n",
       "      <th>Episode Title</th>\n",
       "      <th>numeric_rating</th>\n",
       "    </tr>\n",
       "  </thead>\n",
       "  <tbody>\n",
       "    <tr>\n",
       "      <th>10940</th>\n",
       "      <td>Digimon Adventure</td>\n",
       "      <td>Animation, Action, Adventure</td>\n",
       "      <td>7.7</td>\n",
       "      <td>66</td>\n",
       "      <td>24</td>\n",
       "      <td>(1999–2000)</td>\n",
       "      <td>The kids stumble upon a strange factory where ...</td>\n",
       "      <td>Toshiko Fujita,Hiroaki Hirata,Yuto Kazama,Masa...</td>\n",
       "      <td>TV-Y7-FV</td>\n",
       "      <td>0</td>\n",
       "      <td>66</td>\n",
       "      <td>1</td>\n",
       "      <td>Denkô! Kabuterimon</td>\n",
       "      <td>7.7</td>\n",
       "    </tr>\n",
       "    <tr>\n",
       "      <th>10942</th>\n",
       "      <td>Digimon Adventure</td>\n",
       "      <td>Animation, Action, Adventure</td>\n",
       "      <td>7.3</td>\n",
       "      <td>55</td>\n",
       "      <td>24</td>\n",
       "      <td>(1999–2000)</td>\n",
       "      <td>T.K. and Patamon end up in Primary Village, th...</td>\n",
       "      <td>Hisao Egawa,Yukiko Hanioka,Hiroaki Hirata,Hiro...</td>\n",
       "      <td>TV-Y7-FV</td>\n",
       "      <td>0</td>\n",
       "      <td>55</td>\n",
       "      <td>1</td>\n",
       "      <td>Bôken! Patamon to boku</td>\n",
       "      <td>7.3</td>\n",
       "    </tr>\n",
       "    <tr>\n",
       "      <th>10943</th>\n",
       "      <td>Digimon Adventure</td>\n",
       "      <td>Animation, Action, Adventure</td>\n",
       "      <td>7.3</td>\n",
       "      <td>54</td>\n",
       "      <td>24</td>\n",
       "      <td>(1999–2000)</td>\n",
       "      <td>After suffering an attack from Ogremon at sea,...</td>\n",
       "      <td>Hisao Egawa,Hiroaki Hirata,Katashi Ishizuka,Ma...</td>\n",
       "      <td>TV-Y7-FV</td>\n",
       "      <td>0</td>\n",
       "      <td>54</td>\n",
       "      <td>1</td>\n",
       "      <td>Odoru bôrei! Bakemon</td>\n",
       "      <td>7.3</td>\n",
       "    </tr>\n",
       "    <tr>\n",
       "      <th>10944</th>\n",
       "      <td>Digimon Adventure</td>\n",
       "      <td>Animation, Action, Adventure</td>\n",
       "      <td>7.4</td>\n",
       "      <td>56</td>\n",
       "      <td>24</td>\n",
       "      <td>(1999–2000)</td>\n",
       "      <td>Mimi and Palmon are harassed by Sukamon and Ch...</td>\n",
       "      <td>Masaki Aizawa,Hiroaki Hirata,Motoko Kumai,Ai M...</td>\n",
       "      <td>TV-Y7-FV</td>\n",
       "      <td>0</td>\n",
       "      <td>56</td>\n",
       "      <td>1</td>\n",
       "      <td>Shugosha Kentarumon</td>\n",
       "      <td>7.4</td>\n",
       "    </tr>\n",
       "    <tr>\n",
       "      <th>10945</th>\n",
       "      <td>Digimon Adventure</td>\n",
       "      <td>Animation, Action, Adventure</td>\n",
       "      <td>7.8</td>\n",
       "      <td>54</td>\n",
       "      <td>24</td>\n",
       "      <td>(1999–2000)</td>\n",
       "      <td>A mysterious person named Gennai appears as a ...</td>\n",
       "      <td>Toshiko Fujita,Hiroaki Hirata,Nobuaki Kanemits...</td>\n",
       "      <td>TV-Y7-FV</td>\n",
       "      <td>0</td>\n",
       "      <td>54</td>\n",
       "      <td>1</td>\n",
       "      <td>Tabidachi shintairiku e!</td>\n",
       "      <td>7.8</td>\n",
       "    </tr>\n",
       "  </tbody>\n",
       "</table>\n",
       "</div>"
      ],
      "text/plain": [
       "                   Title                         Genre User Rating  \\\n",
       "10940  Digimon Adventure  Animation, Action, Adventure         7.7   \n",
       "10942  Digimon Adventure  Animation, Action, Adventure         7.3   \n",
       "10943  Digimon Adventure  Animation, Action, Adventure         7.3   \n",
       "10944  Digimon Adventure  Animation, Action, Adventure         7.4   \n",
       "10945  Digimon Adventure  Animation, Action, Adventure         7.8   \n",
       "\n",
       "      Number of Votes  Runtime         Year  \\\n",
       "10940              66       24  (1999–2000)   \n",
       "10942              55       24  (1999–2000)   \n",
       "10943              54       24  (1999–2000)   \n",
       "10944              56       24  (1999–2000)   \n",
       "10945              54       24  (1999–2000)   \n",
       "\n",
       "                                                 Summary  \\\n",
       "10940  The kids stumble upon a strange factory where ...   \n",
       "10942  T.K. and Patamon end up in Primary Village, th...   \n",
       "10943  After suffering an attack from Ogremon at sea,...   \n",
       "10944  Mimi and Palmon are harassed by Sukamon and Ch...   \n",
       "10945  A mysterious person named Gennai appears as a ...   \n",
       "\n",
       "                                                   Stars Certificate  \\\n",
       "10940  Toshiko Fujita,Hiroaki Hirata,Yuto Kazama,Masa...    TV-Y7-FV   \n",
       "10942  Hisao Egawa,Yukiko Hanioka,Hiroaki Hirata,Hiro...    TV-Y7-FV   \n",
       "10943  Hisao Egawa,Hiroaki Hirata,Katashi Ishizuka,Ma...    TV-Y7-FV   \n",
       "10944  Masaki Aizawa,Hiroaki Hirata,Motoko Kumai,Ai M...    TV-Y7-FV   \n",
       "10945  Toshiko Fujita,Hiroaki Hirata,Nobuaki Kanemits...    TV-Y7-FV   \n",
       "\n",
       "      Metascore Gross Episode             Episode Title  numeric_rating  \n",
       "10940         0    66       1        Denkô! Kabuterimon             7.7  \n",
       "10942         0    55       1    Bôken! Patamon to boku             7.3  \n",
       "10943         0    54       1      Odoru bôrei! Bakemon             7.3  \n",
       "10944         0    56       1       Shugosha Kentarumon             7.4  \n",
       "10945         0    54       1  Tabidachi shintairiku e!             7.8  "
      ]
     },
     "execution_count": 192,
     "metadata": {},
     "output_type": "execute_result"
    }
   ],
   "source": [
    "data.head()"
   ]
  },
  {
   "cell_type": "code",
   "execution_count": 54,
   "id": "986d6e0b",
   "metadata": {},
   "outputs": [
    {
     "data": {
      "text/plain": [
       "Number of Votes\n",
       "10       75\n",
       "12       71\n",
       "13       62\n",
       "14       56\n",
       "11       49\n",
       "         ..\n",
       "160       1\n",
       "171       1\n",
       "521       1\n",
       "1,197     1\n",
       "798       1\n",
       "Name: count, Length: 502, dtype: int64"
      ]
     },
     "execution_count": 54,
     "metadata": {},
     "output_type": "execute_result"
    }
   ],
   "source": [
    "# Clean 'Number of Votes'\n",
    "data['Number of Votes'].value_counts()"
   ]
  },
  {
   "cell_type": "code",
   "execution_count": 193,
   "id": "b8199d38",
   "metadata": {},
   "outputs": [
    {
     "data": {
      "text/plain": [
       "'1197'"
      ]
     },
     "execution_count": 193,
     "metadata": {},
     "output_type": "execute_result"
    }
   ],
   "source": [
    "\"1,D/197\".replace(\",\", \"\")"
   ]
  },
  {
   "cell_type": "code",
   "execution_count": 194,
   "id": "2e205a79",
   "metadata": {},
   "outputs": [],
   "source": [
    "# How to clean problematic values like \"1,197\", we need to remove the comma\n",
    "data['Number of Votes'] = data['Number of Votes'].map(lambda x : int(x.replace(\",\", \"\")))\n"
   ]
  },
  {
   "cell_type": "code",
   "execution_count": 197,
   "id": "da869bb8",
   "metadata": {},
   "outputs": [
    {
     "data": {
      "text/plain": [
       "1197"
      ]
     },
     "execution_count": 197,
     "metadata": {},
     "output_type": "execute_result"
    }
   ],
   "source": [
    "int(''.join([i for i in \"1,D/197\" if i.isnumeric()]))"
   ]
  },
  {
   "cell_type": "code",
   "execution_count": 61,
   "id": "ff799260",
   "metadata": {},
   "outputs": [],
   "source": [
    "# Get the integer of the cleaned number of votes\n",
    "data['Number of Votes'] = data['Number of Votes'].map()"
   ]
  },
  {
   "cell_type": "code",
   "execution_count": 198,
   "id": "3ff9bc3d",
   "metadata": {},
   "outputs": [
    {
     "name": "stdout",
     "output_type": "stream",
     "text": [
      "<class 'pandas.core.frame.DataFrame'>\n",
      "Index: 1871 entries, 10940 to 45692\n",
      "Data columns (total 14 columns):\n",
      " #   Column           Non-Null Count  Dtype  \n",
      "---  ------           --------------  -----  \n",
      " 0   Title            1871 non-null   object \n",
      " 1   Genre            1871 non-null   object \n",
      " 2   User Rating      1871 non-null   object \n",
      " 3   Number of Votes  1871 non-null   int64  \n",
      " 4   Runtime          1871 non-null   int64  \n",
      " 5   Year             1871 non-null   object \n",
      " 6   Summary          1871 non-null   object \n",
      " 7   Stars            1871 non-null   object \n",
      " 8   Certificate      1871 non-null   object \n",
      " 9   Metascore        1871 non-null   object \n",
      " 10  Gross            1871 non-null   object \n",
      " 11  Episode          1871 non-null   object \n",
      " 12  Episode Title    1871 non-null   object \n",
      " 13  numeric_rating   1871 non-null   float64\n",
      "dtypes: float64(1), int64(2), object(11)\n",
      "memory usage: 219.3+ KB\n"
     ]
    }
   ],
   "source": [
    "data.info()"
   ]
  },
  {
   "cell_type": "code",
   "execution_count": 63,
   "id": "f3989691",
   "metadata": {},
   "outputs": [
    {
     "data": {
      "text/html": [
       "<div>\n",
       "<style scoped>\n",
       "    .dataframe tbody tr th:only-of-type {\n",
       "        vertical-align: middle;\n",
       "    }\n",
       "\n",
       "    .dataframe tbody tr th {\n",
       "        vertical-align: top;\n",
       "    }\n",
       "\n",
       "    .dataframe thead th {\n",
       "        text-align: right;\n",
       "    }\n",
       "</style>\n",
       "<table border=\"1\" class=\"dataframe\">\n",
       "  <thead>\n",
       "    <tr style=\"text-align: right;\">\n",
       "      <th></th>\n",
       "      <th>Title</th>\n",
       "      <th>Genre</th>\n",
       "      <th>User Rating</th>\n",
       "      <th>Number of Votes</th>\n",
       "      <th>Runtime</th>\n",
       "      <th>Year</th>\n",
       "      <th>Summary</th>\n",
       "      <th>Stars</th>\n",
       "      <th>Certificate</th>\n",
       "      <th>Gross</th>\n",
       "      <th>Episode</th>\n",
       "      <th>Episode Title</th>\n",
       "      <th>numeric_rating</th>\n",
       "    </tr>\n",
       "  </thead>\n",
       "  <tbody>\n",
       "    <tr>\n",
       "      <th>10940</th>\n",
       "      <td>Digimon Adventure</td>\n",
       "      <td>Animation, Action, Adventure</td>\n",
       "      <td>7.7</td>\n",
       "      <td>66</td>\n",
       "      <td>24</td>\n",
       "      <td>(1999–2000)</td>\n",
       "      <td>The kids stumble upon a strange factory where ...</td>\n",
       "      <td>Toshiko Fujita,Hiroaki Hirata,Yuto Kazama,Masa...</td>\n",
       "      <td>TV-Y7-FV</td>\n",
       "      <td>66</td>\n",
       "      <td>1</td>\n",
       "      <td>Denkô! Kabuterimon</td>\n",
       "      <td>7.7</td>\n",
       "    </tr>\n",
       "    <tr>\n",
       "      <th>10942</th>\n",
       "      <td>Digimon Adventure</td>\n",
       "      <td>Animation, Action, Adventure</td>\n",
       "      <td>7.3</td>\n",
       "      <td>55</td>\n",
       "      <td>24</td>\n",
       "      <td>(1999–2000)</td>\n",
       "      <td>T.K. and Patamon end up in Primary Village, th...</td>\n",
       "      <td>Hisao Egawa,Yukiko Hanioka,Hiroaki Hirata,Hiro...</td>\n",
       "      <td>TV-Y7-FV</td>\n",
       "      <td>55</td>\n",
       "      <td>1</td>\n",
       "      <td>Bôken! Patamon to boku</td>\n",
       "      <td>7.3</td>\n",
       "    </tr>\n",
       "    <tr>\n",
       "      <th>10943</th>\n",
       "      <td>Digimon Adventure</td>\n",
       "      <td>Animation, Action, Adventure</td>\n",
       "      <td>7.3</td>\n",
       "      <td>54</td>\n",
       "      <td>24</td>\n",
       "      <td>(1999–2000)</td>\n",
       "      <td>After suffering an attack from Ogremon at sea,...</td>\n",
       "      <td>Hisao Egawa,Hiroaki Hirata,Katashi Ishizuka,Ma...</td>\n",
       "      <td>TV-Y7-FV</td>\n",
       "      <td>54</td>\n",
       "      <td>1</td>\n",
       "      <td>Odoru bôrei! Bakemon</td>\n",
       "      <td>7.3</td>\n",
       "    </tr>\n",
       "    <tr>\n",
       "      <th>10944</th>\n",
       "      <td>Digimon Adventure</td>\n",
       "      <td>Animation, Action, Adventure</td>\n",
       "      <td>7.4</td>\n",
       "      <td>56</td>\n",
       "      <td>24</td>\n",
       "      <td>(1999–2000)</td>\n",
       "      <td>Mimi and Palmon are harassed by Sukamon and Ch...</td>\n",
       "      <td>Masaki Aizawa,Hiroaki Hirata,Motoko Kumai,Ai M...</td>\n",
       "      <td>TV-Y7-FV</td>\n",
       "      <td>56</td>\n",
       "      <td>1</td>\n",
       "      <td>Shugosha Kentarumon</td>\n",
       "      <td>7.4</td>\n",
       "    </tr>\n",
       "    <tr>\n",
       "      <th>10945</th>\n",
       "      <td>Digimon Adventure</td>\n",
       "      <td>Animation, Action, Adventure</td>\n",
       "      <td>7.8</td>\n",
       "      <td>54</td>\n",
       "      <td>24</td>\n",
       "      <td>(1999–2000)</td>\n",
       "      <td>A mysterious person named Gennai appears as a ...</td>\n",
       "      <td>Toshiko Fujita,Hiroaki Hirata,Nobuaki Kanemits...</td>\n",
       "      <td>TV-Y7-FV</td>\n",
       "      <td>54</td>\n",
       "      <td>1</td>\n",
       "      <td>Tabidachi shintairiku e!</td>\n",
       "      <td>7.8</td>\n",
       "    </tr>\n",
       "  </tbody>\n",
       "</table>\n",
       "</div>"
      ],
      "text/plain": [
       "                   Title                         Genre User Rating  \\\n",
       "10940  Digimon Adventure  Animation, Action, Adventure         7.7   \n",
       "10942  Digimon Adventure  Animation, Action, Adventure         7.3   \n",
       "10943  Digimon Adventure  Animation, Action, Adventure         7.3   \n",
       "10944  Digimon Adventure  Animation, Action, Adventure         7.4   \n",
       "10945  Digimon Adventure  Animation, Action, Adventure         7.8   \n",
       "\n",
       "       Number of Votes  Runtime         Year  \\\n",
       "10940               66       24  (1999–2000)   \n",
       "10942               55       24  (1999–2000)   \n",
       "10943               54       24  (1999–2000)   \n",
       "10944               56       24  (1999–2000)   \n",
       "10945               54       24  (1999–2000)   \n",
       "\n",
       "                                                 Summary  \\\n",
       "10940  The kids stumble upon a strange factory where ...   \n",
       "10942  T.K. and Patamon end up in Primary Village, th...   \n",
       "10943  After suffering an attack from Ogremon at sea,...   \n",
       "10944  Mimi and Palmon are harassed by Sukamon and Ch...   \n",
       "10945  A mysterious person named Gennai appears as a ...   \n",
       "\n",
       "                                                   Stars Certificate Gross  \\\n",
       "10940  Toshiko Fujita,Hiroaki Hirata,Yuto Kazama,Masa...    TV-Y7-FV    66   \n",
       "10942  Hisao Egawa,Yukiko Hanioka,Hiroaki Hirata,Hiro...    TV-Y7-FV    55   \n",
       "10943  Hisao Egawa,Hiroaki Hirata,Katashi Ishizuka,Ma...    TV-Y7-FV    54   \n",
       "10944  Masaki Aizawa,Hiroaki Hirata,Motoko Kumai,Ai M...    TV-Y7-FV    56   \n",
       "10945  Toshiko Fujita,Hiroaki Hirata,Nobuaki Kanemits...    TV-Y7-FV    54   \n",
       "\n",
       "      Episode             Episode Title  numeric_rating  \n",
       "10940       1        Denkô! Kabuterimon             7.7  \n",
       "10942       1    Bôken! Patamon to boku             7.3  \n",
       "10943       1      Odoru bôrei! Bakemon             7.3  \n",
       "10944       1       Shugosha Kentarumon             7.4  \n",
       "10945       1  Tabidachi shintairiku e!             7.8  "
      ]
     },
     "execution_count": 63,
     "metadata": {},
     "output_type": "execute_result"
    }
   ],
   "source": [
    "data.head()"
   ]
  },
  {
   "cell_type": "code",
   "execution_count": 199,
   "id": "9f13f3bd",
   "metadata": {},
   "outputs": [
    {
     "data": {
      "text/plain": [
       "513314"
      ]
     },
     "execution_count": 199,
     "metadata": {},
     "output_type": "execute_result"
    }
   ],
   "source": [
    "data['Number of Votes'].sum()"
   ]
  },
  {
   "cell_type": "code",
   "execution_count": 145,
   "id": "632d3f61",
   "metadata": {},
   "outputs": [
    {
     "data": {
      "text/plain": [
       "Genre\n",
       "Animation                        24.000000\n",
       "Animation, Action, Adventure     24.022917\n",
       "Animation, Action, Comedy        23.289474\n",
       "Animation, Action, Crime         24.055556\n",
       "Animation, Action, Drama         24.514706\n",
       "Animation, Action, Fantasy       22.090909\n",
       "Animation, Action, Romance       25.000000\n",
       "Animation, Adventure, Comedy     18.013333\n",
       "Animation, Adventure, Drama      24.000000\n",
       "Animation, Adventure, Fantasy    21.865672\n",
       "Animation, Comedy                24.000000\n",
       "Animation, Comedy, Drama         23.404959\n",
       "Animation, Comedy, Family        30.000000\n",
       "Animation, Comedy, Fantasy       24.000000\n",
       "Animation, Comedy, Romance       20.625000\n",
       "Animation, Comedy, Sci-Fi        24.000000\n",
       "Animation, Crime, Drama          23.920000\n",
       "Animation, Drama, Horror         23.333333\n",
       "Animation, Fantasy, Horror       30.000000\n",
       "Animation, Short, Drama          30.000000\n",
       "Name: Runtime, dtype: float64"
      ]
     },
     "execution_count": 145,
     "metadata": {},
     "output_type": "execute_result"
    }
   ],
   "source": [
    "data.groupby('Genre')['Runtime'].mean()"
   ]
  },
  {
   "cell_type": "code",
   "execution_count": 205,
   "id": "2cb97d53",
   "metadata": {},
   "outputs": [
    {
     "data": {
      "text/html": [
       "<div>\n",
       "<style scoped>\n",
       "    .dataframe tbody tr th:only-of-type {\n",
       "        vertical-align: middle;\n",
       "    }\n",
       "\n",
       "    .dataframe tbody tr th {\n",
       "        vertical-align: top;\n",
       "    }\n",
       "\n",
       "    .dataframe thead th {\n",
       "        text-align: right;\n",
       "    }\n",
       "</style>\n",
       "<table border=\"1\" class=\"dataframe\">\n",
       "  <thead>\n",
       "    <tr style=\"text-align: right;\">\n",
       "      <th></th>\n",
       "      <th>Genre</th>\n",
       "      <th>AVG_runtime</th>\n",
       "      <th>sum_votes</th>\n",
       "      <th>num_episodes</th>\n",
       "    </tr>\n",
       "  </thead>\n",
       "  <tbody>\n",
       "    <tr>\n",
       "      <th>0</th>\n",
       "      <td>Animation</td>\n",
       "      <td>24.000000</td>\n",
       "      <td>14</td>\n",
       "      <td>1</td>\n",
       "    </tr>\n",
       "    <tr>\n",
       "      <th>1</th>\n",
       "      <td>Animation, Action, Adventure</td>\n",
       "      <td>24.022917</td>\n",
       "      <td>439274</td>\n",
       "      <td>960</td>\n",
       "    </tr>\n",
       "    <tr>\n",
       "      <th>2</th>\n",
       "      <td>Animation, Action, Comedy</td>\n",
       "      <td>23.289474</td>\n",
       "      <td>15153</td>\n",
       "      <td>266</td>\n",
       "    </tr>\n",
       "    <tr>\n",
       "      <th>3</th>\n",
       "      <td>Animation, Action, Crime</td>\n",
       "      <td>24.055556</td>\n",
       "      <td>2747</td>\n",
       "      <td>36</td>\n",
       "    </tr>\n",
       "    <tr>\n",
       "      <th>4</th>\n",
       "      <td>Animation, Action, Drama</td>\n",
       "      <td>24.514706</td>\n",
       "      <td>35712</td>\n",
       "      <td>136</td>\n",
       "    </tr>\n",
       "    <tr>\n",
       "      <th>5</th>\n",
       "      <td>Animation, Action, Fantasy</td>\n",
       "      <td>22.090909</td>\n",
       "      <td>158</td>\n",
       "      <td>11</td>\n",
       "    </tr>\n",
       "    <tr>\n",
       "      <th>6</th>\n",
       "      <td>Animation, Action, Romance</td>\n",
       "      <td>25.000000</td>\n",
       "      <td>140</td>\n",
       "      <td>15</td>\n",
       "    </tr>\n",
       "    <tr>\n",
       "      <th>7</th>\n",
       "      <td>Animation, Adventure, Comedy</td>\n",
       "      <td>18.013333</td>\n",
       "      <td>1277</td>\n",
       "      <td>75</td>\n",
       "    </tr>\n",
       "    <tr>\n",
       "      <th>8</th>\n",
       "      <td>Animation, Adventure, Drama</td>\n",
       "      <td>24.000000</td>\n",
       "      <td>7731</td>\n",
       "      <td>101</td>\n",
       "    </tr>\n",
       "    <tr>\n",
       "      <th>9</th>\n",
       "      <td>Animation, Adventure, Fantasy</td>\n",
       "      <td>21.865672</td>\n",
       "      <td>946</td>\n",
       "      <td>67</td>\n",
       "    </tr>\n",
       "    <tr>\n",
       "      <th>10</th>\n",
       "      <td>Animation, Comedy</td>\n",
       "      <td>24.000000</td>\n",
       "      <td>8</td>\n",
       "      <td>1</td>\n",
       "    </tr>\n",
       "    <tr>\n",
       "      <th>11</th>\n",
       "      <td>Animation, Comedy, Drama</td>\n",
       "      <td>23.404959</td>\n",
       "      <td>8612</td>\n",
       "      <td>121</td>\n",
       "    </tr>\n",
       "    <tr>\n",
       "      <th>12</th>\n",
       "      <td>Animation, Comedy, Family</td>\n",
       "      <td>30.000000</td>\n",
       "      <td>12</td>\n",
       "      <td>1</td>\n",
       "    </tr>\n",
       "    <tr>\n",
       "      <th>13</th>\n",
       "      <td>Animation, Comedy, Fantasy</td>\n",
       "      <td>24.000000</td>\n",
       "      <td>31</td>\n",
       "      <td>1</td>\n",
       "    </tr>\n",
       "    <tr>\n",
       "      <th>14</th>\n",
       "      <td>Animation, Comedy, Romance</td>\n",
       "      <td>20.625000</td>\n",
       "      <td>885</td>\n",
       "      <td>40</td>\n",
       "    </tr>\n",
       "    <tr>\n",
       "      <th>15</th>\n",
       "      <td>Animation, Comedy, Sci-Fi</td>\n",
       "      <td>24.000000</td>\n",
       "      <td>14</td>\n",
       "      <td>1</td>\n",
       "    </tr>\n",
       "    <tr>\n",
       "      <th>16</th>\n",
       "      <td>Animation, Crime, Drama</td>\n",
       "      <td>23.920000</td>\n",
       "      <td>262</td>\n",
       "      <td>25</td>\n",
       "    </tr>\n",
       "    <tr>\n",
       "      <th>17</th>\n",
       "      <td>Animation, Drama, Horror</td>\n",
       "      <td>23.333333</td>\n",
       "      <td>270</td>\n",
       "      <td>6</td>\n",
       "    </tr>\n",
       "    <tr>\n",
       "      <th>18</th>\n",
       "      <td>Animation, Fantasy, Horror</td>\n",
       "      <td>30.000000</td>\n",
       "      <td>37</td>\n",
       "      <td>4</td>\n",
       "    </tr>\n",
       "    <tr>\n",
       "      <th>19</th>\n",
       "      <td>Animation, Short, Drama</td>\n",
       "      <td>30.000000</td>\n",
       "      <td>31</td>\n",
       "      <td>3</td>\n",
       "    </tr>\n",
       "  </tbody>\n",
       "</table>\n",
       "</div>"
      ],
      "text/plain": [
       "                            Genre  AVG_runtime  sum_votes  num_episodes\n",
       "0                       Animation    24.000000         14             1\n",
       "1    Animation, Action, Adventure    24.022917     439274           960\n",
       "2       Animation, Action, Comedy    23.289474      15153           266\n",
       "3        Animation, Action, Crime    24.055556       2747            36\n",
       "4        Animation, Action, Drama    24.514706      35712           136\n",
       "5      Animation, Action, Fantasy    22.090909        158            11\n",
       "6      Animation, Action, Romance    25.000000        140            15\n",
       "7    Animation, Adventure, Comedy    18.013333       1277            75\n",
       "8     Animation, Adventure, Drama    24.000000       7731           101\n",
       "9   Animation, Adventure, Fantasy    21.865672        946            67\n",
       "10              Animation, Comedy    24.000000          8             1\n",
       "11       Animation, Comedy, Drama    23.404959       8612           121\n",
       "12      Animation, Comedy, Family    30.000000         12             1\n",
       "13     Animation, Comedy, Fantasy    24.000000         31             1\n",
       "14     Animation, Comedy, Romance    20.625000        885            40\n",
       "15      Animation, Comedy, Sci-Fi    24.000000         14             1\n",
       "16        Animation, Crime, Drama    23.920000        262            25\n",
       "17       Animation, Drama, Horror    23.333333        270             6\n",
       "18     Animation, Fantasy, Horror    30.000000         37             4\n",
       "19        Animation, Short, Drama    30.000000         31             3"
      ]
     },
     "execution_count": 205,
     "metadata": {},
     "output_type": "execute_result"
    }
   ],
   "source": [
    "# Wiht multiple aggregations on different columns\n",
    "\n",
    "data.groupby('Genre', as_index= False).agg({'Runtime' : 'mean', 'Number of Votes': 'sum', 'Title': 'count'})\\\n",
    "    .rename(columns ={'Runtime' : 'AVG_runtime', 'Number of Votes': 'sum_votes', 'Title': 'num_episodes'})"
   ]
  },
  {
   "cell_type": "markdown",
   "id": "c96d8389",
   "metadata": {},
   "source": [
    "## Other Pandas Functions to look at :\n",
    "\n",
    "\n",
    "- df.duplicated()\n",
    "\n",
    "- df.drop_duplicates()\n",
    "\n",
    "- series.to_datetime()\n",
    "\n",
    "- df.apply()\n",
    "\n"
   ]
  },
  {
   "cell_type": "code",
   "execution_count": null,
   "id": "f83388aa",
   "metadata": {},
   "outputs": [],
   "source": [
    "Two tables\n",
    "\n",
    "Commandes et Clients (achat ou non), dans la table commandes \n",
    " j'ai les Client_id seuleument pur ceux qui ont efféctué une commandes\n",
    "_________________________________\n",
    "je veux avoir tous les clients\n",
    " \n",
    "LEFT JOIN    \n",
    "\n",
    "SELECT \n",
    "FROM clients\n",
    "LEFT JOIN Commandes       ON client_id "
   ]
  },
  {
   "cell_type": "markdown",
   "id": "f04bee98",
   "metadata": {},
   "source": [
    "<img src='joins.png' width=1000 height=800 />"
   ]
  },
  {
   "cell_type": "code",
   "execution_count": 206,
   "id": "964d7044",
   "metadata": {},
   "outputs": [],
   "source": [
    "df1 = pd.read_csv('LOTR.csv')\n",
    "df2 = pd.read_csv('LOTR 2.csv')"
   ]
  },
  {
   "cell_type": "code",
   "execution_count": 207,
   "id": "fdaddcdb",
   "metadata": {
    "scrolled": true
   },
   "outputs": [
    {
     "data": {
      "text/html": [
       "<div>\n",
       "<style scoped>\n",
       "    .dataframe tbody tr th:only-of-type {\n",
       "        vertical-align: middle;\n",
       "    }\n",
       "\n",
       "    .dataframe tbody tr th {\n",
       "        vertical-align: top;\n",
       "    }\n",
       "\n",
       "    .dataframe thead th {\n",
       "        text-align: right;\n",
       "    }\n",
       "</style>\n",
       "<table border=\"1\" class=\"dataframe\">\n",
       "  <thead>\n",
       "    <tr style=\"text-align: right;\">\n",
       "      <th></th>\n",
       "      <th>FellowshipID</th>\n",
       "      <th>FirstName</th>\n",
       "      <th>Skills</th>\n",
       "    </tr>\n",
       "  </thead>\n",
       "  <tbody>\n",
       "    <tr>\n",
       "      <th>0</th>\n",
       "      <td>1001</td>\n",
       "      <td>Frodo</td>\n",
       "      <td>Hiding</td>\n",
       "    </tr>\n",
       "    <tr>\n",
       "      <th>1</th>\n",
       "      <td>1002</td>\n",
       "      <td>Samwise</td>\n",
       "      <td>Gardening</td>\n",
       "    </tr>\n",
       "    <tr>\n",
       "      <th>2</th>\n",
       "      <td>1003</td>\n",
       "      <td>Gandalf</td>\n",
       "      <td>Spells</td>\n",
       "    </tr>\n",
       "    <tr>\n",
       "      <th>3</th>\n",
       "      <td>1004</td>\n",
       "      <td>Pippin</td>\n",
       "      <td>Fireworks</td>\n",
       "    </tr>\n",
       "  </tbody>\n",
       "</table>\n",
       "</div>"
      ],
      "text/plain": [
       "   FellowshipID FirstName     Skills\n",
       "0          1001     Frodo     Hiding\n",
       "1          1002   Samwise  Gardening\n",
       "2          1003   Gandalf     Spells\n",
       "3          1004    Pippin  Fireworks"
      ]
     },
     "execution_count": 207,
     "metadata": {},
     "output_type": "execute_result"
    }
   ],
   "source": [
    "df1"
   ]
  },
  {
   "cell_type": "code",
   "execution_count": 149,
   "id": "4c594033",
   "metadata": {},
   "outputs": [
    {
     "data": {
      "text/html": [
       "<div>\n",
       "<style scoped>\n",
       "    .dataframe tbody tr th:only-of-type {\n",
       "        vertical-align: middle;\n",
       "    }\n",
       "\n",
       "    .dataframe tbody tr th {\n",
       "        vertical-align: top;\n",
       "    }\n",
       "\n",
       "    .dataframe thead th {\n",
       "        text-align: right;\n",
       "    }\n",
       "</style>\n",
       "<table border=\"1\" class=\"dataframe\">\n",
       "  <thead>\n",
       "    <tr style=\"text-align: right;\">\n",
       "      <th></th>\n",
       "      <th>FellowshipID</th>\n",
       "      <th>FirstName</th>\n",
       "      <th>Age</th>\n",
       "    </tr>\n",
       "  </thead>\n",
       "  <tbody>\n",
       "    <tr>\n",
       "      <th>0</th>\n",
       "      <td>1001</td>\n",
       "      <td>Frodo</td>\n",
       "      <td>50</td>\n",
       "    </tr>\n",
       "    <tr>\n",
       "      <th>1</th>\n",
       "      <td>1002</td>\n",
       "      <td>Samwise</td>\n",
       "      <td>39</td>\n",
       "    </tr>\n",
       "    <tr>\n",
       "      <th>2</th>\n",
       "      <td>1006</td>\n",
       "      <td>Legolas</td>\n",
       "      <td>2931</td>\n",
       "    </tr>\n",
       "    <tr>\n",
       "      <th>3</th>\n",
       "      <td>1007</td>\n",
       "      <td>Elrond</td>\n",
       "      <td>6520</td>\n",
       "    </tr>\n",
       "    <tr>\n",
       "      <th>4</th>\n",
       "      <td>1008</td>\n",
       "      <td>Barromir</td>\n",
       "      <td>51</td>\n",
       "    </tr>\n",
       "  </tbody>\n",
       "</table>\n",
       "</div>"
      ],
      "text/plain": [
       "   FellowshipID FirstName   Age\n",
       "0          1001     Frodo    50\n",
       "1          1002   Samwise    39\n",
       "2          1006   Legolas  2931\n",
       "3          1007    Elrond  6520\n",
       "4          1008  Barromir    51"
      ]
     },
     "execution_count": 149,
     "metadata": {},
     "output_type": "execute_result"
    }
   ],
   "source": [
    "df2"
   ]
  },
  {
   "cell_type": "code",
   "execution_count": 208,
   "id": "37ad81bd",
   "metadata": {},
   "outputs": [
    {
     "data": {
      "text/html": [
       "<div>\n",
       "<style scoped>\n",
       "    .dataframe tbody tr th:only-of-type {\n",
       "        vertical-align: middle;\n",
       "    }\n",
       "\n",
       "    .dataframe tbody tr th {\n",
       "        vertical-align: top;\n",
       "    }\n",
       "\n",
       "    .dataframe thead th {\n",
       "        text-align: right;\n",
       "    }\n",
       "</style>\n",
       "<table border=\"1\" class=\"dataframe\">\n",
       "  <thead>\n",
       "    <tr style=\"text-align: right;\">\n",
       "      <th></th>\n",
       "      <th>FellowshipID</th>\n",
       "      <th>FirstName</th>\n",
       "      <th>Skills</th>\n",
       "      <th>Age</th>\n",
       "    </tr>\n",
       "  </thead>\n",
       "  <tbody>\n",
       "    <tr>\n",
       "      <th>0</th>\n",
       "      <td>1001</td>\n",
       "      <td>Frodo</td>\n",
       "      <td>Hiding</td>\n",
       "      <td>50</td>\n",
       "    </tr>\n",
       "    <tr>\n",
       "      <th>1</th>\n",
       "      <td>1002</td>\n",
       "      <td>Samwise</td>\n",
       "      <td>Gardening</td>\n",
       "      <td>39</td>\n",
       "    </tr>\n",
       "  </tbody>\n",
       "</table>\n",
       "</div>"
      ],
      "text/plain": [
       "   FellowshipID FirstName     Skills  Age\n",
       "0          1001     Frodo     Hiding   50\n",
       "1          1002   Samwise  Gardening   39"
      ]
     },
     "execution_count": 208,
     "metadata": {},
     "output_type": "execute_result"
    }
   ],
   "source": [
    "# By default it's Inner Join, and it's capable of finding the mutual columns\n",
    "\n",
    "# Before you run how many rows would I get????\n",
    "\n",
    "pd.merge(df1,df2)"
   ]
  },
  {
   "cell_type": "code",
   "execution_count": 209,
   "id": "6a63d2b3",
   "metadata": {},
   "outputs": [
    {
     "data": {
      "text/html": [
       "<div>\n",
       "<style scoped>\n",
       "    .dataframe tbody tr th:only-of-type {\n",
       "        vertical-align: middle;\n",
       "    }\n",
       "\n",
       "    .dataframe tbody tr th {\n",
       "        vertical-align: top;\n",
       "    }\n",
       "\n",
       "    .dataframe thead th {\n",
       "        text-align: right;\n",
       "    }\n",
       "</style>\n",
       "<table border=\"1\" class=\"dataframe\">\n",
       "  <thead>\n",
       "    <tr style=\"text-align: right;\">\n",
       "      <th></th>\n",
       "      <th>FellowshipID</th>\n",
       "      <th>FirstName</th>\n",
       "      <th>Skills</th>\n",
       "      <th>Age</th>\n",
       "    </tr>\n",
       "  </thead>\n",
       "  <tbody>\n",
       "    <tr>\n",
       "      <th>0</th>\n",
       "      <td>1001</td>\n",
       "      <td>Frodo</td>\n",
       "      <td>Hiding</td>\n",
       "      <td>50</td>\n",
       "    </tr>\n",
       "    <tr>\n",
       "      <th>1</th>\n",
       "      <td>1002</td>\n",
       "      <td>Samwise</td>\n",
       "      <td>Gardening</td>\n",
       "      <td>39</td>\n",
       "    </tr>\n",
       "  </tbody>\n",
       "</table>\n",
       "</div>"
      ],
      "text/plain": [
       "   FellowshipID FirstName     Skills  Age\n",
       "0          1001     Frodo     Hiding   50\n",
       "1          1002   Samwise  Gardening   39"
      ]
     },
     "execution_count": 209,
     "metadata": {},
     "output_type": "execute_result"
    }
   ],
   "source": [
    "df1.merge(df2)"
   ]
  },
  {
   "cell_type": "code",
   "execution_count": 211,
   "id": "e67236ff",
   "metadata": {},
   "outputs": [
    {
     "data": {
      "text/html": [
       "<div>\n",
       "<style scoped>\n",
       "    .dataframe tbody tr th:only-of-type {\n",
       "        vertical-align: middle;\n",
       "    }\n",
       "\n",
       "    .dataframe tbody tr th {\n",
       "        vertical-align: top;\n",
       "    }\n",
       "\n",
       "    .dataframe thead th {\n",
       "        text-align: right;\n",
       "    }\n",
       "</style>\n",
       "<table border=\"1\" class=\"dataframe\">\n",
       "  <thead>\n",
       "    <tr style=\"text-align: right;\">\n",
       "      <th></th>\n",
       "      <th>FellowshipID</th>\n",
       "      <th>FirstName</th>\n",
       "      <th>Skills</th>\n",
       "      <th>Age</th>\n",
       "    </tr>\n",
       "  </thead>\n",
       "  <tbody>\n",
       "    <tr>\n",
       "      <th>0</th>\n",
       "      <td>1001</td>\n",
       "      <td>Frodo</td>\n",
       "      <td>Hiding</td>\n",
       "      <td>50</td>\n",
       "    </tr>\n",
       "    <tr>\n",
       "      <th>1</th>\n",
       "      <td>1002</td>\n",
       "      <td>Samwise</td>\n",
       "      <td>Gardening</td>\n",
       "      <td>39</td>\n",
       "    </tr>\n",
       "    <tr>\n",
       "      <th>2</th>\n",
       "      <td>1006</td>\n",
       "      <td>Legolas</td>\n",
       "      <td>NaN</td>\n",
       "      <td>2931</td>\n",
       "    </tr>\n",
       "    <tr>\n",
       "      <th>3</th>\n",
       "      <td>1007</td>\n",
       "      <td>Elrond</td>\n",
       "      <td>NaN</td>\n",
       "      <td>6520</td>\n",
       "    </tr>\n",
       "    <tr>\n",
       "      <th>4</th>\n",
       "      <td>1008</td>\n",
       "      <td>Barromir</td>\n",
       "      <td>NaN</td>\n",
       "      <td>51</td>\n",
       "    </tr>\n",
       "  </tbody>\n",
       "</table>\n",
       "</div>"
      ],
      "text/plain": [
       "   FellowshipID FirstName     Skills   Age\n",
       "0          1001     Frodo     Hiding    50\n",
       "1          1002   Samwise  Gardening    39\n",
       "2          1006   Legolas        NaN  2931\n",
       "3          1007    Elrond        NaN  6520\n",
       "4          1008  Barromir        NaN    51"
      ]
     },
     "execution_count": 211,
     "metadata": {},
     "output_type": "execute_result"
    }
   ],
   "source": [
    "# Before you run how many rows you would get???\n",
    "\n",
    "df1.merge(df2, how = 'right')"
   ]
  },
  {
   "cell_type": "code",
   "execution_count": 212,
   "id": "1d147a59",
   "metadata": {},
   "outputs": [
    {
     "data": {
      "text/html": [
       "<div>\n",
       "<style scoped>\n",
       "    .dataframe tbody tr th:only-of-type {\n",
       "        vertical-align: middle;\n",
       "    }\n",
       "\n",
       "    .dataframe tbody tr th {\n",
       "        vertical-align: top;\n",
       "    }\n",
       "\n",
       "    .dataframe thead th {\n",
       "        text-align: right;\n",
       "    }\n",
       "</style>\n",
       "<table border=\"1\" class=\"dataframe\">\n",
       "  <thead>\n",
       "    <tr style=\"text-align: right;\">\n",
       "      <th></th>\n",
       "      <th>FellowshipID</th>\n",
       "      <th>FirstName</th>\n",
       "      <th>Skills</th>\n",
       "      <th>Age</th>\n",
       "    </tr>\n",
       "  </thead>\n",
       "  <tbody>\n",
       "    <tr>\n",
       "      <th>0</th>\n",
       "      <td>1001</td>\n",
       "      <td>Frodo</td>\n",
       "      <td>Hiding</td>\n",
       "      <td>50.0</td>\n",
       "    </tr>\n",
       "    <tr>\n",
       "      <th>1</th>\n",
       "      <td>1002</td>\n",
       "      <td>Samwise</td>\n",
       "      <td>Gardening</td>\n",
       "      <td>39.0</td>\n",
       "    </tr>\n",
       "    <tr>\n",
       "      <th>2</th>\n",
       "      <td>1003</td>\n",
       "      <td>Gandalf</td>\n",
       "      <td>Spells</td>\n",
       "      <td>NaN</td>\n",
       "    </tr>\n",
       "    <tr>\n",
       "      <th>3</th>\n",
       "      <td>1004</td>\n",
       "      <td>Pippin</td>\n",
       "      <td>Fireworks</td>\n",
       "      <td>NaN</td>\n",
       "    </tr>\n",
       "    <tr>\n",
       "      <th>4</th>\n",
       "      <td>1006</td>\n",
       "      <td>Legolas</td>\n",
       "      <td>NaN</td>\n",
       "      <td>2931.0</td>\n",
       "    </tr>\n",
       "    <tr>\n",
       "      <th>5</th>\n",
       "      <td>1007</td>\n",
       "      <td>Elrond</td>\n",
       "      <td>NaN</td>\n",
       "      <td>6520.0</td>\n",
       "    </tr>\n",
       "    <tr>\n",
       "      <th>6</th>\n",
       "      <td>1008</td>\n",
       "      <td>Barromir</td>\n",
       "      <td>NaN</td>\n",
       "      <td>51.0</td>\n",
       "    </tr>\n",
       "  </tbody>\n",
       "</table>\n",
       "</div>"
      ],
      "text/plain": [
       "   FellowshipID FirstName     Skills     Age\n",
       "0          1001     Frodo     Hiding    50.0\n",
       "1          1002   Samwise  Gardening    39.0\n",
       "2          1003   Gandalf     Spells     NaN\n",
       "3          1004    Pippin  Fireworks     NaN\n",
       "4          1006   Legolas        NaN  2931.0\n",
       "5          1007    Elrond        NaN  6520.0\n",
       "6          1008  Barromir        NaN    51.0"
      ]
     },
     "execution_count": 212,
     "metadata": {},
     "output_type": "execute_result"
    }
   ],
   "source": [
    "# How many rows??\n",
    "\n",
    "pd.merge(df1, df2, how='outer', on=['FellowshipID', 'FirstName'])"
   ]
  },
  {
   "cell_type": "markdown",
   "id": "33b00fd2",
   "metadata": {},
   "source": [
    "## Datetime\n",
    "\n",
    "\n",
    "- time: The date in string format\n",
    "\n",
    "- tavg: The average air temperature in Celsius, as a float\n",
    "\n",
    "- tmin: The minimum air temperature in Celsius, as a float\n",
    "\n",
    "- tmax: The maximum air temperature in Celsius, as a float\n",
    "\n",
    "- prcp: The daily precipitation total in millimeters, as a float\n",
    "\n",
    "- wdir: The average wind direction in degrees, as a float\n",
    "\n",
    "- wspd: The average wind speed in kilometers per hour, as a float\n",
    "\n",
    "- pres: The average sea-level air pressure in hectopascals, as a float"
   ]
  },
  {
   "cell_type": "code",
   "execution_count": 213,
   "id": "0003ec0e",
   "metadata": {},
   "outputs": [],
   "source": [
    "weather = pd.read_csv('boston_weather_data.csv')"
   ]
  },
  {
   "cell_type": "code",
   "execution_count": 214,
   "id": "5f76d8c8",
   "metadata": {},
   "outputs": [
    {
     "data": {
      "text/html": [
       "<div>\n",
       "<style scoped>\n",
       "    .dataframe tbody tr th:only-of-type {\n",
       "        vertical-align: middle;\n",
       "    }\n",
       "\n",
       "    .dataframe tbody tr th {\n",
       "        vertical-align: top;\n",
       "    }\n",
       "\n",
       "    .dataframe thead th {\n",
       "        text-align: right;\n",
       "    }\n",
       "</style>\n",
       "<table border=\"1\" class=\"dataframe\">\n",
       "  <thead>\n",
       "    <tr style=\"text-align: right;\">\n",
       "      <th></th>\n",
       "      <th>time</th>\n",
       "      <th>tavg</th>\n",
       "      <th>tmin</th>\n",
       "      <th>tmax</th>\n",
       "      <th>prcp</th>\n",
       "      <th>wdir</th>\n",
       "      <th>wspd</th>\n",
       "      <th>pres</th>\n",
       "    </tr>\n",
       "  </thead>\n",
       "  <tbody>\n",
       "    <tr>\n",
       "      <th>0</th>\n",
       "      <td>2013-03-01</td>\n",
       "      <td>3.2</td>\n",
       "      <td>1.1</td>\n",
       "      <td>5.0</td>\n",
       "      <td>0.0</td>\n",
       "      <td>342.0</td>\n",
       "      <td>15.1</td>\n",
       "      <td>1002.7</td>\n",
       "    </tr>\n",
       "    <tr>\n",
       "      <th>1</th>\n",
       "      <td>2013-03-02</td>\n",
       "      <td>3.1</td>\n",
       "      <td>1.1</td>\n",
       "      <td>5.6</td>\n",
       "      <td>0.0</td>\n",
       "      <td>307.0</td>\n",
       "      <td>14.4</td>\n",
       "      <td>1004.2</td>\n",
       "    </tr>\n",
       "    <tr>\n",
       "      <th>2</th>\n",
       "      <td>2013-03-03</td>\n",
       "      <td>2.6</td>\n",
       "      <td>0.6</td>\n",
       "      <td>6.1</td>\n",
       "      <td>0.0</td>\n",
       "      <td>NaN</td>\n",
       "      <td>14.4</td>\n",
       "      <td>1002.6</td>\n",
       "    </tr>\n",
       "    <tr>\n",
       "      <th>3</th>\n",
       "      <td>2013-03-04</td>\n",
       "      <td>1.8</td>\n",
       "      <td>-0.6</td>\n",
       "      <td>5.0</td>\n",
       "      <td>0.0</td>\n",
       "      <td>303.0</td>\n",
       "      <td>28.1</td>\n",
       "      <td>1003.0</td>\n",
       "    </tr>\n",
       "    <tr>\n",
       "      <th>4</th>\n",
       "      <td>2013-03-05</td>\n",
       "      <td>2.9</td>\n",
       "      <td>0.0</td>\n",
       "      <td>6.1</td>\n",
       "      <td>0.0</td>\n",
       "      <td>NaN</td>\n",
       "      <td>16.6</td>\n",
       "      <td>1013.5</td>\n",
       "    </tr>\n",
       "  </tbody>\n",
       "</table>\n",
       "</div>"
      ],
      "text/plain": [
       "         time  tavg  tmin  tmax  prcp   wdir  wspd    pres\n",
       "0  2013-03-01   3.2   1.1   5.0   0.0  342.0  15.1  1002.7\n",
       "1  2013-03-02   3.1   1.1   5.6   0.0  307.0  14.4  1004.2\n",
       "2  2013-03-03   2.6   0.6   6.1   0.0    NaN  14.4  1002.6\n",
       "3  2013-03-04   1.8  -0.6   5.0   0.0  303.0  28.1  1003.0\n",
       "4  2013-03-05   2.9   0.0   6.1   0.0    NaN  16.6  1013.5"
      ]
     },
     "execution_count": 214,
     "metadata": {},
     "output_type": "execute_result"
    }
   ],
   "source": [
    "weather.head()"
   ]
  },
  {
   "cell_type": "code",
   "execution_count": 216,
   "id": "c8c78d0a",
   "metadata": {},
   "outputs": [
    {
     "name": "stdout",
     "output_type": "stream",
     "text": [
      "<class 'pandas.core.frame.DataFrame'>\n",
      "RangeIndex: 3653 entries, 0 to 3652\n",
      "Data columns (total 8 columns):\n",
      " #   Column  Non-Null Count  Dtype  \n",
      "---  ------  --------------  -----  \n",
      " 0   time    3653 non-null   object \n",
      " 1   tavg    3652 non-null   float64\n",
      " 2   tmin    3653 non-null   float64\n",
      " 3   tmax    3653 non-null   float64\n",
      " 4   prcp    3653 non-null   float64\n",
      " 5   wdir    3066 non-null   float64\n",
      " 6   wspd    3653 non-null   float64\n",
      " 7   pres    3492 non-null   float64\n",
      "dtypes: float64(7), object(1)\n",
      "memory usage: 228.4+ KB\n"
     ]
    }
   ],
   "source": [
    "weather.info()"
   ]
  },
  {
   "cell_type": "code",
   "execution_count": 74,
   "id": "8de35598",
   "metadata": {},
   "outputs": [
    {
     "name": "stdout",
     "output_type": "stream",
     "text": [
      "<class 'pandas.core.frame.DataFrame'>\n",
      "RangeIndex: 3653 entries, 0 to 3652\n",
      "Data columns (total 8 columns):\n",
      " #   Column  Non-Null Count  Dtype  \n",
      "---  ------  --------------  -----  \n",
      " 0   time    3653 non-null   object \n",
      " 1   tavg    3652 non-null   float64\n",
      " 2   tmin    3653 non-null   float64\n",
      " 3   tmax    3653 non-null   float64\n",
      " 4   prcp    3653 non-null   float64\n",
      " 5   wdir    3066 non-null   float64\n",
      " 6   wspd    3653 non-null   float64\n",
      " 7   pres    3492 non-null   float64\n",
      "dtypes: float64(7), object(1)\n",
      "memory usage: 228.4+ KB\n"
     ]
    }
   ],
   "source": [
    "weather.info()"
   ]
  },
  {
   "cell_type": "code",
   "execution_count": 217,
   "id": "cfc19377",
   "metadata": {},
   "outputs": [],
   "source": [
    "# Convert 'time' column to datetime format in order to take advantage of built-in useful Pandas functions\n",
    "\n",
    "weather['time'] = pd.to_datetime(weather['time'])"
   ]
  },
  {
   "cell_type": "code",
   "execution_count": 218,
   "id": "83d45168",
   "metadata": {},
   "outputs": [
    {
     "name": "stdout",
     "output_type": "stream",
     "text": [
      "<class 'pandas.core.frame.DataFrame'>\n",
      "RangeIndex: 3653 entries, 0 to 3652\n",
      "Data columns (total 8 columns):\n",
      " #   Column  Non-Null Count  Dtype         \n",
      "---  ------  --------------  -----         \n",
      " 0   time    3653 non-null   datetime64[ns]\n",
      " 1   tavg    3652 non-null   float64       \n",
      " 2   tmin    3653 non-null   float64       \n",
      " 3   tmax    3653 non-null   float64       \n",
      " 4   prcp    3653 non-null   float64       \n",
      " 5   wdir    3066 non-null   float64       \n",
      " 6   wspd    3653 non-null   float64       \n",
      " 7   pres    3492 non-null   float64       \n",
      "dtypes: datetime64[ns](1), float64(7)\n",
      "memory usage: 228.4 KB\n"
     ]
    }
   ],
   "source": [
    "weather.info()"
   ]
  },
  {
   "cell_type": "code",
   "execution_count": 219,
   "id": "b0ff61c4",
   "metadata": {},
   "outputs": [
    {
     "data": {
      "text/html": [
       "<div>\n",
       "<style scoped>\n",
       "    .dataframe tbody tr th:only-of-type {\n",
       "        vertical-align: middle;\n",
       "    }\n",
       "\n",
       "    .dataframe tbody tr th {\n",
       "        vertical-align: top;\n",
       "    }\n",
       "\n",
       "    .dataframe thead th {\n",
       "        text-align: right;\n",
       "    }\n",
       "</style>\n",
       "<table border=\"1\" class=\"dataframe\">\n",
       "  <thead>\n",
       "    <tr style=\"text-align: right;\">\n",
       "      <th></th>\n",
       "      <th>time</th>\n",
       "      <th>tavg</th>\n",
       "      <th>tmin</th>\n",
       "      <th>tmax</th>\n",
       "      <th>prcp</th>\n",
       "      <th>wdir</th>\n",
       "      <th>wspd</th>\n",
       "      <th>pres</th>\n",
       "    </tr>\n",
       "  </thead>\n",
       "  <tbody>\n",
       "    <tr>\n",
       "      <th>0</th>\n",
       "      <td>2013-03-01</td>\n",
       "      <td>3.2</td>\n",
       "      <td>1.1</td>\n",
       "      <td>5.0</td>\n",
       "      <td>0.0</td>\n",
       "      <td>342.0</td>\n",
       "      <td>15.1</td>\n",
       "      <td>1002.7</td>\n",
       "    </tr>\n",
       "    <tr>\n",
       "      <th>1</th>\n",
       "      <td>2013-03-02</td>\n",
       "      <td>3.1</td>\n",
       "      <td>1.1</td>\n",
       "      <td>5.6</td>\n",
       "      <td>0.0</td>\n",
       "      <td>307.0</td>\n",
       "      <td>14.4</td>\n",
       "      <td>1004.2</td>\n",
       "    </tr>\n",
       "    <tr>\n",
       "      <th>2</th>\n",
       "      <td>2013-03-03</td>\n",
       "      <td>2.6</td>\n",
       "      <td>0.6</td>\n",
       "      <td>6.1</td>\n",
       "      <td>0.0</td>\n",
       "      <td>NaN</td>\n",
       "      <td>14.4</td>\n",
       "      <td>1002.6</td>\n",
       "    </tr>\n",
       "    <tr>\n",
       "      <th>3</th>\n",
       "      <td>2013-03-04</td>\n",
       "      <td>1.8</td>\n",
       "      <td>-0.6</td>\n",
       "      <td>5.0</td>\n",
       "      <td>0.0</td>\n",
       "      <td>303.0</td>\n",
       "      <td>28.1</td>\n",
       "      <td>1003.0</td>\n",
       "    </tr>\n",
       "    <tr>\n",
       "      <th>4</th>\n",
       "      <td>2013-03-05</td>\n",
       "      <td>2.9</td>\n",
       "      <td>0.0</td>\n",
       "      <td>6.1</td>\n",
       "      <td>0.0</td>\n",
       "      <td>NaN</td>\n",
       "      <td>16.6</td>\n",
       "      <td>1013.5</td>\n",
       "    </tr>\n",
       "  </tbody>\n",
       "</table>\n",
       "</div>"
      ],
      "text/plain": [
       "        time  tavg  tmin  tmax  prcp   wdir  wspd    pres\n",
       "0 2013-03-01   3.2   1.1   5.0   0.0  342.0  15.1  1002.7\n",
       "1 2013-03-02   3.1   1.1   5.6   0.0  307.0  14.4  1004.2\n",
       "2 2013-03-03   2.6   0.6   6.1   0.0    NaN  14.4  1002.6\n",
       "3 2013-03-04   1.8  -0.6   5.0   0.0  303.0  28.1  1003.0\n",
       "4 2013-03-05   2.9   0.0   6.1   0.0    NaN  16.6  1013.5"
      ]
     },
     "execution_count": 219,
     "metadata": {},
     "output_type": "execute_result"
    }
   ],
   "source": [
    "weather.head()"
   ]
  },
  {
   "cell_type": "code",
   "execution_count": 220,
   "id": "1398c00a",
   "metadata": {},
   "outputs": [],
   "source": [
    "# Create a column year by extracting the year from the datetime column\n",
    "\n",
    "weather['year'] = weather['time'].dt.year"
   ]
  },
  {
   "cell_type": "code",
   "execution_count": 221,
   "id": "52252941",
   "metadata": {},
   "outputs": [
    {
     "data": {
      "text/html": [
       "<div>\n",
       "<style scoped>\n",
       "    .dataframe tbody tr th:only-of-type {\n",
       "        vertical-align: middle;\n",
       "    }\n",
       "\n",
       "    .dataframe tbody tr th {\n",
       "        vertical-align: top;\n",
       "    }\n",
       "\n",
       "    .dataframe thead th {\n",
       "        text-align: right;\n",
       "    }\n",
       "</style>\n",
       "<table border=\"1\" class=\"dataframe\">\n",
       "  <thead>\n",
       "    <tr style=\"text-align: right;\">\n",
       "      <th></th>\n",
       "      <th>time</th>\n",
       "      <th>tavg</th>\n",
       "      <th>tmin</th>\n",
       "      <th>tmax</th>\n",
       "      <th>prcp</th>\n",
       "      <th>wdir</th>\n",
       "      <th>wspd</th>\n",
       "      <th>pres</th>\n",
       "      <th>year</th>\n",
       "    </tr>\n",
       "  </thead>\n",
       "  <tbody>\n",
       "    <tr>\n",
       "      <th>0</th>\n",
       "      <td>2013-03-01</td>\n",
       "      <td>3.2</td>\n",
       "      <td>1.1</td>\n",
       "      <td>5.0</td>\n",
       "      <td>0.0</td>\n",
       "      <td>342.0</td>\n",
       "      <td>15.1</td>\n",
       "      <td>1002.7</td>\n",
       "      <td>2013</td>\n",
       "    </tr>\n",
       "    <tr>\n",
       "      <th>1</th>\n",
       "      <td>2013-03-02</td>\n",
       "      <td>3.1</td>\n",
       "      <td>1.1</td>\n",
       "      <td>5.6</td>\n",
       "      <td>0.0</td>\n",
       "      <td>307.0</td>\n",
       "      <td>14.4</td>\n",
       "      <td>1004.2</td>\n",
       "      <td>2013</td>\n",
       "    </tr>\n",
       "    <tr>\n",
       "      <th>2</th>\n",
       "      <td>2013-03-03</td>\n",
       "      <td>2.6</td>\n",
       "      <td>0.6</td>\n",
       "      <td>6.1</td>\n",
       "      <td>0.0</td>\n",
       "      <td>NaN</td>\n",
       "      <td>14.4</td>\n",
       "      <td>1002.6</td>\n",
       "      <td>2013</td>\n",
       "    </tr>\n",
       "    <tr>\n",
       "      <th>3</th>\n",
       "      <td>2013-03-04</td>\n",
       "      <td>1.8</td>\n",
       "      <td>-0.6</td>\n",
       "      <td>5.0</td>\n",
       "      <td>0.0</td>\n",
       "      <td>303.0</td>\n",
       "      <td>28.1</td>\n",
       "      <td>1003.0</td>\n",
       "      <td>2013</td>\n",
       "    </tr>\n",
       "    <tr>\n",
       "      <th>4</th>\n",
       "      <td>2013-03-05</td>\n",
       "      <td>2.9</td>\n",
       "      <td>0.0</td>\n",
       "      <td>6.1</td>\n",
       "      <td>0.0</td>\n",
       "      <td>NaN</td>\n",
       "      <td>16.6</td>\n",
       "      <td>1013.5</td>\n",
       "      <td>2013</td>\n",
       "    </tr>\n",
       "    <tr>\n",
       "      <th>...</th>\n",
       "      <td>...</td>\n",
       "      <td>...</td>\n",
       "      <td>...</td>\n",
       "      <td>...</td>\n",
       "      <td>...</td>\n",
       "      <td>...</td>\n",
       "      <td>...</td>\n",
       "      <td>...</td>\n",
       "      <td>...</td>\n",
       "    </tr>\n",
       "    <tr>\n",
       "      <th>3648</th>\n",
       "      <td>2023-02-25</td>\n",
       "      <td>-7.9</td>\n",
       "      <td>-10.6</td>\n",
       "      <td>-6.7</td>\n",
       "      <td>0.3</td>\n",
       "      <td>313.0</td>\n",
       "      <td>11.9</td>\n",
       "      <td>1029.5</td>\n",
       "      <td>2023</td>\n",
       "    </tr>\n",
       "    <tr>\n",
       "      <th>3649</th>\n",
       "      <td>2023-02-26</td>\n",
       "      <td>-4.2</td>\n",
       "      <td>-7.8</td>\n",
       "      <td>3.9</td>\n",
       "      <td>0.0</td>\n",
       "      <td>268.0</td>\n",
       "      <td>11.9</td>\n",
       "      <td>1012.6</td>\n",
       "      <td>2023</td>\n",
       "    </tr>\n",
       "    <tr>\n",
       "      <th>3650</th>\n",
       "      <td>2023-02-27</td>\n",
       "      <td>-1.7</td>\n",
       "      <td>-2.8</td>\n",
       "      <td>-0.6</td>\n",
       "      <td>0.0</td>\n",
       "      <td>46.0</td>\n",
       "      <td>18.7</td>\n",
       "      <td>1014.9</td>\n",
       "      <td>2023</td>\n",
       "    </tr>\n",
       "    <tr>\n",
       "      <th>3651</th>\n",
       "      <td>2023-02-28</td>\n",
       "      <td>0.6</td>\n",
       "      <td>-1.7</td>\n",
       "      <td>2.2</td>\n",
       "      <td>7.1</td>\n",
       "      <td>86.0</td>\n",
       "      <td>23.8</td>\n",
       "      <td>1010.7</td>\n",
       "      <td>2023</td>\n",
       "    </tr>\n",
       "    <tr>\n",
       "      <th>3652</th>\n",
       "      <td>2023-03-01</td>\n",
       "      <td>2.4</td>\n",
       "      <td>0.6</td>\n",
       "      <td>5.6</td>\n",
       "      <td>0.0</td>\n",
       "      <td>12.0</td>\n",
       "      <td>14.0</td>\n",
       "      <td>1019.1</td>\n",
       "      <td>2023</td>\n",
       "    </tr>\n",
       "  </tbody>\n",
       "</table>\n",
       "<p>3653 rows × 9 columns</p>\n",
       "</div>"
      ],
      "text/plain": [
       "           time  tavg  tmin  tmax  prcp   wdir  wspd    pres  year\n",
       "0    2013-03-01   3.2   1.1   5.0   0.0  342.0  15.1  1002.7  2013\n",
       "1    2013-03-02   3.1   1.1   5.6   0.0  307.0  14.4  1004.2  2013\n",
       "2    2013-03-03   2.6   0.6   6.1   0.0    NaN  14.4  1002.6  2013\n",
       "3    2013-03-04   1.8  -0.6   5.0   0.0  303.0  28.1  1003.0  2013\n",
       "4    2013-03-05   2.9   0.0   6.1   0.0    NaN  16.6  1013.5  2013\n",
       "...         ...   ...   ...   ...   ...    ...   ...     ...   ...\n",
       "3648 2023-02-25  -7.9 -10.6  -6.7   0.3  313.0  11.9  1029.5  2023\n",
       "3649 2023-02-26  -4.2  -7.8   3.9   0.0  268.0  11.9  1012.6  2023\n",
       "3650 2023-02-27  -1.7  -2.8  -0.6   0.0   46.0  18.7  1014.9  2023\n",
       "3651 2023-02-28   0.6  -1.7   2.2   7.1   86.0  23.8  1010.7  2023\n",
       "3652 2023-03-01   2.4   0.6   5.6   0.0   12.0  14.0  1019.1  2023\n",
       "\n",
       "[3653 rows x 9 columns]"
      ]
     },
     "execution_count": 221,
     "metadata": {},
     "output_type": "execute_result"
    }
   ],
   "source": [
    "weather"
   ]
  },
  {
   "cell_type": "code",
   "execution_count": 222,
   "id": "5b9246fc",
   "metadata": {},
   "outputs": [
    {
     "data": {
      "text/plain": [
       "0       3\n",
       "1       3\n",
       "2       3\n",
       "3       3\n",
       "4       3\n",
       "       ..\n",
       "3648    2\n",
       "3649    2\n",
       "3650    2\n",
       "3651    2\n",
       "3652    3\n",
       "Name: time, Length: 3653, dtype: int32"
      ]
     },
     "execution_count": 222,
     "metadata": {},
     "output_type": "execute_result"
    }
   ],
   "source": [
    "# Also we can extract the month and other temporal info\n",
    "weather['time'].dt.month"
   ]
  },
  {
   "cell_type": "code",
   "execution_count": 223,
   "id": "da6951b2",
   "metadata": {},
   "outputs": [
    {
     "data": {
      "text/html": [
       "<div>\n",
       "<style scoped>\n",
       "    .dataframe tbody tr th:only-of-type {\n",
       "        vertical-align: middle;\n",
       "    }\n",
       "\n",
       "    .dataframe tbody tr th {\n",
       "        vertical-align: top;\n",
       "    }\n",
       "\n",
       "    .dataframe thead th {\n",
       "        text-align: right;\n",
       "    }\n",
       "</style>\n",
       "<table border=\"1\" class=\"dataframe\">\n",
       "  <thead>\n",
       "    <tr style=\"text-align: right;\">\n",
       "      <th></th>\n",
       "      <th>time</th>\n",
       "      <th>tavg</th>\n",
       "      <th>tmin</th>\n",
       "      <th>tmax</th>\n",
       "      <th>prcp</th>\n",
       "      <th>wdir</th>\n",
       "      <th>wspd</th>\n",
       "      <th>pres</th>\n",
       "      <th>year</th>\n",
       "    </tr>\n",
       "  </thead>\n",
       "  <tbody>\n",
       "    <tr>\n",
       "      <th>0</th>\n",
       "      <td>2013-03-01</td>\n",
       "      <td>3.2</td>\n",
       "      <td>1.1</td>\n",
       "      <td>5.0</td>\n",
       "      <td>0.0</td>\n",
       "      <td>342.0</td>\n",
       "      <td>15.1</td>\n",
       "      <td>1002.7</td>\n",
       "      <td>2013</td>\n",
       "    </tr>\n",
       "    <tr>\n",
       "      <th>1</th>\n",
       "      <td>2013-03-02</td>\n",
       "      <td>3.1</td>\n",
       "      <td>1.1</td>\n",
       "      <td>5.6</td>\n",
       "      <td>0.0</td>\n",
       "      <td>307.0</td>\n",
       "      <td>14.4</td>\n",
       "      <td>1004.2</td>\n",
       "      <td>2013</td>\n",
       "    </tr>\n",
       "    <tr>\n",
       "      <th>2</th>\n",
       "      <td>2013-03-03</td>\n",
       "      <td>2.6</td>\n",
       "      <td>0.6</td>\n",
       "      <td>6.1</td>\n",
       "      <td>0.0</td>\n",
       "      <td>NaN</td>\n",
       "      <td>14.4</td>\n",
       "      <td>1002.6</td>\n",
       "      <td>2013</td>\n",
       "    </tr>\n",
       "    <tr>\n",
       "      <th>3</th>\n",
       "      <td>2013-03-04</td>\n",
       "      <td>1.8</td>\n",
       "      <td>-0.6</td>\n",
       "      <td>5.0</td>\n",
       "      <td>0.0</td>\n",
       "      <td>303.0</td>\n",
       "      <td>28.1</td>\n",
       "      <td>1003.0</td>\n",
       "      <td>2013</td>\n",
       "    </tr>\n",
       "    <tr>\n",
       "      <th>4</th>\n",
       "      <td>2013-03-05</td>\n",
       "      <td>2.9</td>\n",
       "      <td>0.0</td>\n",
       "      <td>6.1</td>\n",
       "      <td>0.0</td>\n",
       "      <td>NaN</td>\n",
       "      <td>16.6</td>\n",
       "      <td>1013.5</td>\n",
       "      <td>2013</td>\n",
       "    </tr>\n",
       "    <tr>\n",
       "      <th>...</th>\n",
       "      <td>...</td>\n",
       "      <td>...</td>\n",
       "      <td>...</td>\n",
       "      <td>...</td>\n",
       "      <td>...</td>\n",
       "      <td>...</td>\n",
       "      <td>...</td>\n",
       "      <td>...</td>\n",
       "      <td>...</td>\n",
       "    </tr>\n",
       "    <tr>\n",
       "      <th>3648</th>\n",
       "      <td>2023-02-25</td>\n",
       "      <td>-7.9</td>\n",
       "      <td>-10.6</td>\n",
       "      <td>-6.7</td>\n",
       "      <td>0.3</td>\n",
       "      <td>313.0</td>\n",
       "      <td>11.9</td>\n",
       "      <td>1029.5</td>\n",
       "      <td>2023</td>\n",
       "    </tr>\n",
       "    <tr>\n",
       "      <th>3649</th>\n",
       "      <td>2023-02-26</td>\n",
       "      <td>-4.2</td>\n",
       "      <td>-7.8</td>\n",
       "      <td>3.9</td>\n",
       "      <td>0.0</td>\n",
       "      <td>268.0</td>\n",
       "      <td>11.9</td>\n",
       "      <td>1012.6</td>\n",
       "      <td>2023</td>\n",
       "    </tr>\n",
       "    <tr>\n",
       "      <th>3650</th>\n",
       "      <td>2023-02-27</td>\n",
       "      <td>-1.7</td>\n",
       "      <td>-2.8</td>\n",
       "      <td>-0.6</td>\n",
       "      <td>0.0</td>\n",
       "      <td>46.0</td>\n",
       "      <td>18.7</td>\n",
       "      <td>1014.9</td>\n",
       "      <td>2023</td>\n",
       "    </tr>\n",
       "    <tr>\n",
       "      <th>3651</th>\n",
       "      <td>2023-02-28</td>\n",
       "      <td>0.6</td>\n",
       "      <td>-1.7</td>\n",
       "      <td>2.2</td>\n",
       "      <td>7.1</td>\n",
       "      <td>86.0</td>\n",
       "      <td>23.8</td>\n",
       "      <td>1010.7</td>\n",
       "      <td>2023</td>\n",
       "    </tr>\n",
       "    <tr>\n",
       "      <th>3652</th>\n",
       "      <td>2023-03-01</td>\n",
       "      <td>2.4</td>\n",
       "      <td>0.6</td>\n",
       "      <td>5.6</td>\n",
       "      <td>0.0</td>\n",
       "      <td>12.0</td>\n",
       "      <td>14.0</td>\n",
       "      <td>1019.1</td>\n",
       "      <td>2023</td>\n",
       "    </tr>\n",
       "  </tbody>\n",
       "</table>\n",
       "<p>3653 rows × 9 columns</p>\n",
       "</div>"
      ],
      "text/plain": [
       "           time  tavg  tmin  tmax  prcp   wdir  wspd    pres  year\n",
       "0    2013-03-01   3.2   1.1   5.0   0.0  342.0  15.1  1002.7  2013\n",
       "1    2013-03-02   3.1   1.1   5.6   0.0  307.0  14.4  1004.2  2013\n",
       "2    2013-03-03   2.6   0.6   6.1   0.0    NaN  14.4  1002.6  2013\n",
       "3    2013-03-04   1.8  -0.6   5.0   0.0  303.0  28.1  1003.0  2013\n",
       "4    2013-03-05   2.9   0.0   6.1   0.0    NaN  16.6  1013.5  2013\n",
       "...         ...   ...   ...   ...   ...    ...   ...     ...   ...\n",
       "3648 2023-02-25  -7.9 -10.6  -6.7   0.3  313.0  11.9  1029.5  2023\n",
       "3649 2023-02-26  -4.2  -7.8   3.9   0.0  268.0  11.9  1012.6  2023\n",
       "3650 2023-02-27  -1.7  -2.8  -0.6   0.0   46.0  18.7  1014.9  2023\n",
       "3651 2023-02-28   0.6  -1.7   2.2   7.1   86.0  23.8  1010.7  2023\n",
       "3652 2023-03-01   2.4   0.6   5.6   0.0   12.0  14.0  1019.1  2023\n",
       "\n",
       "[3653 rows x 9 columns]"
      ]
     },
     "execution_count": 223,
     "metadata": {},
     "output_type": "execute_result"
    }
   ],
   "source": [
    "weather"
   ]
  },
  {
   "cell_type": "markdown",
   "id": "6c4f4320",
   "metadata": {},
   "source": [
    "### Resample\n",
    "\n",
    "- resample : helps to group the data by a chosen interval like week, year, etc..\n",
    "\n",
    "- In order to use resample method, you should set the datetime column as the index"
   ]
  },
  {
   "cell_type": "code",
   "execution_count": 224,
   "id": "90e92cb0",
   "metadata": {},
   "outputs": [],
   "source": [
    "weather.set_index('time', inplace=True)"
   ]
  },
  {
   "cell_type": "code",
   "execution_count": 225,
   "id": "91d36531",
   "metadata": {},
   "outputs": [
    {
     "data": {
      "text/html": [
       "<div>\n",
       "<style scoped>\n",
       "    .dataframe tbody tr th:only-of-type {\n",
       "        vertical-align: middle;\n",
       "    }\n",
       "\n",
       "    .dataframe tbody tr th {\n",
       "        vertical-align: top;\n",
       "    }\n",
       "\n",
       "    .dataframe thead th {\n",
       "        text-align: right;\n",
       "    }\n",
       "</style>\n",
       "<table border=\"1\" class=\"dataframe\">\n",
       "  <thead>\n",
       "    <tr style=\"text-align: right;\">\n",
       "      <th></th>\n",
       "      <th>tavg</th>\n",
       "      <th>tmin</th>\n",
       "      <th>tmax</th>\n",
       "      <th>prcp</th>\n",
       "      <th>wdir</th>\n",
       "      <th>wspd</th>\n",
       "      <th>pres</th>\n",
       "      <th>year</th>\n",
       "    </tr>\n",
       "    <tr>\n",
       "      <th>time</th>\n",
       "      <th></th>\n",
       "      <th></th>\n",
       "      <th></th>\n",
       "      <th></th>\n",
       "      <th></th>\n",
       "      <th></th>\n",
       "      <th></th>\n",
       "      <th></th>\n",
       "    </tr>\n",
       "  </thead>\n",
       "  <tbody>\n",
       "    <tr>\n",
       "      <th>2013-03-01</th>\n",
       "      <td>3.2</td>\n",
       "      <td>1.1</td>\n",
       "      <td>5.0</td>\n",
       "      <td>0.0</td>\n",
       "      <td>342.0</td>\n",
       "      <td>15.1</td>\n",
       "      <td>1002.7</td>\n",
       "      <td>2013</td>\n",
       "    </tr>\n",
       "    <tr>\n",
       "      <th>2013-03-02</th>\n",
       "      <td>3.1</td>\n",
       "      <td>1.1</td>\n",
       "      <td>5.6</td>\n",
       "      <td>0.0</td>\n",
       "      <td>307.0</td>\n",
       "      <td>14.4</td>\n",
       "      <td>1004.2</td>\n",
       "      <td>2013</td>\n",
       "    </tr>\n",
       "    <tr>\n",
       "      <th>2013-03-03</th>\n",
       "      <td>2.6</td>\n",
       "      <td>0.6</td>\n",
       "      <td>6.1</td>\n",
       "      <td>0.0</td>\n",
       "      <td>NaN</td>\n",
       "      <td>14.4</td>\n",
       "      <td>1002.6</td>\n",
       "      <td>2013</td>\n",
       "    </tr>\n",
       "    <tr>\n",
       "      <th>2013-03-04</th>\n",
       "      <td>1.8</td>\n",
       "      <td>-0.6</td>\n",
       "      <td>5.0</td>\n",
       "      <td>0.0</td>\n",
       "      <td>303.0</td>\n",
       "      <td>28.1</td>\n",
       "      <td>1003.0</td>\n",
       "      <td>2013</td>\n",
       "    </tr>\n",
       "    <tr>\n",
       "      <th>2013-03-05</th>\n",
       "      <td>2.9</td>\n",
       "      <td>0.0</td>\n",
       "      <td>6.1</td>\n",
       "      <td>0.0</td>\n",
       "      <td>NaN</td>\n",
       "      <td>16.6</td>\n",
       "      <td>1013.5</td>\n",
       "      <td>2013</td>\n",
       "    </tr>\n",
       "  </tbody>\n",
       "</table>\n",
       "</div>"
      ],
      "text/plain": [
       "            tavg  tmin  tmax  prcp   wdir  wspd    pres  year\n",
       "time                                                         \n",
       "2013-03-01   3.2   1.1   5.0   0.0  342.0  15.1  1002.7  2013\n",
       "2013-03-02   3.1   1.1   5.6   0.0  307.0  14.4  1004.2  2013\n",
       "2013-03-03   2.6   0.6   6.1   0.0    NaN  14.4  1002.6  2013\n",
       "2013-03-04   1.8  -0.6   5.0   0.0  303.0  28.1  1003.0  2013\n",
       "2013-03-05   2.9   0.0   6.1   0.0    NaN  16.6  1013.5  2013"
      ]
     },
     "execution_count": 225,
     "metadata": {},
     "output_type": "execute_result"
    }
   ],
   "source": [
    "weather.head()"
   ]
  },
  {
   "cell_type": "code",
   "execution_count": 226,
   "id": "abb6dcb4",
   "metadata": {},
   "outputs": [
    {
     "data": {
      "text/plain": [
       "<AxesSubplot:xlabel='time'>"
      ]
     },
     "execution_count": 226,
     "metadata": {},
     "output_type": "execute_result"
    },
    {
     "data": {
      "image/png": "[encoded data removed]",
      "text/plain": [
       "<Figure size 640x480 with 1 Axes>"
      ]
     },
     "metadata": {},
     "output_type": "display_data"
    }
   ],
   "source": [
    "# Get the average wind speed by week or month or year and plot its evolution over time\n",
    "weather.resample('W')['wspd'].mean().plot()"
   ]
  },
  {
   "cell_type": "code",
   "execution_count": 227,
   "id": "90f0c5d6",
   "metadata": {},
   "outputs": [
    {
     "data": {
      "text/plain": [
       "<AxesSubplot:xlabel='time'>"
      ]
     },
     "execution_count": 227,
     "metadata": {},
     "output_type": "execute_result"
    },
    {
     "data": {
      "image/png": "[encoded data removed]",
      "text/plain": [
       "<Figure size 640x480 with 1 Axes>"
      ]
     },
     "metadata": {},
     "output_type": "display_data"
    }
   ],
   "source": [
    "weather.resample('M')['wspd'].mean().plot()"
   ]
  },
  {
   "cell_type": "code",
   "execution_count": 228,
   "id": "695d744b",
   "metadata": {},
   "outputs": [
    {
     "data": {
      "text/plain": [
       "<AxesSubplot:xlabel='time'>"
      ]
     },
     "execution_count": 228,
     "metadata": {},
     "output_type": "execute_result"
    },
    {
     "data": {
      "image/png": "[encoded data removed]",
      "text/plain": [
       "<Figure size 640x480 with 1 Axes>"
      ]
     },
     "metadata": {},
     "output_type": "display_data"
    }
   ],
   "source": [
    "weather.resample('Y')['wspd'].mean().plot()"
   ]
  },
  {
   "cell_type": "code",
   "execution_count": null,
   "id": "2a1b911f",
   "metadata": {},
   "outputs": [],
   "source": []
  },
  {
   "cell_type": "code",
   "execution_count": null,
   "id": "c94bfc2f",
   "metadata": {},
   "outputs": [],
   "source": []
  },
  {
   "cell_type": "code",
   "execution_count": null,
   "id": "78c90d1f",
   "metadata": {},
   "outputs": [],
   "source": []
  },
  {
   "cell_type": "code",
   "execution_count": null,
   "id": "b1f8aeb0",
   "metadata": {},
   "outputs": [],
   "source": []
  },
  {
   "cell_type": "code",
   "execution_count": null,
   "id": "68c55e9d",
   "metadata": {},
   "outputs": [],
   "source": []
  },
  {
   "cell_type": "code",
   "execution_count": null,
   "id": "556d8850",
   "metadata": {},
   "outputs": [],
   "source": []
  },
  {
   "cell_type": "code",
   "execution_count": null,
   "id": "c55eb9aa",
   "metadata": {},
   "outputs": [],
   "source": []
  },
  {
   "cell_type": "code",
   "execution_count": null,
   "id": "41c5b397",
   "metadata": {},
   "outputs": [],
   "source": []
  }
 ],
 "metadata": {
  "kernelspec": {
   "display_name": "Python 3 (ipykernel)",
   "language": "python",
   "name": "python3"
  },
  "language_info": {
   "codemirror_mode": {
    "name": "ipython",
    "version": 3
   },
   "file_extension": ".py",
   "mimetype": "text/x-python",
   "name": "python",
   "nbconvert_exporter": "python",
   "pygments_lexer": "ipython3",
   "version": "3.11.1"
  },
  "toc": {
   "base_numbering": 1,
   "nav_menu": {},
   "number_sections": true,
   "sideBar": true,
   "skip_h1_title": false,
   "title_cell": "Table of Contents",
   "title_sidebar": "Contents",
   "toc_cell": false,
   "toc_position": {
    "height": "calc(100% - 180px)",
    "left": "10px",
    "top": "150px",
    "width": "320px"
   },
   "toc_section_display": false,
   "toc_window_display": false
  }
 },
 "nbformat": 4,
 "nbformat_minor": 5
}
